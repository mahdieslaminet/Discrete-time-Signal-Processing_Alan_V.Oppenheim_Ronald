{
 "cells": [
  {
   "cell_type": "markdown",
   "metadata": {},
   "source": [
    "ORIGINAL"
   ]
  },
  {
   "cell_type": "code",
   "execution_count": 22,
   "metadata": {},
   "outputs": [
    {
     "name": "stdout",
     "output_type": "stream",
     "text": [
      "0-5 مقدمه\n",
      ".گسترش دادیم‎ Z ‏ در فصل ۲، ما نمایش تبدیل فوریه برای سیگنال‌ها و سیستم‌های زمان-گسسته را توسعه دادیم و در فصل ۳ این نمایش را به تبدیل\n",
      "در این فصل، ما نمایش و تحلیل‎ .(LTI) ‏ در هر دو فصل، تأکید بر روی تبدیلات و خواص آن‌ها بود، با ارائه پیش‌نمایشی مختصر از جزئیات استفاده آن‌ها در  \n",
      ".به‌طور مفصل‌تر توسعه می‌دهیم‎ Z ‏ را با استفاده از تبدیلات فوریه و‎ LTI ‏ سیستم های\n",
      ".و در فصل ۷ در مورد طراحی چنین سیستم‌هایی است‎ LTI ‏ این مطالب، پیش‌زمینه‌ای ضروری برای بحث در فصل ۶ در مورد پیاده‌سازی سیستم‌های\n",
      " .آن توصیف کرد‎ h[n] ‏ را می‌توان به‌طور کامل در حوزه زمان با پاسخ ضربه‌ای‎ LTI ‏ همان‌طور که در فصل ۲ بیان شد، یک سیستم\n",
      ":با مجموع کانولوشن زیر مشخص می‌شود‎ x[n] ‏ ناشی از یک ورودی‎ y[n] ‏خروجی\n"
     ]
    }
   ],
   "source": [
    "print(\"0-5 مقدمه\")\n",
    "print(\".گسترش دادیم\\u200E Z \\u200F در فصل ۲، ما نمایش تبدیل فوریه برای سیگنال‌ها و سیستم‌های زمان-گسسته را توسعه دادیم و در فصل ۳ این نمایش را به تبدیل\")\n",
    "print(\"در این فصل، ما نمایش و تحلیل\\u200E .(LTI) \\u200F در هر دو فصل، تأکید بر روی تبدیلات و خواص آن‌ها بود، با ارائه پیش‌نمایشی مختصر از جزئیات استفاده آن‌ها در  \")\n",
    "print(\".به‌طور مفصل‌تر توسعه می‌دهیم\\u200E Z \\u200F را با استفاده از تبدیلات فوریه و\\u200E LTI \\u200F سیستم های\")\n",
    "print(\".و در فصل ۷ در مورد طراحی چنین سیستم‌هایی است\\u200E LTI \\u200F این مطالب، پیش‌زمینه‌ای ضروری برای بحث در فصل ۶ در مورد پیاده‌سازی سیستم‌های\")\n",
    "print(\" .آن توصیف کرد\\u200E h[n] \\u200F را می‌توان به‌طور کامل در حوزه زمان با پاسخ ضربه‌ای\\u200E LTI \\u200F همان‌طور که در فصل ۲ بیان شد، یک سیستم\")\n",
    "print(\":با مجموع کانولوشن زیر مشخص می‌شود\\u200E x[n] \\u200F ناشی از یک ورودی\\u200E y[n] \\u200Fخروجی\")\n"
   ]
  },
  {
   "cell_type": "markdown",
   "metadata": {},
   "source": [
    "$$ y[n] = \\sum_{k=-\\infty}^{\\infty} x[k] h[n-k] $$\n"
   ]
  },
  {
   "cell_type": "code",
   "execution_count": 23,
   "metadata": {},
   "outputs": [
    {
     "name": "stdout",
     "output_type": "stream",
     "text": [
      "(معادله ۵.۱)\n",
      ".ارائه میدهد‎ LTI ‏از سوی دیگر، از آنجا که پاسخ فرکانسی و پاسخ ضربه‌ای مستقیماً از طریق تبدیل فوریه به یکدیگر مرتبط‌اند، پاسخ فرکانسی توصیف کاملی از    \n",
      ".را به‌عنوان تعمیمی از تبدیل فوریه توسعه دادیم‎ z ‏در فصل ۳، ما تبدیل\n",
      "به‎ LTI ‏خروجی یک سیستم‎ z ‏تبدیل \n",
      "ورودی‎ z ‏تبدیل \n",
      ":پاسخ ضربه‌ای سیستم به‌صورت زیر مرتبط است‎ z ‏و تبدیل \n"
     ]
    }
   ],
   "source": [
    "print(\"(معادله ۵.۱)\")\n",
    "print(\".ارائه میدهد\\u200E LTI \\u200Fاز سوی دیگر، از آنجا که پاسخ فرکانسی و پاسخ ضربه‌ای مستقیماً از طریق تبدیل فوریه به یکدیگر مرتبط‌اند، پاسخ فرکانسی توصیف کاملی از    \")\n",
    "print(\".را به‌عنوان تعمیمی از تبدیل فوریه توسعه دادیم\\u200E z \\u200Fدر فصل ۳، ما تبدیل\")\n",
    "print(\"به\\u200E LTI \\u200Fخروجی یک سیستم\\u200E z \\u200Fتبدیل \")\n",
    "print(\"ورودی\\u200E z \\u200Fتبدیل \")\n",
    "print(\":پاسخ ضربه‌ای سیستم به‌صورت زیر مرتبط است\\u200E z \\u200Fو تبدیل \")\n",
    "\n",
    "\n"
   ]
  },
  {
   "cell_type": "markdown",
   "metadata": {},
   "source": [
    "$$ Y(z) = H(z)X(z) $$\n"
   ]
  },
  {
   "cell_type": "code",
   "execution_count": 24,
   "metadata": {},
   "outputs": [
    {
     "name": "stdout",
     "output_type": "stream",
     "text": [
      "(معادله ۵.۲)\n",
      ".هستند و دارای ناحیه‌های همگرایی مناسبی هستند‎ h[z],x[z],y[z] ‏سیگنالهای‎ z ‏به ترتیب نشان‌دهنده تبدیل‌های‎ H[Z],X[Z],Y[Z] ‏که در آن\n",
      ".معمولاً به‌عنوان تابع تبدیل سیستم شناخته می‌شود‎ H[Z] ‏\n"
     ]
    }
   ],
   "source": [
    "print(\"(معادله ۵.۲)\")\n",
    "print(\".هستند و دارای ناحیه‌های همگرایی مناسبی هستند\\u200E h[z],x[z],y[z] \\u200Fسیگنالهای\\u200E z \\u200Fبه ترتیب نشان‌دهنده تبدیل‌های\\u200E H[Z],X[Z],Y[Z] \\u200Fکه در آن\")\n",
    "print(\".معمولاً به‌عنوان تابع تبدیل سیستم شناخته می‌شود\\u200E H[Z] \\u200F\")"
   ]
  },
  {
   "cell_type": "markdown",
   "metadata": {},
   "source": [
    "unicode\n"
   ]
  },
  {
   "cell_type": "code",
   "execution_count": 25,
   "metadata": {},
   "outputs": [
    {
     "name": "stdout",
     "output_type": "stream",
     "text": [
      "‎  ‏ \n"
     ]
    }
   ],
   "source": [
    "print(\"\\u200E  \\u200F \")\n"
   ]
  },
  {
   "cell_type": "markdown",
   "metadata": {},
   "source": [
    "  \n",
    "\n",
    "از آنجا که یک دنباله و تبدیل Z آن یک زوج منحصربه‌فرد تشکیل می‌دهند، نتیجه می‌شود که هر سیستم LTI (خطی تغییرناپذیر با زمان) به‌طور کامل توسط تابع سیستم آن مشخص می‌شود، البته با فرض همگرایی.  \n",
    "\n",
    "هم پاسخ فرکانسی، که معادل مقدار تابع سیستم روی دایره واحد است، و هم تابع سیستم که به‌طور کلی‌تر به‌عنوان تابعی از متغیر مختلط \\( z \\) تعریف می‌شود، در تحلیل و نمایش سیستم‌های LTI بسیار مفید هستند، زیرا می‌توانیم بسیاری از ویژگی‌های پاسخ سیستم را به‌راحتی از آن‌ها استنتاج کنیم."
   ]
  },
  {
   "cell_type": "markdown",
   "metadata": {},
   "source": []
  },
  {
   "cell_type": "markdown",
   "metadata": {},
   "source": [
    "## 5.1 LTI پاسخ فرکانسی سیستم‌های\n",
    "\n",
    "پاسخ فرکانسی $ H(e^{j\\omega}) $ یک سیستم LTI به عنوان بهره مختلط (مقدار ویژه) که سیستم به ورودی نمایی مختلط $ e^{j\\omega t} $ اعمال می‌کند، تعریف شده است (بخش 2.6 را ببینید). \n",
    "علاوه بر این، همان‌طور که در بخش 2.9.6 بحث شد، از آنجا که تبدیل فوریه یک دنباله، تجزیه‌ای به صورت ترکیب خطی از نمایی‌های مختلط را نشان می‌دهد، تبدیل‌های فوریه ورودی و خروجی سیستم به‌صورت زیر به هم مرتبط هستند:\n",
    "\n",
    "$$\n",
    "Y(e^{j\\omega}) = H(e^{j\\omega}) X(e^{j\\omega}) \\quad (5.3)\n",
    "$$\n",
    "\n",
    "که در آن $ X(e^{j\\omega}) $ و $ Y(e^{j\\omega}) $ به ترتیب تبدیل فوریه ورودی و خروجی سیستم هستند.\n",
    "\n",
    "### 5.1.1 فاز پاسخ فرکانسی و تأخیر گروهی\n",
    "\n",
    "پاسخ فرکانسی به طور کلی در هر فرکانس یک عدد مختلط است. وقتی پاسخ فرکانسی به فرم قطبی بیان شود، دامنه و فاز تبدیل‌های فوریه ورودی و خروجی سیستم به صورت زیر به هم مرتبط هستند:\n",
    "\n",
    "$$\n",
    "|Y(e^{j\\omega})| = |H(e^{j\\omega})| \\cdot |X(e^{j\\omega})| \\quad (5.4a)\n",
    "$$\n",
    "\n",
    "$$\n",
    "\\angle Y(e^{j\\omega}) = \\angle H(e^{j\\omega}) + \\angle X(e^{j\\omega}) \\quad (5.4b)\n",
    "$$\n",
    "\n",
    "که در آن $ |H(e^{j\\omega})| $ نشان‌دهنده پاسخ دامنه یا بهره سیستم است و $ \\angle H(e^{j\\omega}) $ نشان‌دهنده پاسخ فاز یا شیفت فاز سیستم است.\n",
    "\n",
    "اثرات دامنه و فاز بیان‌شده در معادلات بالا می‌توانند مطلوب باشند، اگر سیگنال ورودی به شکل مفیدی اصلاح شود، یا نامطلوب باشند، اگر سیگنال ورودی به صورت مخربی تغییر کند. در حالت دوم، معمولاً به اثرات یک سیستم LTI روی یک سیگنال به عنوان اعوجاج دامنه و اعوجاج فاز اشاره می‌کنیم.\n",
    "\n",
    "فاز هر عدد مختلط به‌طور یکتا تعریف نشده است، زیرا هر مضرب صحیحی از $ 2\\pi $ را می‌توان بدون تأثیرگذاری بر عدد اصلی به آن افزود. وقتی فاز به‌صورت عددی با استفاده از زیرروال تابع تانژانت معکوس محاسبه می‌شود، مقدار اصلی آن معمولاً به‌دست می‌آید. مقدار اصلی فاز $ H(e^{j\\omega}) $ را به‌صورت $ \\text{ARG}[H(e^{j\\omega})] $ نشان می‌دهیم، که در بازه زیر قرار دارد:\n",
    "\n",
    "$$\n",
    "-\\pi < \\text{ARG}[H(e^{j\\omega})] \\leq \\pi \\quad (5.5)\n",
    "$$\n",
    "\n",
    "### نمودارهای فاز و مقدار اصلی آن\n",
    "\n",
    "هر زاویه‌ی دیگری که مقدار مختلط صحیح تابع $ H(e^{j\\omega}) $ را بدهد، می‌تواند به صورت مقدار اصلی زیر نمایش داده شود:\n",
    "\n",
    "$$\n",
    "\\angle H(e^{j\\omega}) = \\text{ARG}[H(e^{j\\omega})] + 2\\pi r(\\omega) \\quad (5.6)\n",
    "$$\n",
    "\n",
    "که در آن $ r(\\omega) $ یک عدد صحیح مثبت یا منفی است که می‌تواند در هر مقدار $ \\omega $ متفاوت باشد. در بسیاری از موارد، مقدار اصلی دارای ناپیوستگی‌هایی به اندازه $ 2\\pi $ رادیان در تابع $ \\omega $ است. این موضوع در شکل زیر نشان داده شده است:\n",
    "\n"
   ]
  },
  {
   "cell_type": "code",
   "execution_count": 26,
   "metadata": {},
   "outputs": [
    {
     "data": {
      "image/png": "[encoded data removed]",
      "text/plain": [
       "<Figure size 432x576 with 3 Axes>"
      ]
     },
     "metadata": {
      "needs_background": "light"
     },
     "output_type": "display_data"
    }
   ],
   "source": [
    "import numpy as np\n",
    "import matplotlib.pyplot as plt\n",
    "\n",
    "omega = np.linspace(-np.pi, np.pi, 400)\n",
    "phase_continuous = -2 * np.sin(omega) - 2 * omega\n",
    "phase_principal = np.mod(phase_continuous + np.pi, 2*np.pi) - np.pi\n",
    "r_values = np.round((phase_continuous - phase_principal) / (2 * np.pi))\n",
    "\n",
    "fig, axs = plt.subplots(3, 1, figsize=(6, 8))\n",
    "\n",
    "axs[0].plot(omega, phase_continuous, label='arg[H(e^{j\\omega})]')\n",
    "axs[0].set_ylabel('arg[H(e^{j\\omega})]')\n",
    "axs[0].set_xticks([-np.pi, 0, np.pi])\n",
    "axs[0].set_xticklabels(['-π', '0', 'π'])\n",
    "axs[0].grid()\n",
    "\n",
    "axs[1].plot(omega, phase_principal, label='ARG[H(e^{j\\omega})]', color='r')\n",
    "axs[1].set_ylabel('ARG[H(e^{j\\omega})]')\n",
    "axs[1].set_xticks([-np.pi, 0, np.pi])\n",
    "axs[1].set_xticklabels(['-π', '0', 'π'])\n",
    "axs[1].grid()\n",
    "\n",
    "axs[2].step(omega, r_values, label='r(\\omega)', color='g', where='mid')\n",
    "axs[2].set_ylabel('r(\\omega)')\n",
    "axs[2].set_xlabel('ω')\n",
    "axs[2].set_xticks([-np.pi, 0, np.pi])\n",
    "axs[2].set_xticklabels(['-π', '0', 'π'])\n",
    "axs[2].grid()\n",
    "\n",
    "plt.tight_layout()\n",
    "plt.show()\n"
   ]
  },
  {
   "cell_type": "markdown",
   "metadata": {},
   "source": [
    "### ترجمه فارسی صفحه از کتاب DSP اوپنهایم\n",
    "\n",
    "# %% [markdown]\n",
    "## مقدار اصلی و تاخیر گروهی\n",
    "\n",
    "هر زاویه‌ی دیگری که مقدار مختلط صحیح تابع $ H(e^{j\\omega}) $ را بدهد، می‌تواند به صورت مقدار اصلی زیر نمایش داده شود:\n",
    "\n",
    "$$\n",
    "\\angle H(e^{j\\omega}) = \\text{ARG}[H(e^{j\\omega})] + 2\\pi r(\\omega) \\quad (5.6)\n",
    "$$\n",
    "\n",
    "که در آن $ r(\\omega) $ یک عدد صحیح مثبت یا منفی است که می‌تواند در هر مقدار $ \\omega $ متفاوت باشد. \n",
    "ما به طور کلی در این متن از نماد زاویه در سمت چپ معادله‌ی بالا برای نمایش فاز نامعین استفاده خواهیم کرد، زیرا مقدار $ r(\\omega) $ تا حدودی اختیاری است.\n",
    "\n",
    "در بسیاری از موارد، مقدار اصلی دارای ناپیوستگی‌هایی به اندازه $ 2\\pi $ رادیان در تابع $ \\omega $ است. این موضوع در شکل 5.1 نشان داده شده است که یک تابع فاز پیوسته $ \\arg[H(e^{j\\omega})] $ و مقدار اصلی آن $ \\text{ARG}[H(e^{j\\omega})] $ را در دامنه‌ای مشخص نمایش می‌دهد.\n",
    "\n",
    "### تاخیر گروهی\n",
    "\n",
    "یک نمایش مفید دیگر از فاز، از طریق تاخیر گروهی $ \\tau(\\omega) $ تعریف می‌شود به صورت:\n",
    "\n",
    "$$\n",
    "\\tau(\\omega) = \\text{grd}[H(e^{j\\omega})] = - \\frac{d}{d\\omega} \\text{ARG}[H(e^{j\\omega})]. \\quad (5.7)\n",
    "$$\n",
    "\n",
    "شایان ذکر است که از آنجا که مشتق $ \\arg[H(e^{j\\omega})] $ و $ \\text{ARG}[H(e^{j\\omega})] $ فقط در نقاط ناپیوستگی اختلاف دارند، تاخیر گروهی را می‌توان با مشتق‌گیری از مقدار اصلی به دست آورد، به جز در ناپیوستگی‌ها.\n",
    "\n",
    "به طور مشابه، می‌توان تاخیر گروهی را بر حسب فاز نامعین به شکل زیر بیان کرد:\n",
    "\n",
    "$$\n",
    "\\text{grd}[H(e^{j\\omega})] = - \\frac{d}{d\\omega} \\angle H(e^{j\\omega}). \\quad (5.8)\n",
    "$$\n",
    "\n",
    "که در آن ضربه‌های ناشی از ناپیوستگی‌های به اندازه‌ی $ 2\\pi $ در $ \\angle H(e^{j\\omega}) $ نادیده گرفته می‌شوند.\n",
    "\n",
    "برای درک اثر فاز و به‌ویژه تأخیر گروهی یک سیستم خطی، ابتدا سیستم تأخیر ایده‌آل را در نظر می‌گیریم. پاسخ ضربه‌ای این سیستم به‌صورت زیر است:\n",
    "\n",
    "$$\n",
    " h_{\\text{id}}[n] = \\delta[n - n_d]. \\quad (5.9)\n",
    "$$\n",
    "\n",
    "و پاسخ فرکانسی آن برابر است با:\n",
    "\n",
    "$$\n",
    "H_{\\text{id}}(e^{j\\omega}) = e^{-j\\omega n_d}. \\quad (5.10)\n",
    "$$\n",
    "\n",
    "یا به صورت زیر بیان می‌شود:\n",
    "\n",
    "$$\n",
    "|H_{\\text{id}}(e^{j\\omega})| = 1, \\quad (5.11a)\n",
    "$$\n",
    "\n",
    "$$\n",
    "\\angle H_{\\text{id}}(e^{j\\omega}) = -\\omega n_d, \\quad |\\omega| < \\pi. \\quad (5.11b)\n",
    "$$\n",
    "\n",
    "که در آن، تناوبیت $ 2\\pi $ در $ \\omega $ مشاهده می‌شود. از معادله‌ی بالا نتیجه می‌گیریم که تاخیر زمانی (یا پیش‌افتادن اگر $ n_d < 0 $ باشد) با شیب فاز در ارتباط است.\n"
   ]
  }
 ],
 "metadata": {
  "kernelspec": {
   "display_name": "Python 3.9.7 ('base')",
   "language": "python",
   "name": "python3"
  },
  "language_info": {
   "codemirror_mode": {
    "name": "ipython",
    "version": 3
   },
   "file_extension": ".py",
   "mimetype": "text/x-python",
   "name": "python",
   "nbconvert_exporter": "python",
   "pygments_lexer": "ipython3",
   "version": "3.9.7"
  },
  "orig_nbformat": 4,
  "vscode": {
   "interpreter": {
    "hash": "20a9e06a1eee47c4abbed4ec8225ad91d78d9800d202b71b6b0a6e47016c6abd"
   }
  }
 },
 "nbformat": 4,
 "nbformat_minor": 2
}
