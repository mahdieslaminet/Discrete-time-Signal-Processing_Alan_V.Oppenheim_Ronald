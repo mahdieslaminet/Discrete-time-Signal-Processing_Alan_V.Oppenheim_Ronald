{
  "nbformat": 4,
  "nbformat_minor": 0,
  "metadata": {
    "colab": {
      "provenance": []
    },
    "kernelspec": {
      "name": "python3",
      "display_name": "Python 3"
    },
    "language_info": {
      "name": "python"
    }
  },
  "cells": [
    {
      "cell_type": "markdown",
      "source": [
        "### سوال 1:\n",
        "\n",
        "تابع زیر را به‌صورت تبدیل لاپلاس بنویسید (با استفاده از جدول):\n",
        "\n",
        "$$\n",
        "x(t) = 3e^{-2t}u(t) + 2e^{-5t}u(t)\n",
        "$$\n",
        "\n"
      ],
      "metadata": {
        "id": "EluIT_jci0o6"
      }
    },
    {
      "cell_type": "code",
      "execution_count": 2,
      "metadata": {
        "colab": {
          "base_uri": "https://localhost:8080/",
          "height": 55
        },
        "id": "pWA82meRiz4S",
        "outputId": "912ef87b-95b7-4eb9-a260-d1e23105b945"
      },
      "outputs": [
        {
          "output_type": "execute_result",
          "data": {
            "text/plain": [
              "(5*s + 19)/((s + 2)*(s + 5))"
            ],
            "text/latex": "$\\displaystyle \\frac{5 s + 19}{\\left(s + 2\\right) \\left(s + 5\\right)}$"
          },
          "metadata": {},
          "execution_count": 2
        }
      ],
      "source": [
        "from sympy import symbols, laplace_transform, exp, Heaviside, simplify\n",
        "from sympy.abc import t, s\n",
        "x = 3 * exp(-2*t) * Heaviside(t) + 2 * exp(-5*t) * Heaviside(t)\n",
        "X_s = laplace_transform(x, t, s, noconds=True)\n",
        "simplify(X_s)"
      ]
    },
    {
      "cell_type": "markdown",
      "source": [
        "### سوال 2:\n",
        "\n",
        "تبدیل لاپلاس معکوس تابع زیر را بیابید:\n",
        "\n",
        "$$\n",
        "X(s) = \\frac{4}{(s+3)^2}\n",
        "$$\n"
      ],
      "metadata": {
        "id": "uSdiigcrj1Kq"
      }
    },
    {
      "cell_type": "code",
      "source": [
        "from sympy import symbols, inverse_laplace_transform, Function\n",
        "from sympy.abc import t, s\n",
        "\n",
        "X = 4 / (s + 3)**2\n",
        "x_t = inverse_laplace_transform(X, s, t)\n",
        "x_t\n"
      ],
      "metadata": {
        "colab": {
          "base_uri": "https://localhost:8080/",
          "height": 39
        },
        "id": "DQlncFhFj-A0",
        "outputId": "6bb2d750-2898-47dd-fdba-d1ec101fdbf6"
      },
      "execution_count": 5,
      "outputs": [
        {
          "output_type": "execute_result",
          "data": {
            "text/plain": [
              "4*t*exp(-3*t)*Heaviside(t)"
            ],
            "text/latex": "$\\displaystyle 4 t e^{- 3 t} \\theta\\left(t\\right)$"
          },
          "metadata": {},
          "execution_count": 5
        }
      ]
    },
    {
      "cell_type": "markdown",
      "source": [
        "### سوال 3:\n",
        "\n",
        "مشتق سیگنال زیر را در حوزه s بیابید:\n",
        "\n",
        "$$\n",
        "x(t) = te^{-2t}u(t)\n",
        "$$\n"
      ],
      "metadata": {
        "id": "O0cI7OwtkWnx"
      }
    },
    {
      "cell_type": "code",
      "source": [
        "from sympy import diff, exp, Heaviside, laplace_transform, simplify\n",
        "from sympy.abc import t, s\n",
        "\n",
        "x = t * exp(-2*t) * Heaviside(t)\n",
        "dx = diff(x, t)\n",
        "X_s = laplace_transform(dx, t, s, noconds=True)\n",
        "simplify(X_s)"
      ],
      "metadata": {
        "colab": {
          "base_uri": "https://localhost:8080/",
          "height": 49
        },
        "id": "Nd-y477dkaJ2",
        "outputId": "6fd0d876-0300-480c-e325-91e475b9cccc"
      },
      "execution_count": 12,
      "outputs": [
        {
          "output_type": "execute_result",
          "data": {
            "text/plain": [
              "s/(s**2 + 4*s + 4)"
            ],
            "text/latex": "$\\displaystyle \\frac{s}{s^{2} + 4 s + 4}$"
          },
          "metadata": {},
          "execution_count": 12
        }
      ]
    },
    {
      "cell_type": "markdown",
      "source": [
        "### سوال 4:\n",
        "\n",
        "آیا تبدیل لاپلاس تابع زیر وجود دارد؟ اگر بله، ناحیه همگرایی آن را مشخص کنید:\n",
        "\n",
        "$$\n",
        "x(t) = e^{3t}u(-t)\n",
        "$$\n"
      ],
      "metadata": {
        "id": "21vIycZvkr_c"
      }
    },
    {
      "cell_type": "code",
      "source": [
        "from sympy import exp, Heaviside, laplace_transform\n",
        "from sympy.abc import t, s\n",
        "\n",
        "x = exp(3*t) * Heaviside(-t)\n",
        "X_s = laplace_transform(x, t, s)\n",
        "X_s\n"
      ],
      "metadata": {
        "colab": {
          "base_uri": "https://localhost:8080/"
        },
        "id": "n4X0ENLQkt-o",
        "outputId": "24b8f3ef-19bb-4446-ffbb-4f22a3d9d8b0"
      },
      "execution_count": 13,
      "outputs": [
        {
          "output_type": "execute_result",
          "data": {
            "text/plain": [
              "(0, -oo, True)"
            ]
          },
          "metadata": {},
          "execution_count": 13
        }
      ]
    },
    {
      "cell_type": "markdown",
      "source": [
        "### سوال 5:\n",
        "\n",
        "فرض کنید:\n",
        "\n",
        "$$\n",
        "X(s) = \\frac{s+2}{(s+1)(s+3)}\n",
        "$$\n",
        "\n",
        "تبدیل لاپلاس معکوس آن را با استفاده از کسرهای جزئی بیابید.\n"
      ],
      "metadata": {
        "id": "rjomMNZikyK6"
      }
    },
    {
      "cell_type": "code",
      "source": [
        "from sympy import apart, symbols\n",
        "from sympy.abc import s, t\n",
        "\n",
        "X = (s + 2) / ((s + 1)*(s + 3))\n",
        "X_apart = apart(X, s)\n",
        "X_apart\n"
      ],
      "metadata": {
        "colab": {
          "base_uri": "https://localhost:8080/",
          "height": 55
        },
        "id": "ks0ltdL5k5CJ",
        "outputId": "1e305568-a7d8-4227-e1bd-4818899e42b4"
      },
      "execution_count": 28,
      "outputs": [
        {
          "output_type": "execute_result",
          "data": {
            "text/plain": [
              "1/(2*(s + 3)) + 1/(2*(s + 1))"
            ],
            "text/latex": "$\\displaystyle \\frac{1}{2 \\left(s + 3\\right)} + \\frac{1}{2 \\left(s + 1\\right)}$"
          },
          "metadata": {},
          "execution_count": 28
        }
      ]
    },
    {
      "cell_type": "code",
      "source": [
        "from sympy import inverse_laplace_transform\n",
        "\n",
        "x_t = inverse_laplace_transform(X, s, t)\n",
        "x_t\n"
      ],
      "metadata": {
        "colab": {
          "base_uri": "https://localhost:8080/",
          "height": 54
        },
        "id": "9hSTKsb_lKK1",
        "outputId": "317a2d4b-3689-480d-daec-1f85b0c72427"
      },
      "execution_count": 27,
      "outputs": [
        {
          "output_type": "execute_result",
          "data": {
            "text/plain": [
              "exp(-t)*Heaviside(t)/2 + exp(-3*t)*Heaviside(t)/2"
            ],
            "text/latex": "$\\displaystyle \\frac{e^{- t} \\theta\\left(t\\right)}{2} + \\frac{e^{- 3 t} \\theta\\left(t\\right)}{2}$"
          },
          "metadata": {},
          "execution_count": 27
        }
      ]
    },
    {
      "cell_type": "markdown",
      "source": [
        "### سوال 6:\n",
        "\n",
        "برای سیگنال زیر، تبدیل لاپلاس را با استفاده از تعریف (انتگرال) بیابید:\n",
        "\n",
        "$$\n",
        "x(t) = u(t) - u(t-1)\n",
        "$$\n"
      ],
      "metadata": {
        "id": "PLgi7b6mlZGu"
      }
    },
    {
      "cell_type": "code",
      "source": [
        "from sympy import Heaviside, symbols\n",
        "from sympy.abc import t, s\n",
        "\n",
        "x = Heaviside(t) - Heaviside(t - 1)\n",
        "X_s = laplace_transform(x, t, s, noconds=True)\n",
        "X_s\n"
      ],
      "metadata": {
        "colab": {
          "base_uri": "https://localhost:8080/",
          "height": 53
        },
        "id": "XIA5LL85leGB",
        "outputId": "345ca3b7-934e-41b6-e90d-bf2df394f943"
      },
      "execution_count": 30,
      "outputs": [
        {
          "output_type": "execute_result",
          "data": {
            "text/plain": [
              "1/s - exp(-s)/s"
            ],
            "text/latex": "$\\displaystyle \\frac{1}{s} - \\frac{e^{- s}}{s}$"
          },
          "metadata": {},
          "execution_count": 30
        }
      ]
    },
    {
      "cell_type": "markdown",
      "source": [
        "### سوال 7:\n",
        "\n",
        "فرض کنید:\n",
        "\n",
        "$$\n",
        "x(t) = e^{-2t}u(t)\n",
        "$$\n",
        "\n",
        "تابع \\( y(t) = x(t-1) \\) را تعریف کنید و تبدیل لاپلاس آن را بیابید.\n"
      ],
      "metadata": {
        "id": "Q477aWMOlh5I"
      }
    },
    {
      "cell_type": "code",
      "source": [
        "from sympy import exp, Heaviside, symbols\n",
        "from sympy.abc import t, s\n",
        "\n",
        "x = exp(-2*t) * Heaviside(t)\n",
        "y = x.subs(t, t - 1)\n",
        "Y_s = laplace_transform(y, t, s, noconds=True)\n",
        "Y_s\n"
      ],
      "metadata": {
        "colab": {
          "base_uri": "https://localhost:8080/",
          "height": 55
        },
        "id": "txzJVljglrGo",
        "outputId": "aeba817e-e886-40ab-9e5f-e28dadebfe6c"
      },
      "execution_count": 35,
      "outputs": [
        {
          "output_type": "execute_result",
          "data": {
            "text/plain": [
              "exp(-s)/(s + 2)"
            ],
            "text/latex": "$\\displaystyle \\frac{e^{- s}}{s + 2}$"
          },
          "metadata": {},
          "execution_count": 35
        }
      ]
    },
    {
      "cell_type": "markdown",
      "source": [
        "### سوال 8:\n",
        "\n",
        "تابع تبدیل سیستم زیر را بیابید و ناحیه همگرایی را مشخص کنید:\n",
        "\n",
        "$$\n",
        "h(t) = e^{-t}u(t) + e^{2t}u(-t)\n",
        "$$\n"
      ],
      "metadata": {
        "id": "QK_qGwvdlvUM"
      }
    },
    {
      "cell_type": "code",
      "source": [
        "from sympy import exp, Heaviside, symbols\n",
        "from sympy.abc import t, s\n",
        "\n",
        "h = exp(-t) * Heaviside(t) + exp(2*t) * Heaviside(-t)\n",
        "H_s = laplace_transform(h, t, s, noconds=True)\n",
        "H_s\n"
      ],
      "metadata": {
        "colab": {
          "base_uri": "https://localhost:8080/",
          "height": 52
        },
        "id": "tIm2YLR1l0sN",
        "outputId": "17d2be14-0c88-48fa-da24-46f84788df65"
      },
      "execution_count": 32,
      "outputs": [
        {
          "output_type": "execute_result",
          "data": {
            "text/plain": [
              "1/(s + 1)"
            ],
            "text/latex": "$\\displaystyle \\frac{1}{s + 1}$"
          },
          "metadata": {},
          "execution_count": 32
        }
      ]
    },
    {
      "cell_type": "markdown",
      "source": [
        "### سوال 9:\n",
        "\n",
        "اگر:\n",
        "\n",
        "$$\n",
        "X(s) = \\frac{5}{s^2 + 6s + 25}\n",
        "$$\n",
        "\n",
        "تبدیل لاپلاس معکوس آن را بیابید.\n"
      ],
      "metadata": {
        "id": "qrFKHcfVl4WD"
      }
    },
    {
      "cell_type": "code",
      "source": [
        "from sympy import symbols, exp, sqrt\n",
        "from sympy.abc import s, t\n",
        "\n",
        "X = 5 / (s**2 + 6*s + 25)\n",
        "x_t = inverse_laplace_transform(X, s, t)\n",
        "x_t\n"
      ],
      "metadata": {
        "colab": {
          "base_uri": "https://localhost:8080/",
          "height": 54
        },
        "id": "26C3HOMSmC5s",
        "outputId": "96f4f3c5-3e87-42d0-f094-0cd4429403de"
      },
      "execution_count": 36,
      "outputs": [
        {
          "output_type": "execute_result",
          "data": {
            "text/plain": [
              "5*exp(-3*t)*sin(4*t)*Heaviside(t)/4"
            ],
            "text/latex": "$\\displaystyle \\frac{5 e^{- 3 t} \\sin{\\left(4 t \\right)} \\theta\\left(t\\right)}{4}$"
          },
          "metadata": {},
          "execution_count": 36
        }
      ]
    },
    {
      "cell_type": "markdown",
      "source": [
        "### سوال 10:\n",
        "\n",
        "برای سیگنال \\( x(t) = \\delta(t-2) \\)، تبدیل لاپلاس را بیابید و نمودار آن را رسم کنید.\n"
      ],
      "metadata": {
        "id": "aV1W6miumOJy"
      }
    },
    {
      "cell_type": "code",
      "source": [
        "from sympy import DiracDelta, symbols\n",
        "from sympy.abc import t, s\n",
        "\n",
        "x = DiracDelta(t - 2)\n",
        "X_s = laplace_transform(x, t, s, noconds=True)\n",
        "X_s\n"
      ],
      "metadata": {
        "colab": {
          "base_uri": "https://localhost:8080/",
          "height": 39
        },
        "id": "Znwpt0sxmPcL",
        "outputId": "136045ae-0314-461d-87e6-b2a08e88c990"
      },
      "execution_count": 34,
      "outputs": [
        {
          "output_type": "execute_result",
          "data": {
            "text/plain": [
              "exp(-2*s)"
            ],
            "text/latex": "$\\displaystyle e^{- 2 s}$"
          },
          "metadata": {},
          "execution_count": 34
        }
      ]
    }
  ]
}