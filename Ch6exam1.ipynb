{
  "nbformat": 4,
  "nbformat_minor": 0,
  "metadata": {
    "colab": {
      "provenance": []
    },
    "kernelspec": {
      "name": "python3",
      "display_name": "Python 3"
    },
    "language_info": {
      "name": "python"
    }
  },
  "cells": [
    {
      "cell_type": "markdown",
      "source": [
        "**سوال1)**\n",
        "تبدیل لاپلاس های زیر را انجام دهید"
      ],
      "metadata": {
        "id": "17hmwQoNZeSk"
      }
    },
    {
      "cell_type": "code",
      "execution_count": 12,
      "metadata": {
        "id": "cXvwbse_Iqnk",
        "colab": {
          "base_uri": "https://localhost:8080/"
        },
        "outputId": "c2e031a5-5101-4c95-e61f-52c9d9fcce64"
      },
      "outputs": [
        {
          "output_type": "stream",
          "name": "stdout",
          "text": [
            "Laplace Transform of x1(t):\n",
            "   400    \n",
            "──────────\n",
            " 2        \n",
            "s  + 10000\n"
          ]
        }
      ],
      "source": [
        "import sympy as sp\n",
        "t, s = sp.symbols('t s')\n",
        "u = sp.Heaviside(t)\n",
        "x1 = 4 * sp.sin(100 * t) * u\n",
        "X1_s = sp.laplace_transform(x1, t, s)\n",
        "print(\"Laplace Transform of x1(t):\")\n",
        "sp.pprint(X1_s[0])\n"
      ]
    },
    {
      "cell_type": "code",
      "source": [
        "import sympy as sp\n",
        "t, s = sp.symbols('t s')\n",
        "x2 = 4 * sp.sin(100 * (t - 0.1) - 10) * sp.Heaviside(t - 0.1)\n",
        "X2_s = sp.laplace_transform(x2, t, s)\n",
        "print(\"Laplace Transform of x2(t)\")\n",
        "sp.pprint(X2_s[0])"
      ],
      "metadata": {
        "colab": {
          "base_uri": "https://localhost:8080/"
        },
        "id": "l3KfigBoezW0",
        "outputId": "0917fd2e-12ea-4b2c-87ed-34a2d303e8ee"
      },
      "execution_count": 13,
      "outputs": [
        {
          "output_type": "stream",
          "name": "stdout",
          "text": [
            "Laplace Transform of x2(t)\n",
            "                                           -0.1⋅s\n",
            "4⋅(0.54402111088937⋅s - 83.9071529076452)⋅ℯ      \n",
            "─────────────────────────────────────────────────\n",
            "                   2                             \n",
            "                  s  + 10000.0                   \n"
          ]
        }
      ]
    },
    {
      "cell_type": "markdown",
      "source": [
        "**سوال 2)**\n",
        "\n",
        "تبدیل لاپلاس توابع داده شده است\n",
        "\n",
        "x(t)?\n",
        "\n"
      ],
      "metadata": {
        "id": "J01MuYQaRs7G"
      }
    },
    {
      "cell_type": "code",
      "source": [
        "import sympy as sp\n",
        "s, t = sp.symbols('s t')\n",
        "X1_s = 10 * (s + 1) / (s**2 + 4*s + 3)\n",
        "x1_t = sp.inverse_laplace_transform(X1_s, s, t)\n",
        "print(\"Inverse Laplace Transform of X1(s):\")\n",
        "sp.pprint(x1_t)\n"
      ],
      "metadata": {
        "colab": {
          "base_uri": "https://localhost:8080/"
        },
        "id": "WneP_SGhSk7l",
        "outputId": "32d73058-e297-4bb6-e923-595b59427fc3"
      },
      "execution_count": 10,
      "outputs": [
        {
          "output_type": "stream",
          "name": "stdout",
          "text": [
            "Inverse Laplace Transform of X1(s):\n",
            "    -3⋅t     \n",
            "10⋅ℯ    ⋅θ(t)\n"
          ]
        }
      ]
    },
    {
      "cell_type": "code",
      "source": [
        "import sympy as sp\n",
        "s, t = sp.symbols('s t')\n",
        "X2_s= 10 * (s + 1) / (s**2 + 4*s + 8)\n",
        "x2_t = sp.inverse_laplace_transform(X2_s, s, t)\n",
        "print(\"Inverse Laplace Transform of X2(s):\")\n",
        "sp.pprint(x2_t)"
      ],
      "metadata": {
        "colab": {
          "base_uri": "https://localhost:8080/"
        },
        "id": "teDgcKHZeWPJ",
        "outputId": "e17090da-d44b-460f-b6d7-863b78bfe29a"
      },
      "execution_count": 11,
      "outputs": [
        {
          "output_type": "stream",
          "name": "stdout",
          "text": [
            "Inverse Laplace Transform of X2(s):\n",
            "⎛     -2⋅t                -2⋅t         ⎞     \n",
            "⎝- 5⋅ℯ    ⋅sin(2⋅t) + 10⋅ℯ    ⋅cos(2⋅t)⎠⋅θ(t)\n"
          ]
        }
      ]
    },
    {
      "cell_type": "markdown",
      "source": [
        "**سوال 3)**\n",
        "\n",
        "فرم عمومی برای تبدیل لاپلاس داده شده را بیان کنید x(t)\n",
        "\n"
      ],
      "metadata": {
        "id": "jgIt2xXeUSoD"
      }
    },
    {
      "cell_type": "code",
      "source": [
        "import sympy as sp\n",
        "s, t = sp.symbols('s t')\n",
        "u = sp.Heaviside(t)\n",
        "X1_s = (2*s + 100) / ((s+2) * (s + 6) * (s + 10))\n",
        "X1_partial = sp.apart(X1_s, s)\n",
        "x1_t = sp.inverse_laplace_transform(X1_partial, s, t) * u\n",
        "print(\"General Form of x1(t):\")\n",
        "sp.pprint(x1_t)\n"
      ],
      "metadata": {
        "colab": {
          "base_uri": "https://localhost:8080/"
        },
        "id": "ef30sI6HU7xb",
        "outputId": "2f905cf8-eb69-4472-bd93-9b379f487964"
      },
      "execution_count": 8,
      "outputs": [
        {
          "output_type": "stream",
          "name": "stdout",
          "text": [
            "General Form of x1(t):\n",
            "⎛                   -6⋅t           -10⋅t     ⎞     \n",
            "⎜   -2⋅t        11⋅ℯ    ⋅θ(t)   5⋅ℯ     ⋅θ(t)⎟     \n",
            "⎜3⋅ℯ    ⋅θ(t) - ───────────── + ─────────────⎟⋅θ(t)\n",
            "⎝                     2               2      ⎠     \n"
          ]
        }
      ]
    },
    {
      "cell_type": "code",
      "source": [
        "\n",
        "import sympy as sp\n",
        "s, t = sp.symbols('s t')\n",
        "X2_s = (2*s + 100) / (s * (s + 1) * (s + 8) * (s - 4))\n",
        "X2_partial = sp.apart(X2_s, s)\n",
        "x2_t = sp.inverse_laplace_transform(X2_partial, s, t) * u\n",
        "print(\"\\nGeneral Form of x2(t):\")\n",
        "sp.pprint(x2_t)"
      ],
      "metadata": {
        "colab": {
          "base_uri": "https://localhost:8080/"
        },
        "id": "GOJBge4qdSmE",
        "outputId": "b4b4211b-bffb-4c98-816f-77618da7cac7"
      },
      "execution_count": 9,
      "outputs": [
        {
          "output_type": "stream",
          "name": "stdout",
          "text": [
            "\n",
            "General Form of x2(t):\n",
            "⎛   4⋅t                      -t         -8⋅t     ⎞     \n",
            "⎜9⋅ℯ   ⋅θ(t)   25⋅θ(t)   14⋅ℯ  ⋅θ(t)   ℯ    ⋅θ(t)⎟     \n",
            "⎜─────────── - ─────── + ─────────── - ──────────⎟⋅θ(t)\n",
            "⎝    20           8           5            8     ⎠     \n"
          ]
        }
      ]
    },
    {
      "cell_type": "markdown",
      "source": [
        "**سوال 4)**\n",
        "limit x(t)?\n",
        "\n",
        "t->0\n",
        "\n"
      ],
      "metadata": {
        "id": "336ViLOufJbr"
      }
    },
    {
      "cell_type": "code",
      "source": [
        "import sympy as sp\n",
        "s, t = sp.symbols('s t')\n",
        "u = sp.Heaviside(t)\n",
        "X1_s = 10 * (s + 1) / (s * (s**2 + 4*s + 3))\n",
        "x1_t = sp.inverse_laplace_transform(X1_s, s, t)\n",
        "limit_x1_t_at_0 = sp.limit(x1_t, t, 0)\n",
        "print(\"Limit of x1(t) as t-> 0:\")\n",
        "print(limit_x1_t_at_0)"
      ],
      "metadata": {
        "colab": {
          "base_uri": "https://localhost:8080/"
        },
        "id": "6zgezDv-feQP",
        "outputId": "53d4280f-f163-45a2-f22f-083542cce717"
      },
      "execution_count": 17,
      "outputs": [
        {
          "output_type": "stream",
          "name": "stdout",
          "text": [
            "Limit of x1(t) as t-> 0:\n",
            "0\n"
          ]
        }
      ]
    },
    {
      "cell_type": "code",
      "source": [
        "import sympy as sp\n",
        "s, t = sp.symbols('s t')\n",
        "u = sp.Heaviside(t)\n",
        "X2_s = 10 * (s + 1) / (s * (s**2 + 4*s + 8))\n",
        "x2_t = sp.inverse_laplace_transform(X2_s, s, t) * u\n",
        "limit_x2_t_at_0 = sp.limit(x2_t, t, 0)\n",
        "print(\"\\nLimit of x2(t) as t -> 0:\")\n",
        "print(limit_x2_t_at_0)"
      ],
      "metadata": {
        "colab": {
          "base_uri": "https://localhost:8080/"
        },
        "id": "xlETtAomhckg",
        "outputId": "dec3c44d-e971-4ae0-bfbf-3e7b76531d4f"
      },
      "execution_count": 18,
      "outputs": [
        {
          "output_type": "stream",
          "name": "stdout",
          "text": [
            "\n",
            "Limit of x2(t) as t -> 0:\n",
            "0\n"
          ]
        }
      ]
    },
    {
      "cell_type": "markdown",
      "source": [
        "**سوال 5)**\n",
        "پاسخ سیستمی را که تابع تبدیل آن در زیر داده شده است را به ورودی پله واحد به دست\n",
        "آورید\n",
        "\n",
        "H(s)=s^2-s+1/s(s-1)\n",
        "\n"
      ],
      "metadata": {
        "id": "EhL1fHqWikX9"
      }
    },
    {
      "cell_type": "code",
      "source": [
        "import sympy as sp\n",
        "s, t = sp.symbols('s t')\n",
        "u = sp.Heaviside(t)\n",
        "H_s = (s**2 - s + 1) / (s * (s - 1))\n",
        "X_s = 1 / s\n",
        "Y_s = H_s * X_s\n",
        "y_t = sp.inverse_laplace_transform(Y_s, s, t) * u\n",
        "print(\"Response of the system to unit step input u(t):\")\n",
        "sp.pprint(y_t)"
      ],
      "metadata": {
        "colab": {
          "base_uri": "https://localhost:8080/"
        },
        "id": "KUigtVTTjJN3",
        "outputId": "53a417d6-8329-4233-ea9d-d8b177132c07"
      },
      "execution_count": 19,
      "outputs": [
        {
          "output_type": "stream",
          "name": "stdout",
          "text": [
            "Response of the system to unit step input u(t):\n",
            "⎛           t     ⎞     \n",
            "⎝-t⋅θ(t) + ℯ ⋅θ(t)⎠⋅θ(t)\n"
          ]
        }
      ]
    }
  ]
}