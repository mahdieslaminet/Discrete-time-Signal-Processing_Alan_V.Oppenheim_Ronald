{
  "nbformat": 4,
  "nbformat_minor": 0,
  "metadata": {
    "colab": {
      "provenance": []
    },
    "kernelspec": {
      "name": "python3",
      "display_name": "Python 3"
    },
    "language_info": {
      "name": "python"
    }
  },
  "cells": [
    {
      "cell_type": "markdown",
      "source": [
        "<div dir=\"rtl\">\n",
        "**مقدمه 9.0**\n",
        "\n",
        "در فصل‌های پیشین، دیدیم که ابزارهای تحلیل فوریه در مطالعه بسیاری از مسائل عملی که شامل سیگنال‌ها و سیستم‌های LTI (خطی و زمان‌Invariant) هستند، بسیار مفید می‌باشند. این امر به طور عمده به این دلیل است که کلاس‌های وسیعی از سیگنال‌ها می‌توانند به صورت ترکیب‌های خطی از نماهای پیچیده دوره‌ای نمایش داده شوند و نماهای پیچیده ویژگی‌های ویژه سیستم‌های LTI هستند. تبدیل فوریه زمان پیوسته به ما این امکان را می‌دهد که سیگنال‌ها را به صورت ترکیب‌های خطی از نماهای پیچیده‌ای به شکل $$( e^{st} )$$ با $$( s = jw )$$ نمایش دهیم. با این حال، ویژگی ویژه‌ای که در بخش 3.2 معرفی شد و بسیاری از پیامدهای آن، به طور کلی برای مقادیر دلخواه \\( s ) نیز اعمال می‌شود و نه فقط مقادیر موهومی خالص. این مشاهده منجر به تعمیم تبدیل فوریه زمان پیوسته می‌شود که به نام تبدیل لاپلاس شناخته می‌شود و در این فصل توسعه می‌دهیم. در فصل بعد، تعمیم متناظر زمانی گسسته آن که به نام تبدیل z شناخته می‌شود را توسعه خواهیم داد.\n",
        "\n",
        "همانطور که خواهیم دید، تبدیل‌های لاپلاس و z بسیاری از ویژگی‌هایی را دارند که تحلیل فوریه را به ابزاری بسیار مفید تبدیل کرده است. علاوه بر این، این تبدیل‌ها نه تنها ابزارهای اضافی و بینش‌هایی برای سیگنال‌ها و سیستم‌هایی که می‌توانند با استفاده از تبدیل فوریه تحلیل شوند، فراهم می‌آورند، بلکه می‌توانند در برخی زمینه‌های بسیار مهم که تبدیل فوریه نمی‌تواند به کار گرفته شود، نیز کاربرد داشته باشند. به عنوان مثال، تبدیل‌های لاپلاس و z می‌توانند برای تحلیل بسیاری از سیستم‌های ناپایدار به کار روند و بنابراین نقش مهمی در بررسی پایداری یا ناپایداری سیستم‌ها ایفا می‌کنند. این واقعیت، به همراه ویژگی‌های جبری که تبدیل‌های لاپلاس و z با تبدیل فوریه مشترک دارند، مجموعه‌ای از ابزارهای بسیار مهم برای تحلیل سیستم‌ها و به ویژه برای تحلیل سیستم‌های بازخورد که در فصل 11 توسعه خواهیم داد، به وجود می‌آورد.\n",
        "\n",
        "---\n",
        "\n",
        "**بخش 9.1: تبدیل لاپلاس**\n",
        "\n",
        "در فصل 3، دیدیم که پاسخ یک سیستم LTI با پاسخ ضربه \\( h(t) \\) به ورودی نمایی پیچیده به شکل $$( e^{st} )$$ به صورت زیر است:\n",
        "\n",
        "$$\n",
        "y(t) = H(s) e^{st}, \\quad \\text{معادله} \\, (9.1)\n",
        "$$\n",
        "\n",
        "که در آن:\n",
        "\n",
        "$$\n",
        "H(s) = \\int_0^\\infty h(t) e^{-st} dt, \\quad \\text{معادله} \\, (9.2)\n",
        "$$\n",
        "\n",
        "برای \\( s \\) موهومی (یعنی \\( s = jw \\))، انتگرال در معادله (9.2) به تبدیل فوریه \\( h(t) \\) مربوط می‌شود. برای مقادیر عمومی متغیرهای پیچیده، این تبدیل به نام تبدیل لاپلاس پاسخ ضربه \\( h(t) \\) شناخته می‌شود.\n",
        "\n",
        "تبدیل لاپلاس یک سیگنال عمومی \\( x(t) \\) به صورت زیر تعریف می‌شود:\n",
        "\n",
        "$$\n",
        "X(s) = \\int_{-\\infty}^{\\infty} x(t) e^{-st} dt, \\quad \\text{معادله} \\, (9.3)\n",
        "$$\n",
        "\n",
        "و توجه داشته باشید که به طور خاص این تبدیل تابعی از متغیر مستقل \\( s \\) است که مربوط به متغیر پیچیده در نمای $$( e^{-st} )$$ است. متغیرهای پیچیده را می‌توان به صورت $$( s = sigma + jw )$$ نوشت، به طوری که \\( sigma ) و \\( w \\) به ترتیب بخش‌های حقیقی و موهومی آن هستند. برای راحتی، گاهی اوقات تبدیل لاپلاس را به صورت عملگری $$( \\mathcal{C} \\{x(t)\\} )$$ نمایش می‌دهیم و رابطه تبدیل بین \\( x(t) \\) و \\( X(s) \\) را به صورت زیر می‌نویسیم:\n",
        "\n",
        "$$\n",
        "\\mathcal{C} \\{ x(t) \\} = X(s), \\quad \\text{معادله} \\, (9.4)\n",
        "$$\n",
        "\n",
        "وقتی \\( s = jw \\)، معادله (9.3) به صورت زیر در می‌آید:\n",
        "\n",
        "$$\n",
        "X(jw) = \\int_{-\\infty}^{\\infty} x(t) e^{-jwt} dt, \\quad \\text{معادله} \\, (9.5)\n",
        "$$\n",
        "\n",
        "که معادل تبدیل فوریه \\( x(t) \\) است؛ یعنی:\n",
        "\n",
        "$$\n",
        "X(s)|_{s=jw} = \\mathcal{F} \\{x(t)\\}, \\quad \\text{معادله} \\, (9.6)\n",
        "$$\n",
        "\n",
        "تبدیل لاپلاس همچنین رابطه ساده‌ای با تبدیل"
      ],
      "metadata": {
        "id": "IK7mh1zOEsKl"
      }
    },
    {
      "cell_type": "markdown",
      "source": [
        "یا\n",
        "\n",
        "$$\n",
        "X(\\sigma + jw) = \\int_{-\\infty}^{\\infty} x(t) e^{-(\\sigma + jw)t} dt, \\quad \\text{معادله} \\, (9.8)\n",
        "$$\n",
        "\n",
        "ما سمت راست معادله (9.8) را به عنوان تبدیل فوریه $$( x(t) e^{-\\sigma t} )$$ می‌شناسیم؛ به عبارت دیگر، تبدیل لاپلاس \\( x(t) \\) می‌تواند به عنوان تبدیل فوریه \\( x(t) \\) پس از ضرب در یک سیگنال نمایی حقیقی تفسیر شود. سیگنال نمایی حقیقی $$( e^{-\\sigma t} )$$ ممکن است در زمان کاهش یابد یا رشد کند، بسته به اینکه \\( sigma \\) مثبت یا منفی باشد.\n",
        "\n",
        "برای توضیح تبدیل لاپلاس و رابطه آن با تبدیل فوریه، بیایید مثال زیر را در نظر بگیریم:\n",
        "\n",
        "**مثال 9.1**  \n",
        "سیگنال $$( x(t) = e^{-alpha t} u(t) )$$ را در نظر بگیرید. از مثال 4.1، تبدیل فوریه $$( X(jw) ) برای ( alpha > 0 )$$ همگرا است و به صورت زیر داده می‌شود:"
      ],
      "metadata": {
        "id": "V__UmYCYE7lm"
      }
    },
    {
      "cell_type": "markdown",
      "source": [
        "$$\n",
        "X(j\\omega) = \\int_{-\\infty}^{\\infty} e^{-at} u(t) e^{-j\\omega t} dt = \\int_0^\\infty e^{-at} e^{-j\\omega t} dt = \\frac{1}{j\\omega + a}, \\quad a > 0.\n",
        "$$"
      ],
      "metadata": {
        "id": "P1ZJ6Ac1FBCB"
      }
    },
    {
      "cell_type": "markdown",
      "source": [
        "از معادله (9.3)، تبدیل لاپلاس به صورت زیر است:\n",
        "\n",
        "$$\n",
        "X(s) = \\int_{-\\infty}^{\\infty} e^{-at} u(t) e^{-st} dt = \\int_0^\\infty e^{-(s + a)t} dt,\n",
        "$$\n",
        "یا با قرار دادن $$( s = \\sigma + j\\omega )$$:\n",
        "\n",
        "$$\n",
        "X(\\sigma + j\\omega) = \\int_0^\\infty e^{-(\\sigma + a)t} e^{-j\\omega t} dt. \\quad \\text{معادله} \\, (9.11)\n",
        "$$\n",
        "\n",
        "با مقایسه با معادله (9.9)، معادله (9.11) را به عنوان تبدیل فوریه $$( e^{-(\\sigma + a)t} u(t) )$$ می‌شناسیم و بنابراین:\n",
        "\n",
        "$$\n",
        "X(\\sigma + j\\omega) = \\frac{1}{(\\sigma + a) + j\\omega}, \\quad \\sigma + a > 0.\n",
        "$$\n",
        "\n",
        "یا به طور معادل، چون $$( s = \\sigma + j\\omega )$$ و $$( \\sigma = \\text{Re}(s) )$$:\n",
        "\n",
        "$$\n",
        "X(s) = \\frac{1}{s + a}, \\quad \\text{Re}(s) > -a.\n",
        "$$\n",
        "\n",
        "برای مثال، برای \\( a = 0 \\)، \\( x(t) \\) همان گام واحد است که تبدیل لاپلاس آن به صورت $$( X(s) = \\frac{1}{s} )$$ است.\n",
        "\n",
        "توجه داشته باشید که همانطور که تبدیل فوریه برای همه سیگنال‌ها همگرا نمی‌شود، تبدیل لاپلاس نیز ممکن است برای مقادیری از $$( \\text{Re}(s) )$$ همگرا باشد و برای مقادیر دیگر همگرا نباشد. در معادله (9.13)، تبدیل لاپلاس تنها برای $$( \\text{Re}(s) > -a )$$ همگرا است. اگر \\( a \\) مثبت باشد،"
      ],
      "metadata": {
        "id": "EoTLJ7zzFI0x"
      }
    },
    {
      "cell_type": "markdown",
      "source": [
        "سپس می‌توان تبدیل لاپلاس \\( X(s) \\) را در \\( sigma = 0 \\) محاسبه کرد تا به نتیجه زیر برسیم:\n",
        "\n",
        "$$\n",
        "X(0+j\\omega) = \\frac{1}{\\omega + a}, \\quad \\text{معادله} \\, (9.15)\n",
        "$$\n",
        "\n",
        "همانطور که در معادله (9.6) نشان داده شده است، برای \\( sigma = 0 \\)، تبدیل لاپلاس برابر با تبدیل فوریه است، همانطور که در مثال قبلی با مقایسه معادلات (9.9) و (9.15) مشهود است. اگر \\( a \\) منفی یا صفر باشد، تبدیل لاپلاس همچنان وجود دارد، اما تبدیل فوریه وجود ندارد.\n",
        "\n",
        "### مثال 9.2\n",
        "\n",
        "برای مقایسه با مثال 9.1، به عنوان مثال دوم سیگنال زیر را در نظر می‌گیریم:\n",
        "\n",
        "$$\n",
        "x(t) = -e^{-at} u(-t)\n",
        "$$\n",
        "\n",
        "بنابراین:\n",
        "\n",
        "$$\n",
        "X(s) = - \\int_{-\\infty}^{\\infty} e^{-at} e^{-st} u(-t) dt = - \\int_{-\\infty}^{\\infty} e^{-(s + a)t} dt,\n",
        "$$\n",
        "\n",
        "که معادله (9.16) است. با توجه به معادله (9.18):\n",
        "\n",
        "$$\n",
        "X(s) = \\frac{-1}{s + a}, \\quad \\text{معادله} \\, (9.17)\n",
        "$$\n",
        "\n",
        "برای همگرایی در این مثال، نیاز داریم که\n",
        "$$( \\text{Re}(s + a) < 0 ) یا ( \\text{Re}(s) < -a )$$\n",
        "، یعنی:\n",
        "\n",
        "$$\n",
        "X(s) = \\frac{-1}{s + a}, \\quad \\text{Re}(s) < -a, \\quad \\text{معادله} \\, (9.19)\n",
        "$$\n",
        "\n",
        "با مقایسه معادلات (9.14) و (9.19)، مشاهده می‌کنیم که عبارت جبری برای تبدیل لاپلاس در هر دو سیگنال در مثال‌های 9.1 و 9.2 یکسان است. با این حال، از همان معادلات می‌بینیم که مجموعه مقادیر \\( s \\) که این عبارت برای آن‌ها معتبر است، در دو مثال بسیار متفاوت است. این موضوع نشان می‌دهد که هنگام مشخص کردن تبدیل لاپلاس یک سیگنال، هم عبارت جبری و هم محدوده مقادیر \\( s \\) برای که این عبارت معتبر است، نیاز است. به طور کلی، محدوده مقادیر \\( s \\) برای که انتگرال در معادله (9.3) همگرا است، به عنوان منطقه همگرایی (ROC) تبدیل لاپلاس شناخته می‌شود. به عبارت دیگر، ROC شامل مقادیر \\( s = sigma + jomega \\) است که تبدیل فوریه سیگنال $$( x(t) e^{-\\sigma t} )$$ همگرا می‌شود.\n",
        "\n",
        "### نمایش منطقه همگرایی\n",
        "\n",
        "یک روش راحت برای نمایش منطقه همگرایی در شکل 9.1 نشان داده شده است. متغیر ( s ) یک عدد مختلط است و در این شکل، صفحه مختلط یا همان صفحه ( s )-plane نشان داده شده است. محور افقی $$( \\text{Re}(s) )$$ و محور عمودی $$( \\text{Im}(s) )$$ است. این محورها گاهی به عنوان محور \\( sigma \\) و محور \\( j\\omega \\) شناخته می‌شوند. ناحیه سایه‌دار در شکل 9.1 (الف) مجموعه نقاط در صفحه \\( s \\)-plane را نشان می‌دهد که به منطقه همگرایی برای مثال 9.1 مربوط می‌شود. ناحیه سایه‌دار در شکل 9.1 (ب) منطقه همگرایی برای مثال 9.2 را نشان می‌دهد."
      ],
      "metadata": {
        "id": "Zc7JHm-4FOg1"
      }
    },
    {
      "cell_type": "code",
      "source": [
        "import matplotlib.pyplot as plt\n",
        "import numpy as np\n",
        "\n",
        "# Create the figure and axes for the two subplots\n",
        "fig, axes = plt.subplots(1, 2, figsize=(10, 5))\n",
        "\n",
        "# Define the parameters for the plots\n",
        "a = -1\n",
        "x = np.linspace(-2, 2, 400)\n",
        "y = np.linspace(-2, 2, 400)\n",
        "\n",
        "# Plot (a)\n",
        "axes[0].axvline(x=a, color='black', linestyle='--')  # Dashed vertical line at -a\n",
        "axes[0].axhline(y=0, color='black', linestyle='-')   # Real axis\n",
        "axes[0].axvline(x=0, color='black', linestyle='-')   # Imaginary axis\n",
        "axes[0].set_xlim(-2, 2)\n",
        "axes[0].set_ylim(-2, 2)\n",
        "axes[0].set_title(\"(a)\")\n",
        "axes[0].set_xlabel(\"Re\")\n",
        "axes[0].set_ylabel(\"Im\")\n",
        "axes[0].grid(False)\n",
        "\n",
        "# Plot (b)\n",
        "axes[1].axvline(x=a, color='black', linestyle='--')  # Dashed vertical line at -a\n",
        "axes[1].axhline(y=0, color='black', linestyle='-')   # Real axis\n",
        "axes[1].axvline(x=0, color='black', linestyle='-')   # Imaginary axis\n",
        "axes[1].set_xlim(-2, 2)\n",
        "axes[1].set_ylim(-2, 2)\n",
        "axes[1].set_title(\"(b)\")\n",
        "axes[1].set_xlabel(\"Re\")\n",
        "axes[1].set_ylabel(\"Im\")\n",
        "axes[1].grid(False)\n",
        "\n",
        "# Set the overall layout and show the plots\n",
        "plt.tight_layout()\n",
        "plt.show()\n"
      ],
      "metadata": {
        "colab": {
          "base_uri": "https://localhost:8080/",
          "height": 507
        },
        "id": "GZLiWarqexE-",
        "outputId": "20f3e908-82a0-454d-aa04-93fa52d9ddec"
      },
      "execution_count": null,
      "outputs": [
        {
          "output_type": "display_data",
          "data": {
            "text/plain": [
              "<Figure size 1000x500 with 2 Axes>"
            ],
            "image/png": "[encoded data removed]"
          },
          "metadata": {}
        }
      ]
    }
  ]
}