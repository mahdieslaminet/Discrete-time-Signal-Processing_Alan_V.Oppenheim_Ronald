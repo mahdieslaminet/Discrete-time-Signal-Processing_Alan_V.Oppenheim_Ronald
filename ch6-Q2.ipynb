{
  "nbformat": 4,
  "nbformat_minor": 0,
  "metadata": {
    "colab": {
      "provenance": []
    },
    "kernelspec": {
      "name": "python3",
      "display_name": "Python 3"
    },
    "language_info": {
      "name": "python"
    }
  },
  "cells": [
    {
      "cell_type": "markdown",
      "source": [
        "سوال اول) تبدیل لاپلاس هریک از توابع زیر را به دست آورید."
      ],
      "metadata": {
        "id": "er8nju2ZHFON"
      }
    },
    {
      "cell_type": "code",
      "execution_count": null,
      "metadata": {
        "colab": {
          "base_uri": "https://localhost:8080/"
        },
        "id": "h8MEZBQeFl6J",
        "outputId": "379287b4-7b64-4334-a853-1adb2ef9b060"
      },
      "outputs": [
        {
          "output_type": "stream",
          "name": "stdout",
          "text": [
            "Laplce Transform of x1(t)\n",
            "⎛         -3⋅s - 15⋅ⅈ    -3⋅s + 15⋅ⅈ             ⎞\n",
            "⎜ -4⋅s   ℯ              ℯ              2         ⎟\n",
            "⎜ℯ     - ──────────── - ──────────── + ─, 0, True⎟\n",
            "⎝        2⋅(s + 5⋅ⅈ)    2⋅(s - 5⋅ⅈ)    s         ⎠\n"
          ]
        }
      ],
      "source": [
        "import sympy as sp\n",
        "t, s = sp.symbols('t s')\n",
        "u = lambda t: sp.Heaviside(t, 1)\n",
        "δ = lambda t:sp.DiracDelta(t)\n",
        "x1 = 2*u(t) + δ(t-4) - sp.cos(5*t)*u(t-3)\n",
        "X1_s = sp.laplace_transform(x1, t, s, nonconds=True)\n",
        "print(\"Laplce Transform of x1(t)\")\n",
        "sp.pprint(X1_s)"
      ]
    },
    {
      "cell_type": "code",
      "source": [
        "import sympy as sp\n",
        "t, s = sp.symbols('t s')\n",
        "u = lambda t: sp.Heaviside(t, 1)\n",
        "δ = lambda t:sp.DiracDelta(t)\n",
        "x2 = t*u(t) - 2*(t-2) + (t-3)*u(t-3)\n",
        "X2_s = sp.laplace_transform(x2, t, s, nonconds=True)\n",
        "print(\"\\nLaplace Transform of xx2(t):\")\n",
        "sp.pprint(X2_s)\n"
      ],
      "metadata": {
        "colab": {
          "base_uri": "https://localhost:8080/"
        },
        "id": "sSsBsvSnQsBA",
        "outputId": "808b2b54-8429-4388-fb01-f837a61babce"
      },
      "execution_count": null,
      "outputs": [
        {
          "output_type": "stream",
          "name": "stdout",
          "text": [
            "\n",
            "Laplace Transform of xx2(t):\n",
            "⎛          -3⋅s         ⎞\n",
            "⎜4   1    ℯ             ⎟\n",
            "⎜─ - ── + ─────, 0, True⎟\n",
            "⎜s    2     2           ⎟\n",
            "⎝    s     s            ⎠\n"
          ]
        }
      ]
    },
    {
      "cell_type": "markdown",
      "source": [
        "**سوال دوم)** تبدیل لاپلاس توابع داده شده است.\n",
        "\n",
        "x(t)?\n"
      ],
      "metadata": {
        "id": "pyaluzM9SUdA"
      }
    },
    {
      "cell_type": "code",
      "source": [
        "import sympy as sp\n",
        "s, t = sp.symbols('s t')\n",
        "X1_s = 10 * (s+1) / (s**2 + 4*s +3)\n",
        "x1_t = sp.inverse_laplace_transform(X1_s, s, t)\n",
        "print(\"Inverse Laplace Transform of X2(s):\")\n",
        "sp.pprint(x1_t)"
      ],
      "metadata": {
        "colab": {
          "base_uri": "https://localhost:8080/"
        },
        "id": "I9tDYiDWSnEy",
        "outputId": "37a39766-3743-4843-b5c8-e8ac6775c0b6"
      },
      "execution_count": null,
      "outputs": [
        {
          "output_type": "stream",
          "name": "stdout",
          "text": [
            "Inverse Laplace Transform of X2(s):\n",
            "    -3⋅t     \n",
            "10⋅ℯ    ⋅θ(t)\n"
          ]
        }
      ]
    },
    {
      "cell_type": "code",
      "source": [
        "import sympy as sp\n",
        "s, t = sp.symbols('s t')\n",
        "X2_s = 20 / (s * (s**2 + 10*s + 16))\n",
        "x2_t = sp.inverse_laplace_transform(X2_s, s, t)\n",
        "print(\"\\nInverse Laplace Transform of X2(s):\")\n",
        "sp.pprint(x2_t)"
      ],
      "metadata": {
        "colab": {
          "base_uri": "https://localhost:8080/"
        },
        "id": "GvuKnGAQUWOy",
        "outputId": "6ef333e2-0b32-4beb-a9f4-0b23a9382c82"
      },
      "execution_count": null,
      "outputs": [
        {
          "output_type": "stream",
          "name": "stdout",
          "text": [
            "\n",
            "Inverse Laplace Transform of X2(s):\n",
            "            -2⋅t           -8⋅t     \n",
            "5⋅θ(t)   5⋅ℯ    ⋅θ(t)   5⋅ℯ    ⋅θ(t)\n",
            "────── - ──────────── + ────────────\n",
            "  4           3              12     \n"
          ]
        }
      ]
    },
    {
      "cell_type": "markdown",
      "source": [],
      "metadata": {
        "id": "7sEduDcwU_nk"
      }
    }
  ]
}