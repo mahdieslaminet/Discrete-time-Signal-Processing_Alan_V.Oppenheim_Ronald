{
 "cells": [
  {
   "cell_type": "markdown",
   "metadata": {},
   "source": [
    "<div dir=\"rtl\" style=\"line-height:350%;\"><font face=\"IranNastaliq\" size=6>\n",
    "<div dir=\"rtl\" align=center>\n",
    "<font face=\"IranNastaliq\" size=50 color=Black>\n",
    "<p></p>\n",
    "به نام خدا\n",
    "</font>\n",
    "<br>\n",
    "<font>\n",
    "دانشگاه علوم تحقیقات \n",
    "</font>\n",
    "<br>\n",
    "<font color=black>\n",
    "فصل نه : تبدیل لاپلاس\n",
    "</font>\n",
    "<br>\n",
    "استاد : دکتر مهدی اسلامی\n",
    "    <br>\n",
    "    نویسنده: مانیا پوررفیع\n",
    "    </div>\n",
    "<hr/>\n",
    "</font>\n",
    "</div></div>"
   ]
  },
  {
   "cell_type": "markdown",
   "metadata": {},
   "source": [
    "\n",
    "<div dir=\"rtl\">\n",
    " \n",
    " <H3>9.0 مقدمه\n",
    "   <div dir=\"rtl\">\n",
    "   9.1تبدیل لاپلاس \n",
    "     <div dir=\"rtl\">\n",
    "    9.2 ناحیه همگرایی تبدیل لاپلاس\n",
    "     <div dir=\"rtl\">\n",
    "   9.3 عکس تبدیل لاپلاس\n",
    "     <div dir=\"rtl\">\n",
    "    9.4 محاسبه تبدیل فوریه از نمودار قطب-صفر به روش هندسی\n",
    " \n",
    "   <div dir=\"rtl\">\n",
    "   9.4.1 سیستم های مرتبه اول\n",
    "    <div dir=\"rtl\">\n",
    "   9.4.2 سیستم های مرتبه دوم\n",
    "    <div dir=\"rtl\">\n",
    "   9.4.3 سیستم های تمام گذر\n",
    "    <div dir=\"rtl\">\n",
    "   9.5 خواص تبدیل لاپلاس\n",
    "    <div dir=\"rtl\">\n",
    "   9.5.1 خطی بودن تبدیل لاپلاس\n",
    "    <div dir=\"rtl\">\n",
    "   9.5.2 جابه جایی زمانی \n",
    "     <div dir=\"rtl\">\n",
    "    9.5.3 جابه جایی در حوزه S\n",
    "    <div dir=\"rtl\">\n",
    "   9.5.4 تغییر مقیاس زمانی\n",
    "    <div dir=\"rtl\">\n",
    "   9.5.5 مزدوج گیری \n",
    "    <div dir=\"rtl\">\n",
    "   9.5.6 خاصیت کانوولوشن \n",
    "    <div dir=\"rtl\">\n",
    "   9.5.7 مشتق گیری در حوزه زمان \n",
    "    <div dir=\"rtl\">\n",
    "   9.5.8 مشتق گیری در حوزه S\n",
    "    <div dir=\"rtl\">\n",
    "   9.5.9 انتگرال گیری در حوزه زمان \n",
    "    <div dir=\"rtl\">\n",
    "   9.5.10 قضایای مقدار اولیه و مقدار نهایی\n",
    "    <div dir=\"rtl\">\n",
    "   9.5.11 جدول خواص\n",
    "     <div dir=\"rtl\">\n",
    "    9.6 چند زوج تحلیل لاپلاس\n",
    "    <div dir=\"rtl\">\n",
    "   9.7 تحلیل و توصیف سیستم های LTI \n",
    "    <div dir=\"rtl\">\n",
    "   9.7.1 علی بودن\n",
    "    <div dir=\"rtl\">\n",
    "   9.7.2 پایداری\n",
    "    <div dir=\"rtl\">\n",
    "   9.7.3 سیستم های توصیف شونده با معادلات دیفرانسیل\n",
    "    <div dir=\"rtl\">\n",
    "   9.7.4 نمونه هایی از ارتباط رفتار سیستم و تابع سیستم \n",
    "    <div dir=\"rtl\">\n",
    "   9.7.5 فیلتر های باتروث\n",
    "    <div dir=\"rtl\">\n",
    "   9.8 جبر تابع سیستم و نمایش جعبه ای\n",
    "     <div dir=\"rtl\">\n",
    "    9.8.1 توابع تبدیل اتصال سیستم \n",
    "    <div dir=\"rtl\">\n",
    "   9.8.2نمایش جعبه ای سیستم های علی توصیف شونده با معادله دیفرانسیل و توابع سیستم گویا\n",
    "     <div dir=\"rtl\">\n",
    "    9.9 تبدیل لاپلاس یک طرفه\n",
    "     <div dir=\"rtl\">\n",
    "    9.9.1 مثال هایی تبدیل لاپلاس\n",
    "    <div dir=\"rtl\">\n",
    "   9.9.2 خواص تبدیل لاپلاس یک طرفه\n",
    "     <div dir=\"rtl\">\n",
    "    9.9.3 حل معادله دیفرانسیل به کمک تبدیل لاپلاس یک طرفه\n",
    "   "
   ]
  },
  {
   "cell_type": "markdown",
   "metadata": {},
   "source": [
    "<div dir=\"rtl\">\n",
    "    <H2>9.0 مقدمه </H2>\n",
    "  <div dir=\"rtl\">  \n",
    "در فصل‌های قبل ابزارهای تحلیل فوریه را در بررسی مسائل متعددی از سیگنال‌ها و سیستم‌های LTI بسیار مفید یافتیم. این امر تا حد زیادی مرهون این حقیقت است که دستهٔ وسیعی از سیگنال‌ها را می‌توان به صورت ترکیب خطی نمایی‌های مختلط نشان داد و نمایی‌های مختلط توابع ویژهٔ سیستم‌های خطی تغییر ناپذیر با زمان هستند. تبدیل فوریهٔ پیوسته در زمان روشی برای نمایش سیگنال‌ها بر حسب ترکیب نمایی‌های مختلط $e^{st}$ با $s = j\\omega$ فراهم می‌آورد. ولی خاصیت تابع ویژه بودن بیان شده در بخش 2.3 به ازای هر مقدار دلخواه $s$ برقرارست و لازم نیست $s$ موهومی خالص باشد. این مطلب به تعمیم تبدیل فوریهٔ پیوسته در زمان منجر می‌شود که تبدیل لاپلاس نام دارد و در این فصل به بررسی آن می‌پردازیم:\n",
    "<div dir=\"rtl\">\n",
    "خواهیم دید که تبدیل‌های لاپلاس و $z$ بسیاری از خواصی را که باعث مفید بودن تبدیل فوریه شده است، دارند. این تبدیل‌ها علاوه بر آن که امکانات جدیدی برای کسب بینش نسبت به سیگنال‌ها و سیستم‌هایی که با تبدیل فوریه قابل تحلیل‌اند در اختیارمان قرار می‌دهند، برای مقوله‌هایی که با تبدیل فوریه قابل تحلیل نیستند نیز کارایی دارند. برای نمونه تبدیل‌های لاپلاس و $z$ را می‌توان برای تحلیل بسیاری از سیستم‌های ناپایدار به کار برد، بنابراین نقش مهمی در بررسی پایداری و ناپایداری سیستم‌ها دارند. این مطلب، به اضافهٔ خواص جبری مشترک تبدیل‌های لاپلاس و $z$ با تبدیل فوریه امکانات تحلیلی بسیار مهمی، مخصوصاً برای تحلیل سیستم‌های فیدبک‌دار فصل 11 در اختیارمان قرار می‌دهد.\n",
    "\n",
    "\n",
    "\n",
    "\n"
   ]
  },
  {
   "cell_type": "markdown",
   "metadata": {},
   "source": [
    "<div dir=\"rtl\">\n",
    "    <H2>9.1 تبدیل لاپلاس </H2>"
   ]
  },
  {
   "cell_type": "markdown",
   "metadata": {},
   "source": [
    "<div dir=\"rtl\">\n",
    "    در فصل 3 دیدیم که پاسخ یک سیستم خطی تغییر ناپذیر با زمان دارای پاسخ ضربه h(t) به ورودی نمایی مختلط $e^{st}$ عبارت است از:\n",
    "  $$\n",
    "y(t) = H(s) e^{st} \\quad (9.1)\n",
    "$$  \n",
    "<div dir=\"rtl\">    \n",
    " که در ان \n",
    "  $$\n",
    "H(s) = \\int_0^\\infty h(t) e^{-st} dt \\quad  (9.2)\n",
    "$$\n",
    "<div dir=\"rtl\">   \n",
    "  به ازای $s=j\\omega$ (یعنی $s$ موهومی) انتگرال معادله (9.2) تبدیل فوریهٔ $h(t)$ است. به ازای مقادیر مختلط $s$،\n",
    "این انتگرال تبدیل لاپلاس پاسخ ضربهٔ $h(t)$ نامیده می‌شود.\n",
    "تبدیل لاپلاس سیگنال دلخواه $x(t)$ به صورت زیر تعریف می‌شود:  \n",
    " $$\n",
    "X(s) = \\int_{-\\infty}^{\\infty} x(t) e^{-st} dt \\quad (9.3)\n",
    "$$\n",
    "\n",
    "<div dir=\"rtl\"> \n",
    "توجه کنید که $H(s)$ تابعی از متغیر مستقل $s$ است، یعنی همان متغیر مختلطی که در نمایی مختلط $e^{st}$ قرار دارد. متغیر مختلط $s$ را می‌توان به صورت $s = \\sigma + j\\omega$ نوشت که در آن $\\sigma$ و $\\omega$ به ترتیب بخش‌های حقیقی و موهومی آن هستند. برای سادگی گاهی تبدیل لاپلاس را با نماد $\\mathcal{L}\\{x(t)\\}$ و رابطهٔ تبدیل بین $x(t)$ و $X(s)$ را به صورت زیر نشان می‌دهیم: \n",
    " \n",
    " $$\n",
    "\\mathcal{C} \\{ x(t) \\} = X(s) \\quad  (9.4)\n",
    "$$\n",
    "<div dir=\"rtl\"> \n",
    " به ازای $s = j\\omega$ معادله (9.3) به شکل زیر در می‌آید:\n",
    "  \n",
    "  $$\n",
    "X(jw) = \\int_{-\\infty}^{\\infty} x(t) e^{-jwt} dt \\quad  (9.5)\n",
    "$$\n",
    "<div dir=\"rtl\">   \n",
    " که همان تبدیل فوریه x(t) است، یعنی\n",
    "    \n",
    "  $$\n",
    "X(s)|_{s=jw} = \\mathcal{F} \\{x(t)\\} \\quad  (9.6)\n",
    "$$\n",
    "<div dir=\"rtl\">  \n",
    "  در حالتی که متغیر مختلط $s$ موهومی خالص هم نیست، باز تبدیل لاپلاس با تبدیل فوریه رابطه دارد. برای پی بردن به این رابطه، $X(s)$ را مطابق معادله (9.3) فرض کنید و با قرار دادن $s = j\\omega$ به دست آورید:\n",
    "  \n",
    " $$\n",
    "X(\\sigma+j\\omega)=\\int_{-\\infty}^{+\\infty}x(t)e^{-(\\sigma+j\\omega)t}d~t \\qquad (9.7)\n",
    "$$ \n",
    " <div dir=\"rtl\"> \n",
    " یا  \n",
    "$$\n",
    "X(\\sigma+j\\omega)=\\int_{-\\infty}^{+\\infty}[x(t)e^{-\\sigma t}]e^{-j\\omega t}d~t \\qquad (9.8)\n",
    "$$  \n",
    " <div dir=\"rtl\">   \n",
    "سمت راست معادلهٔ (9.8) تبدیل فوریهٔ $x(t)e^{-\\sigma t}$ است؛ یعنی تبدیل لاپلاس $x(t)$ را می‌توان تبدیل فوریهٔ حاصل ضرب $x(t)$ در یک سیگنال نمایی حقیقی دانست. تابع نمایی $e^{-\\sigma t}$ می‌تواند بسته به مثبت یا منفی بودن $\\sigma$ کاهشی یا افزایشی باشد.\n",
    "<div dir=\"rtl\">  \n",
    "برای نشان دادن تبدیل لاپلاس و رابطهٔ آن با تبدیل فوریه مثال زیر را در نظر می‌گیریم.  \n",
    "  \n",
    "  \n",
    "  "
   ]
  },
  {
   "cell_type": "markdown",
   "metadata": {},
   "source": [
    "<div dir=\"rtl\">\n",
    " <h2> مثال 9.1 </h2>\n",
    "    \n",
    "<div dir=\"rtl\">\n",
    "سیگنال $x(t) = e^{-at}u(t)$ را در نظر بگیرید. از مثال 4.1 می‌دانیم که تبدیل فوریهٔ $X(j\\omega)$ به ازای $a > ۰$ همگرا و به صورت زیر است:\n",
    "    \n",
    "  $$\n",
    "X(j\\omega)=\\int_{-\\infty}^{+\\infty}e^{-at}u(t)e^{-j\\omega t}d~t=\\int_{0}^{+\\infty}e^{-at}e^{-j\\omega t}d~t=\\frac{1}{j\\omega+a},a>0 \\qquad (9.9)\n",
    "$$  \n",
    "    \n",
    " <div dir=\"rtl\">\n",
    "با توجه به معادله 9.3 تبدیل لاپلاس عبارت است از  \n",
    "     \n",
    "  $$\n",
    "X(j\\omega)=\\int_{-\\infty}^{+\\infty}e^{-at}e^{-st}u(t)dt=\\int_{0}^{+\\infty}e^{-(s+a)t}dt \\qquad (9.10)\n",
    "$$ \n",
    "\n",
    "   <div dir=\"rtl\">  \n",
    "   به ازای $s = \\sigma + j\\omega$  :\n",
    "\n",
    "$$\n",
    "X(\\sigma+j\\omega)=\\int_{0}^{+\\infty}e^{-(\\sigma+a)t}e^{-j\\omega t}dt \\qquad (9.11)\n",
    "$$ \n",
    "  <div dir=\"rtl\">  \n",
    "  مقایسه با معادلهٔ (9.9) نشان می‌دهد که معادلهٔ (9.11) تبدیل فوریهٔ $e^{-(\\sigma+a)t}u(t)$ است، پس  \n",
    "  \n",
    "  $$\n",
    "X(\\sigma+j\\omega)=\\frac{1}{(\\sigma+a)+j\\omega},\\sigma+a>1 \\qquad (9.12)\n",
    "$$ \n",
    "\n",
    "<div dir=\"rtl\"> \n",
    "$\\sigma = \\mathcal{R}e\\{s\\}$ و $s = \\sigma + j\\omega$ چون\n",
    "\n",
    "$$\n",
    "X(s)=\\frac{1}{s+a}, \\Re\\{s\\}>-a \\qquad  (9.13)\n",
    "$$\n",
    "\n",
    "<div dir=\"rtl\"> \n",
    "    یعنی\n",
    "    \n",
    "  $$\n",
    "e^{-at}u(t) \\stackrel{\\mathcal{L}}{\\longleftrightarrow} \\frac{1}{s+a}, \\Re\\{s\\} > -a \\qquad  (9.14)\n",
    "$$  \n",
    "    \n",
    "  <div dir=\"rtl\">   \n",
    "  مثلاً به ازای $a = ۰$، $x(t)$ تابع پلهٔ واحد، با تبدیل لاپلاس $X(s) = 1/S$، $Re\\{s\\} > ۰$ است.\n",
    "<div dir=\"rtl\"> \n",
    "تذکر می‌دهیم که همان گونه که تبدیل فوریهٔ همهٔ سیگنال‌ها همگرا نیست، تبدیل لاپلاس نیز می‌تواند به ازای بعضی مقادیر $Re\\{s\\}$ همگرا باشد و به ازای بعضی مقادیر دیگر نه. تبدیل لاپلاس معادلهٔ (9.13) تنها به ازای $Re\\{s\\} = \\sigma > -a$ همگرا است. اگر $a$ مثبت باشد، می‌توان $X(s)$ را در $s = ۰$ محاسبه کرد و به دست آورد \n",
    "    \n",
    "  $$\n",
    "X(\\sigma+j\\omega)=\\frac{1}{j\\omega+a}\n",
    "\\qquad (9.15)\n",
    "$$  \n",
    "    \n",
    " <div dir=\"rtl\">    \n",
    "  چنان که معادلهٔ (9.6) نشان می‌دهد، به ازای $\\sigma = ۰$ تبدیل لاپلاس با تبدیل فوریه برابرست و مقایسهٔ معادله‌های (9.9) و (9.15) درستی این مطلب را در مورد این مثال به وضوح نشان می‌دهد. اگر $a$ منفی یا صفر باشد، تبدیل لاپلاس وجود دارد، ولی دیگر تبدیل فوریه وجود ندارد.  \n",
    "    \n",
    "    \n",
    "    "
   ]
  },
  {
   "cell_type": "markdown",
   "metadata": {},
   "source": [
    "<div dir=\"rtl\">\n",
    "<h2> مثال 9.2</h2>\n",
    "<div dir=\"rtl\">\n",
    "برای مقایسه با مثال 9.1، به عنوان مثال دوم سیگنال زیر را در نظر می‌گیریم:\n",
    "\n",
    "$$\n",
    "x(t) = -e^{-at} u(-t)\n",
    "$$\n",
    "<div dir=\"rtl\">\n",
    "بنابراین:\n",
    "\n",
    "$$\n",
    "X(s) = - \\int_{-\\infty}^{\\infty} e^{-at} e^{-st} u(-t) dt = - \\int_{-\\infty}^{\\infty} e^{-(s + a)t} dt \\quad (9.17)\n",
    "$$\n",
    "<div dir=\"rtl\">\n",
    "یا\n",
    "\n",
    "$$\n",
    "X(s) = \\frac{1}{s + a} \\quad (9.18)\n",
    "$$\n",
    "<div dir=\"rtl\">   \n",
    " برای همگرایی در این مثال لازم است که $Re\\{s+a\\} > ۰$ یا $Re\\{s\\} > -a$؛ یعنی   \n",
    "    <div dir=\"rtl\">\n",
    " یعنی:\n",
    "\n",
    "$$\n",
    "X(s) = \\frac{1}{s + a}, \\quad \\text{Re}(s) < -a \\quad  (9.19)\n",
    "$$\n",
    " <div dir=\"rtl\">\n",
    "مقایسهٔ معادلات (9.14) و (9.19) نشان می‌دهد که عبارت جبری به دست آمده برای تبدیل لاپلاس در هر دو مثال 9.1 و 9.2 یکسان است، ولی همین معادلات نشان می‌دهند که در این دو مثال مجموعه مقادیر $s$ که عبارت تبدیل به ازای آنها معتبرست، بسیار متفاوت اند. این مطلب نشان می‌دهد که در مشخص کردن تبدیل لاپلاس یک سیگنال، هم عبارت جبری تبدیل و هم گسترهٔ مقادیر $s$ معتبر برای آن عبارت لازم است.\n",
    "در حالت کلی گستره مقادیری که به ازای آن انتگرال معادلهٔ (9.3) همگراست، ناحیهٔ همگرایی (یا به اختصار ROC) تبدیل لاپلاس نامیده می‌شود. ROC مجموعه‌ای از مقادیر $s = \\sigma + j\\omega$ است که به ازای آنها تبدیل فوریهٔ $x(t)e^{-st}$ همگراست. پس از این که تبدیل لاپلاس را بیشتر درک کردیم، دربارهٔ ROC بیشتر صحبت خواهیم کرد.\n",
    " <div dir=\"rtl\">\n",
    "  شکل 9.1 راه مناسبی برای نمایش ROC را نشان می‌دهد. متغیر $s$ یک عدد مختلط است، شکل 9.1 صفحهٔ مختلط را نشان می‌دهد که غالباً صفحهٔ $s$ نامیده می‌شود و مربوط به این متغیر مختلط است. محورهای مختصات عبارت‌اند از $\\mathcal{R}e\\{s\\}$ در امتداد محور افقی و $\\mathcal{I}m\\{s\\}$ در امتداد محور قائم. گاه محورهای افقی و قائم را به ترتیب محور $\\sigma$ و محور $j\\omega$ می‌نامند. ناحیهٔ سایه‌خوردهٔ شکل 9.1 (الف) مجموعهٔ نقاطی از صفحهٔ $s$ را نشان می‌دهد که با ناحیهٔ همگرایی مثال 9.1 متناظرست. ناحیهٔ سایه‌خوردهٔ شکل 9.1 (ب) ناحیهٔ همگرایی مثال 9.2 را نشان می‌دهد."
   ]
  },
  {
   "cell_type": "markdown",
   "metadata": {},
   "source": [
    "<div dir=\"rtl\">\n",
    "<h2>مثال 9.3 </h2>\n",
    "\n",
    "<div dir=\"rtl\">\n",
    "در این مثال سیگنالی را در نظر میگیریم که حاصل جمع دو سیگنال نمایی حقیقی است.\n",
    "$$\n",
    "x(t)=3e^{-2t}u(t)-2e^{-t}u(t) \\qquad (9.20)\n",
    "$$\n",
    "<div dir=\"rtl\">\n",
    "    عبارت جبری تبدیل لاپلاس به صورت زیر بدست می اید.\n",
    "   \n",
    "   $$\n",
    "\\begin{aligned}\n",
    "X(s)&=\\int_{-\\infty}^{+\\infty}\\left[3e^{-2t}u(t)-2e^{-t}u(t)\\right]e^{-st}dt\\\\\n",
    "&=3\\int_{-\\infty}^{+\\infty}e^{-2t}e^{-st}u(t)dt-2\\int_{-\\infty}^{+\\infty}e^{-t}u(t)e^{-st}dt\n",
    "\\end{aligned}\n",
    " (9.21) $$\n",
    " <div dir=\"rtl\">\n",
    "انتگرال های معادله 9.21 به شکل انتگرال معادله 9.10 است و در نتیجه می توانیم نتیجه مثال 9.1 را به کار برده،به دست اوریم\n",
    "   \n",
    "   $$\n",
    "X(s)=\\frac{3}{s+2}-\\frac{2}{s+1} \\qquad (9.22)\n",
    "$$\n",
    "<div dir=\"rtl\">\n",
    "برای تعیین ROC توجه کنید که $x(t)$ مجموع دو نمایی حقیقی است و مطابق معادلهٔ (9.21) $X(s)$ مجموع تبدیل لاپلاس دو جمله است. جملهٔ اول تبدیل لاپلاس $3e^{-2t}u(t)$ و جملهٔ دوم تبدیل لاپلاس $-2e^{-t}u(t)$ است.از مثال 9.1 می‌دانیم \n",
    "\n",
    "$$\n",
    "\\begin{aligned}\n",
    "e^{-t}u(t) &\\stackrel{\\mathcal{L}}{\\longleftrightarrow} \\frac{1}{s+1}, \\Re\\{s\\} > -1 \\\\\n",
    "e^{-2t}u(t) &\\stackrel{\\mathcal{L}}{\\longleftrightarrow} \\frac{1}{s+2}, \\Re\\{s\\} > -2\n",
    "\\end{aligned}\n",
    "$$\n",
    "<div dir=\"rtl\">\n",
    "بنابراین مجموعهٔ مقادیری که به ازای آنها تبدیل لاپلاس هر دو جمله همگرا هستند، $Re\\{s\\} > -1$ است، و با ترکیب دو جملهٔ سمت راست معادلهٔ (9.22) به دست می‌آوریم:\n",
    "\n",
    "$$\n",
    "3e^{-2t}u(t) - 2e^{-t}u(t) \\stackrel{\\mathcal{L}}{\\longleftrightarrow} \\frac{s-1}{s^2+3s+2}, \\Re\\{s\\} > -1 \\qquad (9.23)\n",
    "$$\n",
    " "
   ]
  },
  {
   "cell_type": "markdown",
   "metadata": {},
   "source": [
    "<div dir=\"rtl\">\n",
    "<h2>مثال 9.4 "
   ]
  },
  {
   "cell_type": "markdown",
   "metadata": {},
   "source": [
    "<div dir=\"rtl\">\n",
    "در این مثال سیگنالی را در نظر میگیریم که مجموع یک نمایی حقیقی و یک نمایی مختلط است.\n",
    "$$\n",
    "x(t) = e^{-2t}u(t) + e^{-t}(\\cos 3t)u(t) \\qquad (9.24)\n",
    "$$\n",
    "    \n",
    "<div dir=\"rtl\">\n",
    "با استفاده از رابطه اویلر میتوان نوشت     \n",
    "\n",
    "$$\n",
    "x(t) = \\left[ e^{-2t} + \\frac{1}{2}e^{-(1-3j)t} + \\frac{1}{2}e^{-(1+3j)t} \\right] u(t)\n",
    "$$\n",
    "\n",
    "<div dir=\"rtl\">\n",
    "و تبدیل لاپلاس ان به صورت زیر یافت شد:\n",
    "\n",
    "$$\n",
    "\\begin{aligned}\n",
    "X(s) &= \\int_{-\\infty}^{+\\infty} e^{-2t} u(t) e^{-st} dt \\\\\n",
    "&+ \\frac{1}{2} \\int_{-\\infty}^{+\\infty} e^{-(1-3j)t} u(t) e^{-st} dt \\qquad (9.25)\n",
    "\\end{aligned}\n",
    "$$\n",
    "$$\n",
    "+ \\frac{1}{2} \\int_{-\\infty}^{+\\infty} e^{-(1+3j)t} u(t) e^{-st} dt\n",
    "$$\n",
    "\n",
    " <div dir=\"rtl\">  \n",
    "هر یک از انتگرال های 9.25 تبدیل لاپلاسی از نوع تبدیل لاپلاس مثال 9.1 هستند.بنابراین    \n",
    "    \n",
    "  $$\n",
    "\\begin{aligned}\n",
    "e^{-2t}u(t) &\\stackrel{\\mathcal{L}}{\\longleftrightarrow} \\frac{1}{s+2}, \\Re\\{s\\} > -2 \\qquad (9.26) \\\\\n",
    "e^{-(1-3j)t}u(t) &\\stackrel{\\mathcal{L}}{\\longleftrightarrow} \\frac{1}{s+(1-3j)}, \\Re\\{s\\} > -1 \\qquad (9.27) \\\\\n",
    "e^{-(1+3j)t}u(t) &\\stackrel{\\mathcal{L}}{\\longleftrightarrow} \\frac{1}{s+(1+3j)}, \\Re\\{s\\} > -1 \\qquad (9.28)\n",
    "\\end{aligned}\n",
    "$$  \n",
    "  \n",
    "  \n",
    " <div dir=\"rtl\"> \n",
    " برای این که هر سه تبدیل لاپلاس همگرا باشند، باید داشته باشیم $Re\\{s\\} > -1$. پس تبدیل لاپلاس $x(t)$ عبارت است از:\n",
    " \n",
    " $$\n",
    "\\frac{1}{s+2} + \\frac{1}{4} \\left( \\frac{1}{s+(1-3j)} \\right) + \\frac{1}{4} \\left( \\frac{1}{s+(1+3j)} \\right), \\Re\\{s\\} > -1 \\qquad (9.29)\n",
    "$$\n",
    "\n",
    "<div dir=\"rtl\"> \n",
    "    و با گرفتن مخرج مشترک \n",
    "    \n",
    "$$\n",
    "e^{-2t}u(t) + e^{-t}(\\cos 3t)u(t) \\stackrel{\\mathcal{L}}{\\longleftrightarrow} \\frac{2s^2+5s+12}{(s^2+2s+10)(s+2)}, \\Re\\{s\\} > -1 \\qquad (9.30)\n",
    "$$\n",
    "\n",
    "\n",
    " \n",
    " \n",
    " "
   ]
  },
  {
   "cell_type": "markdown",
   "metadata": {},
   "source": [
    "<div dir=\"rtl\">\n",
    "در تمام چهار مثال فبل تبدیل لاپلاس گویاست،یعنی نسبت دو چند جمله ای از متغیر مختلط s است به نحوی که:\n",
    "\n",
    "$$\n",
    "X(s) = \\frac{N(s)}{D(s)}  (9.31)\n",
    "$$\n",
    "\n",
    "<div dir=\"rtl\">\n",
    "که در آن $N(s)$ و $D(s)$ به ترتیب چند جمله‌ایهای صورت و مخرج هستند. چنانچه از مثال‌های 9.3 و 9.4 بر می‌آید، اگر $x(t)$ ترکیب خطی توابع نمایی حقیقی یا مختلط باشد، $X(s)$ گویاست. چنان که در بخش 9.7 خواهیم دید تبدیل‌های گویا هنگام در نظر گرفتن سیستم‌های LTI مشخص شده با معادلات دیفرانسیل خطی دارای ضرایب ثابت نیز پیش می‌آیند. چند جمله‌ایهای صورت و مخرج تبدیل گویا را می‌توان با ریشه‌های آنها مشخص کرد، البته بجز ضریب آن را. بنابراین مشخص کردن محل ریشه‌های $N(s)$ و $D(s)$ و ROC در صفحهٔ $s$ روش تصویری مناسبی برای توصیف تبدیل لاپلاس است. مثلاً شکل 9.2 (الف) تبدیل لاپلاس مثال 9.3 را نشان می‌دهد، در این شکل محل هر ریشهٔ چند جمله‌ای مخرج معادلهٔ (9.23) با علامت $\\times$ و محل هر ریشهٔ چند جمله‌ای صورت معادلهٔ (9.23) با $\\circ$ مشخص شده است. شکل 9.2 (ب) نیز محل ریشه‌های چند جمله‌ایهای صورت و مخرج تبدیل لاپلاس مثال 9.4 را نشان می‌دهد. در هر دو مورد ناحیهٔ همگرایی نیز مشخص شده است.\n",
    "\n",
    "<div dir=\"rtl\">\n",
    "در تبدیل لاپلاس‌های گویا، ریشه‌های چند جمله‌ای صورت را معمولاً صفرهای $X(s)$ می‌نامند، زیرا به ازای آنها $X(s) = ۰$ است. ریشه‌های چند جمله‌ای مخرج قطب‌های $X(s)$ نامیده می‌شوند، و به ازای آنها $X(s)$ بی‌نهایت است. صفرها و قطب‌های $X(s)$ در صفحهٔ $s$، عبارت جبری $X(s)$ را به طور کامل مشخص می‌کنند، البته با یک ضریب نامعلوم. نمایش $X(s)$ به صورت صفرها و قطب‌ها در صفحهٔ $s$ را نمودار قطب-صفر $X(s)$ می‌نامند. البته در مثال‌های 9.1 و 9.2 دیدیم که دانستن عبارت جبری $X(s)$ به تنهایی ROC تبدیل لاپلاس را مشخص نمی‌کند. یعنی برای تعیین کامل یک تبدیل لاپلاس گویا، بجز ضریب آن، هم نمودار قطب-صفر $X(s)$ و هم ROC آن لازم است.   \n",
    "    \n",
    "  <div dir=\"rtl\">  \n",
    "همچنین گاهی بهترست صفرها و قطبهای بی‌نهایت تبدیل لاپلاس گویا را نیز به میان آوریم، گر چه اینها برای مشخص کردن شکل جبری $X(s)$ به کار نمی‌آیند. دقیقتر این که اگر مرتبهٔ چند جمله‌ای مخرج بزرگتر از مرتبهٔ چند جمله‌ای صورت باشد، با میل $s$ به بی‌نهایت، $X(s)$ صفر می‌شود. برعکس اگر مرتبهٔ چند جمله‌ای صورت بزرگتر باشد، با میل $s$ به بی‌نهایت، $X(s)$ بی‌کران می‌شود. این رفتار را می‌توان به عنوان صفر و قطب بی‌نهایت تعبیر کرد. مثلاً مخرج تبدیل لاپلاس معادلهٔ (9.23) مرتبه دو و صورت آن مرتبه یک است، پس $X(s)$ یک صفر در بی‌نهایت دارد. در مورد تبدیل لاپلاس معادلهٔ (9.30) نیز چنین است، زیرا صورت مرتبهٔ 2 و مخرج مرتبهٔ 3 است. به طور کلی اگر مرتبهٔ مخرج برابر حاصل جمع $k$ و مرتبهٔ صورت باشد، $X(s)$ دارای $k$ صفر در بی‌نهایت است. به نحوی مشابه اگر صورت مرتبه بزرگتر از مخرج باشد، $X(s)$ دارای $k$ قطب در بی‌نهایت است.\n",
    "\n"
   ]
  },
  {
   "cell_type": "markdown",
   "metadata": {},
   "source": [
    "<div dir=\"rtl\"> \n",
    "    <h2> مثال 9.5 </h2>\n",
    " <div dir=\"rtl\"> \n",
    "فرض کنید:\n",
    "\n",
    "$$\n",
    "x(t) = \\delta(t) - \\frac{4}{3}e^{-t}u(t) + \\frac{1}{3}e^{2t}u(t) \\qquad (9.32)\n",
    "$$\n",
    "<div dir=\"rtl\"> \n",
    "تبدیل لاپلاس جملات دوم و سوم سمت راست معادله 9.32 را با توجه به مثال 9.1 بدست می اوریم.تبدیل لاپلاس ضربه واحد را می توان مستقیم به صورت زیر یافت\n",
    "$$\n",
    "\\mathcal{L}\\{\\delta(t)\\} = \\int_{-\\infty}^{+\\infty} \\delta(t) e^{-st} dt = 1 \\qquad (9.33)\n",
    "$$\n",
    "  <div dir=\"rtl\">   \n",
    " که به ازای هر مقدار $s$ معتبرست؛ یعنی ROC این تبدیل تمام صفحهٔ $s$ است. با توجه به این نتیجه و تبدیل لاپلاس دو جملهٔ دیگر معادلهٔ (9.32) به دست می‌آوریم:\n",
    " \n",
    " $$\n",
    "X(s) = 1 - \\frac{4}{3} \\frac{1}{s+1} + \\frac{1}{3} \\frac{1}{s-2}, \\Re\\{s\\} > 2 \\qquad (9.34)\n",
    "$$\n",
    "<div dir=\"rtl\"> \n",
    "    یا\n",
    " \n",
    " $$\n",
    "X(s) = \\frac{(s-1)^2}{(s+1)(s-2)}, \\Re\\{s\\} > 2 \\qquad (9.35)\n",
    "$$\n",
    "\n",
    "  <div dir=\"rtl\">   \n",
    " ROC مجموعهٔ مقادیری از $s$ است که به ازای آنها تبدیل لاپلاس هر سه جملهٔ $X(s)$ همگراست. شکل 9.3 نمودار قطب-صفر و ROC را نشان می‌دهد. چون صورت و مخرج هم مرتبه اند، $X(s)$ در بی‌نهایت نه صفر دارد نه قطب.\n",
    " \n",
    " \n",
    " "
   ]
  },
  {
   "cell_type": "markdown",
   "metadata": {},
   "source": [
    "<div dir=\"rtl\">\n",
    "    در معادلهٔ (9.6) دیدیم که به ازای $s = j\\omega$ تبدیل لاپلاس همان تبدیل فوریه است. اما اگر ROC تبدیل لاپلاس شامل محور $j\\omega$ (یعنی $Re\\{s\\} = ۰$) نباشد، تبدیل فوریه همگرا نیست. مطابق شکل 9.3 می‌بینیم برای مثال 9.5 چنین وضعیتی داریم، این به خاطر وجود جملهٔ $1/3 e^{-2t}u(t)$ در $x(t)$ است، زیرا این جمله تبدیل فوریه ندارد. همچنین در این مثال می‌بینیم که دو صفر معادلهٔ (9.35) در یک مقدار $s$ قرار دارند. به طور کلی تعداد تکرارهای یک صفر یا قطب در یک محل را مرتبهٔ قطب یا صفر می‌نامیم. بنابراین در مثال 9.5 یک صفر مرتبه دوم در $s = -1$ و دو قطب مرتبه اول در $s = -1$ و $s = 2$ واقع‌اند. در این مثال ROC در سمت راست دست راستی  ترین قطب قرار دارد. در حالت کلی برای تبدیل لاپلاس‌های گویا رابطهٔ نزدیکی بین محل قطب‌ها و ROC نمودار قطب-صفر وجود دارد. قیدهای ROC به خواص حوزهٔ زمان $x(t)$ مربوط می‌شود. در بخش بعد بعضی از این قیدها و خواص را بررسی می‌کنیم."
   ]
  },
  {
   "cell_type": "markdown",
   "metadata": {},
   "source": [
    "<div dir=\"rtl\">\n",
    "    <h2>9.2 ناحیه همگرایی تبدیل لاپلاس"
   ]
  },
  {
   "cell_type": "markdown",
   "metadata": {},
   "source": [
    "<div dir=\"rtl\">\n",
    "در بحث پیش دیدیم که برای مشخص کردن کامل تبدیل لاپلاس هم عبارت جبری X(s) و هم ناحیه\n",
    "همگرایی لازم است. چنان که از مثالهای 9.1 و 9.2 بر می آید دو سیگنال کاملاً متفاوت می‌توانند عبارت تبدیل لاپلاس یکسانی داشته باشند؛ بنابراین تبدیل لاپلاس آنها تنها با ناحیهٔ همگرایی متمایز می‌شود. در این بخش برخی قیدهای ROC سیگنالهای مختلف را بررسی می‌کنیم. خواهیم دید که درک این محدودیتها غالباً به ما امکان می‌دهد که تنها با دانستن عبارت جبری $X(s)$ و برخی مشخصه‌های حوزهٔ زمان $x(t)$، ROC را به طور ضمنی یا صریح مشخص کنیم.\n",
    "<div dir=\"rtl\">\n",
    "    <h2> ویژگی 1:ROC در صفحه S از نوار هایی موازی با محور $j\\omega$ تشکیل می شود.</h2>\n",
    "\n",
    "<div dir=\"rtl\">\n",
    "درستی این خاصیت ناشی از این امرست که ROC تبدیل لاپلاس $X(s)$ مجموعهٔ مقادیر $s = \\sigma + j\\omega$ است که به ازای آنها تبدیل فوریهٔ $x(t)e^{-\\sigma t}$ همگراست؛ یعنی ROC تبدیل لاپلاس $x(t)$ مجموعهٔ مقادیری از $s$ است که به ازای آن $x(t)e^{-\\sigma t}$ مطلقاً انتگرال‌پذیرست.\n",
    "\n",
    "\n",
    "\n",
    "\n",
    "\n",
    "\n"
   ]
  },
  {
   "cell_type": "markdown",
   "metadata": {},
   "source": [
    "<div dir=\"rtl\">\n",
    "$$\n",
    "\\int_{-\\infty}^{+\\infty} |x(t)| e^{-\\sigma t} dt < \\infty \\qquad(9.36)\n",
    "$$\n",
    "    \n",
    "    \n",
    "\n",
    "<div dir=\"rtl\">\n",
    "خاصیت 1 از این حقیقت ریشه می گیرد که این شرط تنها به بخش حقیقیs بستگی دارد."
   ]
  },
  {
   "cell_type": "markdown",
   "metadata": {},
   "source": [
    "<div dir=\"rtl\">\n",
    "<h2>ویژگی 2:ROC تبدیل لاپلاس های گویا هیچ قطبی را شامل نمی شود.</h2>\n",
    "    <p>\n",
    "  <div dir=\"rtl\">      \n",
    "        درستی این خاصیت را میتوان برای تمام مثال های قبلی دید.چون مقدار تبدیل لاپلاس در محل قطب بی نهایت است،انتگرال معادله9.3 درقطب مسلما همگرا نیست،بنابراین ROCنمیتواند شامل قطب ها باشد."
   ]
  },
  {
   "cell_type": "markdown",
   "metadata": {},
   "source": [
    "<div dir=\"rtl\">\n",
    "    <h2> ویژگی3: اگر X(t) عمر محدود داشته و مطلقا انتگرال پذیر باشد،ROCتمام صفحه s است."
   ]
  },
  {
   "cell_type": "markdown",
   "metadata": {},
   "source": [
    "<div dir=\"rtl\">\n",
    "    شکل های 9.4 و 9.5 درک شهودی ورای این خاصیت را نشان می دهد.سیگنال دارای عمر محدود طبق شکل9.4 این ویژگی را دارد که در خارج یک فاصله محدود صفر است.در شکل 9.5 الف حاصل ضرب X(t) شکل 9.4 و یک نمایی میرا، ور در شکل 9.5 ب حاصلضرب ان در یک نمایی افزاینده نشان داده شده است."
   ]
  },
  {
   "cell_type": "markdown",
   "metadata": {},
   "source": [
    "<div dir=\"rtl\">\n",
    "    چون فاصله ای که در ان X(t) مقدار غیر صفر دارد محدودست،ضریب نمایی در هیچ جای ان بیکران نمی شود، و معقول است چنین پنداریم که انتگرال پذیری X(t) با ضرب \n",
    "    شدن در این نمایی مخدوش نمی شود"
   ]
  },
  {
   "cell_type": "markdown",
   "metadata": {},
   "source": [
    "<div dir=\"rtl\">\n",
    "    اثبات ریاضی وار خاصیت 3 بدین گونه است:x(t) را مطلقا انتگرال پذیر فرض کنید،یعنی:\n",
    "    $$\n",
    "\\int_{T_1}^{T_r} |x(t)| dt < \\infty\\qquad (9.37)\n",
    "$$\n",
    "برای اینکه $$\n",
    "s = \\sigma + j\\omega\n",
    "$$ در ROC باشد، باید عبارت$x(t) e^{-\\sigma t}$  مطلقا انتگرال پذیر باشد\n"
   ]
  },
  {
   "cell_type": "code",
   "execution_count": 6,
   "metadata": {},
   "outputs": [
    {
     "data": {
      "image/png": "[encoded data removed]",
      "text/plain": [
       "<Figure size 576x288 with 1 Axes>"
      ]
     },
     "metadata": {
      "needs_background": "light"
     },
     "output_type": "display_data"
    }
   ],
   "source": [
    "import matplotlib.pyplot as plt\n",
    "import numpy as np\n",
    "\n",
    "# نقاط داده برای منحنی\n",
    "x_curve = np.array([1, 2, 3, 4, 5, 6, 7, 8])\n",
    "y_curve = np.array([2, 2.5, 1.8, 2.8, 2.2, 3, 2.5, 1.5])\n",
    "\n",
    "# نقاط داده برای خطوط عمودی\n",
    "x_vertical_1 = [1, 1]\n",
    "y_vertical_1 = [0, 2]\n",
    "x_vertical_2 = [8, 8]\n",
    "y_vertical_2 = [0, 1.5]\n",
    "\n",
    "# رسم شکل\n",
    "plt.figure(figsize=(8, 4))  # تنظیم اندازه شکل\n",
    "\n",
    "# رسم محور افقی t\n",
    "plt.plot([-1, 10], [0, 0], color='black')\n",
    "\n",
    "# رسم خطوط عمودی\n",
    "plt.plot(x_vertical_1, y_vertical_1, color='black')\n",
    "plt.plot(x_vertical_2, y_vertical_2, color='black')\n",
    "\n",
    "# رسم منحنی\n",
    "plt.plot(x_curve, y_curve, color='black')\n",
    "\n",
    "# اضافه کردن برچسب‌ها\n",
    "plt.text(1, -0.5, 'T1', ha='center')\n",
    "plt.text(8, -0.5, 'T2', ha='center')\n",
    "plt.text(4.5, -1, '(a)', ha='center')\n",
    "plt.text(10, 0, 't', ha='left')\n",
    "\n",
    "# تنظیم محدوده محورها\n",
    "plt.xlim(-1, 10)\n",
    "plt.ylim(-1.5, 3.5)\n",
    "\n",
    "# حذف خطوط اضافی\n",
    "plt.gca().spines['top'].set_visible(False)\n",
    "plt.gca().spines['right'].set_visible(False)\n",
    "plt.gca().spines['bottom'].set_visible(False)\n",
    "plt.gca().spines['left'].set_visible(False)\n",
    "\n",
    "# نمایش شکل\n",
    "plt.show()\n",
    "\n",
    "\n"
   ]
  },
  {
   "cell_type": "markdown",
   "metadata": {},
   "source": [
    "<div dir=\"rtl\">\n",
    "<h3> شکل 9.4 سیگنال دارای عمر محدود"
   ]
  },
  {
   "cell_type": "markdown",
   "metadata": {},
   "source": [
    "$$\n",
    "\\int_{T_1}^{T_r} |x(t)| e^{-\\sigma t} dt < \\infty \\qquad (9.38)\n",
    "$$"
   ]
  },
  {
   "cell_type": "markdown",
   "metadata": {},
   "source": [
    "<div dir=\"rtl\">\n",
    "    معادله (9.37) نشان می‌دهد که به ازای \n",
    "Re{s} = σ = ۰\n",
    "درون ROC است. برای σ > ۰ ماکزیمم مقدار \n",
    "$e^{-\\sigma t}$\n",
    "در فاصله غیر صفری (t)x برابر \n",
    "$e^{-\\sigma T_1}$\n",
    "است. پس می‌توان نوشت"
   ]
  },
  {
   "cell_type": "markdown",
   "metadata": {},
   "source": [
    "$$\n",
    "\\int_{T_1}^{T_r} |x(t)| e^{-\\sigma t} dt < e^{-\\sigma T_1} \\int_{T_1}^{T_r} |x(t)| dt \\qquad (9.39)\n",
    "$$"
   ]
  },
  {
   "cell_type": "markdown",
   "metadata": {},
   "source": [
    "<div dir=\"rtl\">\n",
    "    چون طرف راست معادله (9.39) کراندارست ، طرف چپ نیز کراندارست ؛ بنابراین Re{s} > ۰ باید در\n",
    "ROC باشد . با استدلالی مشابه ، به ازای σ < ۰ داریم"
   ]
  },
  {
   "cell_type": "markdown",
   "metadata": {},
   "source": [
    "$$\n",
    "\\int_{T_1}^{T_2} |x(t)| e^{-\\sigma t} dt < e^{-\\sigma T_r} \\int_{T_1}^{T_2} |x(t)| dt \\qquad (9.40)\n",
    "$$"
   ]
  },
  {
   "cell_type": "markdown",
   "metadata": {},
   "source": [
    "<div dir=\"rtl\">\n",
    "    و باز $x(t) e^{-\\sigma t}$ مطلقا انتگرال پذیر است.پس ROC تمام صفحه Sاست."
   ]
  },
  {
   "cell_type": "markdown",
   "metadata": {},
   "source": [
    "<div dir=\"rtl\">\n",
    "    <h2>مثال 9.6</h2>\n",
    "     فرض کنید\n",
    "$$\n",
    "x(t) = \\begin{cases} e^{-\\sigma t}, & 0 < t < 1 \\\\ 0, & \\text{در غیر این صورت} \\end{cases}\n",
    "$$\n",
    "\n",
    "<div dir=\"rtl\">\n",
    "    پس\n",
    "    $$\n",
    "X(s) = \\int_0^T e^{-at} e^{-st} dt = \\frac{1}{s+a} [1 - e^{-(s+a)T}] \\qquad(9.41)\n",
    "$$\n",
    "<div dir=\"rtl\">\n",
    "    چون در این مثال (t)x طول محدودی دارد ، ROC طبق خاصیت ۳ تمام صفحه s است . به نظر می رسد\n",
    "که (s)X معادله (9.42) یک قطب در s = -a دارد ، که طبق خاصیت ۲ با ROC بودن تمام صفحه s\n",
    "ناسازگار است . ولی در واقع در s = -a هم صورت و هم مخرج عبارت (9.42) صفرست ، و برای\n",
    "تعیین (s)X در s = -a می توانیم قاعده هوپیتال را به کار برده ، به دست آوریم"
   ]
  },
  {
   "cell_type": "markdown",
   "metadata": {},
   "source": [
    "<div dir=\"rtl\">\n",
    "$$\n",
    "\\lim_{s \\to -a} X(s) = \\lim_{s \\to -a} \\left[ \\frac{ \\frac{d}{ds}(1 - e^{-(s+a)T}) }{ \\frac{d}{ds}(s+a) } \\right] = \\lim_{s \\to -a} Te^{-aT} e^{-sT}\n",
    "$$\n",
    "<div dir=\"rtl\">\n",
    "پس\n",
    "\n",
    "$$\n",
    "X(-a) = T \\qquad (9.43)\n",
    "$$"
   ]
  },
  {
   "cell_type": "markdown",
   "metadata": {},
   "source": [
    "<div dir=\"rtl\">\n",
    "    به خاطر داشتن این نکته مهم است که کراندار بودن ضریب نمایی در فاصله غیر صفری (t)x به شدت به\n",
    "محدود بودن عمر (t)x بستگی دارد . در دو خاصیت بعدی نتیجه خاصیت ۳ را برای حالتهایی که (t)x در\n",
    "<div dir=\"rtl\">\n",
    "جهت مثبت یا منفی t محدود است ، اصلاح میکنیم ."
   ]
  },
  {
   "cell_type": "markdown",
   "metadata": {},
   "source": [
    "<div dir=\"rtl\">\n",
    "<h2> خاصیت ۴ : اگر (t)x دست راستی و خط Re{s} = σ₀ در ROC باشد ، آنگاه تمام مقادیر s با\n",
    "    Re{s} > σ₀ نیز در ROC هستند .</h2>"
   ]
  },
  {
   "cell_type": "markdown",
   "metadata": {},
   "source": [
    "<div dir=\"rtl\">\n",
    "سیگنال دست راستی سیگنالی است که،مطابق شکل 9.6،قبل از یک زمان معین T<sub>1</sub> صفر باشد،یعنی در t < T<sub>1</sub> ، x(t). ممکن است چنین سیگنالی به ازای هیچ مقدار s تبدیل لاپلاس نداشته باشد.یک نمونه سیگنال $x(t) = e^(t^2) u(t)$ است. اما فرض کنید به ازای یک مقدار σ₀ که  می نامیم،تبدیل لاپلاس همگرا باشد.پس   \n",
    "   \n",
    "  "
   ]
  },
  {
   "cell_type": "markdown",
   "metadata": {},
   "source": [
    "$$\n",
    "\\int_{-\\infty}^{+\\infty} |x(t)| e^{-\\sigma. t} dt < \\infty\\qquad (9.44)\n",
    "$$\n",
    "<div dir=\"rtl\">\n",
    "    و چون x(t) دست راستی است\n",
    "    $$\n",
    "\\int_{T_1}^{+\\infty} |x(t)| e^{-\\sigma. t} dt < \\infty\\qquad (9.45)\n",
    "$$\n",
    "<div dir=\"rtl\">\n",
    "   در این صورت $x(t) e^{-\\sigma_1 t}$ باید به ازای $\\sigma_1 > \\sigma_0$ مطلقا انتگرالپذیر باشد ؛ چون مطابق شکل 9.7،$ e^{-\\sigma_1 t}$ در\n",
    "$t → ∞$ سریعتر از $ e^{-\\sigma_0 t}$ کاهش می یابد . در واقع می توان گفت به ازای $\\sigma_1 > \\sigma_0$"
   ]
  },
  {
   "cell_type": "markdown",
   "metadata": {},
   "source": [
    "$$\n",
    "\\int_{T_1}^{+\\infty} |x(t)| e^{-\\sigma_1 t} dt = \\int_{T_1}^{+\\infty} |x(t)| e^{-\\sigma_0 t} e^{-(\\sigma_1 - \\sigma_0)t} dt \\qquad (9.46)\n",
    "$$\n",
    "$$\n",
    "\\le e^{-(\\sigma_1 - \\sigma_0)T_1} \\int_{T_1}^{+\\infty} |x(t)| e^{-\\sigma_0 t} dt\n",
    "$$"
   ]
  },
  {
   "cell_type": "code",
   "execution_count": 7,
   "metadata": {},
   "outputs": [
    {
     "data": {
      "image/png": "[encoded data removed]",
      "text/plain": [
       "<Figure size 576x288 with 1 Axes>"
      ]
     },
     "metadata": {
      "needs_background": "light"
     },
     "output_type": "display_data"
    }
   ],
   "source": [
    "import matplotlib.pyplot as plt\n",
    "import numpy as np\n",
    "\n",
    "# نقاط داده برای منحنی\n",
    "x_curve = np.array([1, 2, 3, 4, 5, 6, 7, 8, 9])\n",
    "y_curve = np.array([2, 2.5, 1.8, 2.8, 2.2, 3, 2.5, 1.5, 1])\n",
    "\n",
    "# نقاط داده برای خطوط عمودی\n",
    "x_vertical_1 = [1, 1]\n",
    "y_vertical_1 = [0, 2]\n",
    "x_vertical_2 = [5, 5]\n",
    "y_vertical_2 = [0, 3.5]  # خط عمودی دوم بلندتر است\n",
    "\n",
    "# رسم شکل\n",
    "plt.figure(figsize=(8, 4))  # تنظیم اندازه شکل\n",
    "\n",
    "# رسم محور افقی t\n",
    "plt.plot([-1, 10], [0, 0], color='black')\n",
    "\n",
    "# رسم خطوط عمودی\n",
    "plt.plot(x_vertical_1, y_vertical_1, color='black')\n",
    "plt.plot(x_vertical_2, y_vertical_2, color='black')\n",
    "\n",
    "# رسم منحنی اصلی\n",
    "plt.plot(x_curve, y_curve, color='black', linewidth=2)  # ضخامت خط را بیشتر می‌کنیم\n",
    "\n",
    "# اضافه کردن برچسب‌ها\n",
    "plt.text(1, -0.5, 'T2', ha='center')\n",
    "plt.text(10, 0, 't', ha='left')\n",
    "plt.text(5, 3.8, 'x(t)', ha='center')  # برچسب x(t) بالای خط عمودی دوم\n",
    "\n",
    "# تنظیم محدوده محورها\n",
    "plt.xlim(-1, 10)\n",
    "plt.ylim(-1.5, 4)\n",
    "\n",
    "# حذف خطوط اضافی\n",
    "plt.gca().spines['top'].set_visible(False)\n",
    "plt.gca().spines['right'].set_visible(False)\n",
    "plt.gca().spines['bottom'].set_visible(False)\n",
    "plt.gca().spines['left'].set_visible(False)\n",
    "\n",
    "# نمایش شکل\n",
    "plt.show()"
   ]
  },
  {
   "cell_type": "markdown",
   "metadata": {},
   "source": [
    "<div dir=\"rtl\">\n",
    "    <h3> شکل 9.6 سیگنال دست راستی"
   ]
  },
  {
   "cell_type": "markdown",
   "metadata": {},
   "source": [
    "<div dir=\"rtl\">\n",
    "    چون T1 محدود است،طبق معادله 9.45 سمت راست نامساوی 9.46 کراندار است و $x(t) e^{-\\sigma_1 t}$ مطلقا انتگرال پذیر است.\n",
    "        توجه کنید که در این بحث به طور صریح بر دست راستی بودن x(t) متکی هستیم ، بنابراین گرچه به ازای \n",
    "ازای σ₁ > σ₀ ، در $t → -∞$ ،  $ e^{-\\sigma_1 t}$ ، سریعتر از $e^{-\\sigma_0 t}$ واگرا می‌شود ، ولی $e^{-\\sigma_1 t}$کراندارست ، زیرا در T₁ > t ،\n",
    "داریم 0 = (t)x . همچنین در این حالت اگر s در ROC باشد ، تمام نقاط سمت راست s ، یعنی تمام نقاط\n",
    "    دارای بخش حقیقی بزرگتر از s نیز در ROC هستند . به این دلیل ROC را در این حالت راست - نیمصفحه\n",
    "می نامند ."
   ]
  },
  {
   "cell_type": "markdown",
   "metadata": {},
   "source": [
    "<div dir=\"rtl\">\n",
    "    <h2>خاصیت ۵ : اگر (t)x دست چپی و خط Re{s} = σ₀ در ROC باشد ، آنگاه تمام مقادیر s با\n",
    "        Re{s} < σ₀ نیز در ROC هستند . </h2>"
   ]
  },
  {
   "cell_type": "markdown",
   "metadata": {},
   "source": [
    "<div dir=\"rtl\">\n",
    "    سیگنال دست چپی سیگنالی مطابق شکل 9.8 است که بعد از زمان T₂ استدلال و درک شهودی و رای\n",
    "این خاصیت دقیقاً همانند استدلال و درک شهودی خاصیت ۴ است . همچنین برای سیگنال دست چپی\n",
    "ROC را معمولاً چپ - نیم صفحه مینامند ، زیرا اگر نقطه s در ROC باشد تمام نقاط سمت چپ آن نیز در\n",
    "ROC هستند ."
   ]
  },
  {
   "cell_type": "markdown",
   "metadata": {},
   "source": [
    "<div dir=\"rtl\">\n",
    "<h2>خاصیت ۶ : اگر (t)x دو طرفه و خط Re{s} = σ₀ در ROC باشد ، آنگاه ROC نواری در صفحه s ، مشتمل بر خط Re{s} = σ₀ است ."
   ]
  },
  {
   "cell_type": "markdown",
   "metadata": {},
   "source": [
    "<div dir=\"rtl\">\n",
    "سیگنال دوطرفه سیگنالی است که مطابق شکل 9.9(الف) در $t < 0 \\quad \\text{و} \\quad t > 0$ تا بینهایت گسترده است. برای بررسی ROC این سیگنال،مطابق شکل 9.9(ب) و (ج) زمان دلخواه T0 را برمیگزینیم و x(t) را به دو سیگنال دست راستی و دست چپی تجزیه می کنیم. تبدیل لاپلاس x(t) به ازای مقادیری از s همگراست که به ازای انها هم تبدیل لاپلاس دست راستی و هم تبدیل لاپلاس دست چپی همگرا باشد.\n",
    "    "
   ]
  },
  {
   "cell_type": "markdown",
   "metadata": {},
   "source": [
    "<div dir=\"rtl\">\n",
    "    با توجه به خاصیت ۴ ، ROC تبدیل $\\mathcal{L}\\{x_R(t)\\}$ یک نیم صفحه Re{s} > σR و با توجه به خاصیت ROC ،۵\n",
    "  <div dir=\"rtl\">\n",
    "       تبدیل $\\mathcal{L}\\{x_R(t)\\}$ یک نیم صفحه $\\Re e\\{s\\} < \\sigma_L$ است. پس مطابق شکل 9.10 ROC مربوط به $\\mathcal{L}\\{x_R(t)\\}$ اشتراک این دو نیم صفحه است .البته به شرطی که $\\sigma_R > \\sigma_L$ تا دو نیم صفحه اشتراک داشته باشند.اگر این شرط برقرار نباشد، حتی اگر $x_L(t) \\quad \\text {و} \\quad x_R(t)$ تبدیل لاپلاس داشته باشند، x(t) تبدیل لاپلاس ندارد."
   ]
  },
  {
   "cell_type": "markdown",
   "metadata": {},
   "source": [
    "<div dir=\"rtl\">\n",
    "    <h2> مثال 9.7\n"
   ]
  },
  {
   "cell_type": "markdown",
   "metadata": {},
   "source": [
    "<div dir=\"rtl\">\n",
    "فرض کنید"
   ]
  },
  {
   "cell_type": "markdown",
   "metadata": {},
   "source": [
    "<div dir=\"rtl\">\n",
    "    $$\n",
    "x(t) = e^{-b|t|} \\qquad (9.47)\n",
    "$$\n",
    "<div dir=\"rtl\">\n",
    "که در شکل 9.11 به ازای     b < 0  و   b   > 0         نشان داده شده است.چون این سیگنال دو طرفه است ،ان را به مجموع دو سیگنال دست راستی و چپی تجزیه می کنیم، یعنی"
   ]
  },
  {
   "cell_type": "markdown",
   "metadata": {},
   "source": [
    "<div dir=\"rtl\">\n",
    "    $$\n",
    "x(t) = e^{-bt}u(t) + e^{bt}u(-t) \\qquad (9.48)\n",
    "$$\n",
    "<div dir=\"rtl\">\n",
    "با توجه به مثال 9.1 داریم\n",
    "\n",
    "$$\n",
    "e^{-bt}u(t) \\stackrel{\\mathcal{L}}{\\longleftrightarrow} \\frac{1}{s+b} , \\Re e\\{s\\} > -b \\qquad (9.49)\n",
    "$$\n",
    "<div dir=\"rtl\">\n",
    "و با توجه به مثال 9.2 داریم\n",
    "\n",
    "$$\n",
    "e^{+bt}u(-t) \\stackrel{\\mathcal{L}}{\\longleftrightarrow} \\frac{-1}{s-b} , \\Re e\\{s\\} < +b \\qquad (9.50)\n",
    "$$\n",
    "<div dir=\"rtl\">\n",
    "    گرچه تبدیل لاپلاس هر یک از جملات معادله 9.48 یک ناحیه همگرایی دارد،ولی به ازای $b \\le 0$، ناحیه همگرایی مشترک وجود ندارد و به ازای این مقادیر x(t) ، b تبدیل لاپلاس ندارد. به ازای b>0 تبدیل لاپلاس x(t) عبارت است از:"
   ]
  },
  {
   "cell_type": "markdown",
   "metadata": {},
   "source": [
    "$$\n",
    "e^{-b|t|} \\stackrel{\\mathcal{L}}{\\longleftrightarrow} \\frac{1}{s+b} - \\frac{1}{s-b} = \\frac{-2b}{s^2 - b^2} , -b < \\Re e\\{s\\} < +b \\qquad (9.51)\n",
    "$$"
   ]
  },
  {
   "cell_type": "code",
   "execution_count": 11,
   "metadata": {},
   "outputs": [
    {
     "data": {
      "image/png": "[encoded data removed]",
      "text/plain": [
       "<Figure size 576x432 with 1 Axes>"
      ]
     },
     "metadata": {},
     "output_type": "display_data"
    }
   ],
   "source": [
    "import matplotlib.pyplot as plt\n",
    "\n",
    "def plot_complex_plane(b):\n",
    "    \"\"\"\n",
    "    نمودار صفحه مختلط با محورهای Re و Im و خطوط محدوده ROC را رسم می‌کند.\n",
    "    \n",
    "    ورودی:\n",
    "    b: مقدار b برای تعیین محدوده ROC\n",
    "    \"\"\"\n",
    "    \n",
    "    # تنظیمات نمودار\n",
    "    fig, ax = plt.subplots(figsize=(8, 6))\n",
    "    \n",
    "    # محورها\n",
    "    ax.axhline(0, color='black', linewidth=1)\n",
    "    ax.axvline(0, color='black', linewidth=1)\n",
    "    \n",
    "    # محدوده ROC (ناحیه خاکستری)\n",
    "    ax.axvspan(-b, b, facecolor='gray', alpha=0.3, edgecolor='black', linestyle='--')\n",
    "    \n",
    "    # علامت ضربدر برای قطب‌ها\n",
    "    ax.plot([-b, b], [0, 0], 'x', markersize=10, color='black')\n",
    "    \n",
    "    # برچسب‌ها\n",
    "    ax.text(-b, -0.2, '-b', ha='center', va='top')\n",
    "    ax.text(b, -0.2, 'b', ha='center', va='top')\n",
    "    ax.text(0, 1.2, 'Im', ha='center', va='bottom')\n",
    "    ax.text(1.2, 0, 'Re', ha='left', va='center')\n",
    "    ax.text(0.8, 1, 'صفحه -S', ha='left', va='bottom', rotation=90)\n",
    "    \n",
    "    # محدوده نمایش محورها\n",
    "    ax.set_xlim([-b - 2, b + 2])\n",
    "    ax.set_ylim([-1, 1.5])\n",
    "    \n",
    "    # حذف تیک‌های محورها\n",
    "    ax.set_xticks([])\n",
    "    ax.set_yticks([])\n",
    "    \n",
    "    # نمایش نمودار\n",
    "    plt.show()\n",
    "\n",
    "# مثال استفاده\n",
    "b_value = 3  # مقدار b را می‌توانید تغییر دهید\n",
    "plot_complex_plane(b_value)"
   ]
  },
  {
   "cell_type": "markdown",
   "metadata": {},
   "source": [
    "<div dir=\"rtl\">\n",
    "    <h2> شکل 9.12  </h2>  \n",
    "   \n",
    "<div dir=\"rtl\">   \n",
    "  نمودار قطب صفر در شکل 9.12 نشان داده شده و ROC خاکستری شده است. \n",
    "   \n",
    "   \n",
    "   "
   ]
  },
  {
   "cell_type": "markdown",
   "metadata": {},
   "source": [
    "<div dir=\"rtl\">\n",
    "    توجه کنید که هر سیگنالی یا اصلاً تبدیل لاپلاس ندارد ، یا در یکی از چهار مقوله مربوط به خاصیتهای ۳\n",
    "تا ۶ قرار میگیرد . بنابراین برای هر سیگنالی که تبدیل لاپلاس دارد، ROC یا تمام صفحه s است ( برای\n",
    "سیگنالهای محدود ) ، یا یک چپ - نیمصفحه است ( برای سیگنالهای دست چپی ) ، یا یک\n",
    "راست نیم صفحه است ( برای سیگنالهای دست راستی ) ، و یا یک نوار ( برای سیگنالهای دو طرفه ) . در\n",
    "تمام مثالهایی که زدیم ROC در هر طرف یا به قطب محدود میشد یا تا بینهایت گسترده بود . در واقع برای\n",
    "هر تبدیل لاپلاس گویایی داریم :"
   ]
  },
  {
   "cell_type": "markdown",
   "metadata": {},
   "source": [
    "<div dir=\"rtl\">\n",
    "    <h2> خاصیت ۷ : اگر تبدیل لاپلاس ( t ) x گویا باشد ، ROC آن یا به قطب محدود می شود یا تا بینهایت\n",
    "گسترده است . به علاوه هیچیک از قطبهای (s) X در ROC قرار ندارد ."
   ]
  },
  {
   "cell_type": "markdown",
   "metadata": {},
   "source": [
    "<div dir=\"rtl\">\n",
    "    استدلال دقیق برای اثبات این خاصیت نسبتاً پیچیده است ، ولی اعتبار آن اساساً نتیجه این حقایق است\n",
    "که تبدیل لاپلاس گویا از ترکیب خطی چند نمایی تشکیل میشود و ، با توجه به مثالهای 9.1 و 9.2 ،ROC\n",
    "هر جمله نمایی این ترکیب خطی باید دارای این خاصیت باشد . با توجه به خاصیت 7 ، و خواص 4 و 5 داریم:"
   ]
  },
  {
   "cell_type": "markdown",
   "metadata": {},
   "source": [
    "<div dir=\"rtl\">\n",
    "    <h2>خاصیت ۸ : اگر تبدیل لاپلاس (t)x گویا باشد ، و اگر (t)x دست راستی باشد ، ROC ناحیه\n",
    "سمت راست راست ترین قطب است . اگر (t)x دست چپی باشد ، ROC ناحیه سمت چپ\n",
    "چپ ترین قطب است . </h2>\n",
    "   <div dir=\"rtl\">\n",
    "       برای این که نشان دهیم چگونه یک نمودار صفر-قطب می تواند به ROC های مختلف تعلق داشته باشد،مثال زیر را در نظر می گیریم."
   ]
  },
  {
   "cell_type": "markdown",
   "metadata": {},
   "source": [
    "<div dir=\"rtl\">\n",
    "    <h2> مثال9.8 </h2>\n",
    "  <div dir=\"rtl\">  \n",
    "فرض کنید \n",
    "$$\n",
    "X(s) = \\frac{1}{(s+1)(s+2)} \\qquad(9.52)\n",
    "$$"
   ]
  },
  {
   "cell_type": "markdown",
   "metadata": {},
   "source": [
    "<div dir=\"rtl\">\n",
    "نمودار قطب - صفر در شکل 9.13 ( الف ) نشان داده شده است . مطابق شکل 9.13 ( ب ) تا ( د ) ، برای این عبارت\n",
    "جبری سه ROC ممکن وجود دارد که به سه سیگنال مختلف مربوط میشود . سیگنال متناظر با نمودار قطب -\n",
    "صفر شکل 9.13 ( ب ) یک سیگنال دست راستی است . چون ROC شامل محور jω است ، تبدیل فوریه این\n",
    "سیگنال همگراست . شکل 9.13 ( ج ) با یک سیگنال دست چپی و شکل 9.13 ( د ) با یک سیگنال دو طرفه\n",
    "متناظرست . چون در این دو حالت ROC شامل محور jω نیست ، هیچکدام از این دو سیگنال تبدیل فوریه\n",
    "ندارد ."
   ]
  },
  {
   "cell_type": "code",
   "execution_count": 12,
   "metadata": {},
   "outputs": [
    {
     "data": {
      "image/png": "[encoded data removed]",
      "text/plain": [
       "<Figure size 720x720 with 4 Axes>"
      ]
     },
     "metadata": {
      "needs_background": "light"
     },
     "output_type": "display_data"
    }
   ],
   "source": [
    "# Define the figure and axes\n",
    "fig, axs = plt.subplots(2, 2, figsize=(10, 10))\n",
    "axs = axs.flatten()\n",
    "\n",
    "# Titles for each subplot\n",
    "titles = [\n",
    "    \"(a)\",\n",
    "    \"(b)\",\n",
    "    \"(c)\",\n",
    "    \"(d)\"\n",
    "]\n",
    "\n",
    "# Define the real and imaginary axes limits\n",
    "real_limits = (-5, 5)\n",
    "imag_limits = (-5, 5)\n",
    "\n",
    "# Positions for poles and ROC lines\n",
    "poles = [0]  # All poles at Re = 0\n",
    "\n",
    "# Plot configurations\n",
    "for i, ax in enumerate(axs):\n",
    "    # Draw axes\n",
    "    ax.axhline(y=0, color='k', linewidth=0.8)\n",
    "    ax.axvline(x=0, color='k', linewidth=0.8)\n",
    "\n",
    "    # Add poles\n",
    "    for pole in poles:\n",
    "        ax.plot(pole, 0, 'kx', markersize=10, label=\"Pole\")\n",
    "\n",
    "    # Add ROC regions based on the subplot\n",
    "    if i == 0:  # (a) No ROC lines\n",
    "        pass\n",
    "    elif i == 1:  # (b) ROC to the right\n",
    "        ax.axvline(x=0, color='k', linestyle='--', linewidth=1)\n",
    "        ax.fill_betweenx(imag_limits, 0, 5, color='#d3d3d3', alpha=0.7)\n",
    "    elif i == 2:  # (c) ROC to the left\n",
    "        ax.axvline(x=0, color='k', linestyle='--', linewidth=1)\n",
    "        ax.fill_betweenx(imag_limits, -5, 0, color='#d3d3d3', alpha=0.7)\n",
    "    elif i == 3:  # (d) ROC between two lines\n",
    "        ax.axvline(x=-1, color='k', linestyle='--', linewidth=1)\n",
    "        ax.axvline(x=1, color='k', linestyle='--', linewidth=1)\n",
    "        ax.fill_betweenx(imag_limits, -1, 1, color='#d3d3d3', alpha=0.7)\n",
    "\n",
    "    # Set limits, title, and labels\n",
    "    ax.set_xlim(real_limits)\n",
    "    ax.set_ylim(imag_limits)\n",
    "    ax.set_title(titles[i])\n",
    "    ax.set_xlabel(\"Re\")\n",
    "    ax.set_ylabel(\"Im\")\n",
    "\n",
    "# Adjust layout and show the plot\n",
    "plt.tight_layout()\n",
    "plt.show()\n"
   ]
  },
  {
   "cell_type": "markdown",
   "metadata": {},
   "source": [
    "<div dir=\"rtl\">\n",
    "    <h2> شکل 9.13 </h2>\n",
    "  <div dir=\"rtl\">  \n",
    "شکل 9.13 (الف) نمودار قطب - صفر مثال9.8  ؛ (ب) ROC متناظر با سیگنال دست راستی ؛ (ج) ROC متناظر با سیگنال دست چپی ؛ (د) ROC متناظر با سیگنال دو طرفه ."
   ]
  },
  {
   "cell_type": "markdown",
   "metadata": {},
   "source": [
    "<div dir=\"rtl\">\n",
    "<h2> عکس تبدیل لاپلاس"
   ]
  },
  {
   "cell_type": "markdown",
   "metadata": {},
   "source": [
    "<div dir=\"rtl\">\n",
    "    در بخش 9.1 تبدیل لاپلاس یک سیگنال را به عنوان تبدیل فوریه سیگنال ضرب شده در یک نمایی تعبیر\n",
    "کردیم . یعنی با بیان s به صورت s = σ + jω  تبدیل لاپلاس سیگنال ( t ) x  برابرست با"
   ]
  },
  {
   "cell_type": "markdown",
   "metadata": {},
   "source": [
    "$$\n",
    "X(\\sigma + j\\omega) = \\mathcal{F}\\{x(t)e^{-\\sigma t}\\} = \\int_{-\\infty}^{+\\infty} x(t)e^{-\\sigma t}e^{-j\\omega t} dt \\qquad (9.53)\n",
    "$$"
   ]
  },
  {
   "cell_type": "markdown",
   "metadata": {},
   "source": [
    "<div dir=\"rtl\">\n",
    "    به شرطی که s = σ + jω در ROC باشد . با استفاده از تبدیل فوریه ، یعنی معادله ( 9.4 ) می توانیم وارون این\n",
    "عبارت را بیابیم . داریم:"
   ]
  },
  {
   "cell_type": "markdown",
   "metadata": {},
   "source": [
    "$$\n",
    "x(t)e^{-\\sigma t} = \\mathcal{F}^{-1}\\{X(\\sigma + j\\omega)\\} = \\frac{1}{2\\pi} \\int_{-\\infty}^{+\\infty} X(\\sigma + j\\omega) e^{j\\omega t} d\\omega \\qquad (9.54)\n",
    "$$\n"
   ]
  },
  {
   "cell_type": "markdown",
   "metadata": {},
   "source": [
    "<div dir=\"rtl\">\n",
    "    با ضرب دو طرف در $e ^ \\sigma t$ به دست می اوریم:"
   ]
  },
  {
   "cell_type": "markdown",
   "metadata": {},
   "source": [
    "$$\n",
    "x(t) = \\frac{1}{2\\pi} \\int_{-\\infty}^{+\\infty} X(\\sigma + j\\omega) e^{(\\sigma + j\\omega)t} d\\omega \\qquad(9.55)\n",
    "$$"
   ]
  },
  {
   "cell_type": "markdown",
   "metadata": {},
   "source": [
    "<div dir=\"rtl\">\n",
    "    یعنی برای یافتن $x(t)$ از تبدیل لاپلاس آن، به مقادیر $X(s)$ در $s = \\sigma + j\\omega$ واقع در ROC، با $\\sigma$ ثابت و $-\\infty < \\omega < +\\infty$ نیاز داریم. برای این منظور متغیر انتگرال‌گیری معادله (9.55) را از $\\omega $ به $s$ تغییر داده، از ثابت بودن $\\sigma$ نتیجه می‌گیریم $ds = jd\\omega$. به این ترتیب معادله عکس تبدیل لاپلاس زیر را به دست می‌آوریم:\n",
    "    \n",
    "$$x(t) = \\frac{1}{2\\pi j} \\int_{\\sigma - j\\infty}^{\\sigma + j\\infty} X(s) e^{st} d\\omega \\qquad(9.56) $$\n",
    "   "
   ]
  },
  {
   "cell_type": "markdown",
   "metadata": {},
   "source": [
    "<div dir=\"rtl\">\n",
    "    این معادله میگوید میتوان $x(t)$ را به صورت انتگرال حاصل ضرب $X(s)$ در نماییهای مختلط نمایش داد. مسیر انتگرالگیری معادله (9.56) خط راستی در صفحه $s$ است که با نقاط ارضا کننده شرط $\\text{Re}\\{s\\} = \\sigma$ متناظر است. این خط با محور $\\omega$ موازی است و باید در ROC قرار داشته باشد، یعنی $\\sigma$ را باید به نحوی برگزید که $X(\\sigma + j\\omega)$ همگرا باشد. محاسبه این انتگرال برای $X(s)$ دلخواه مستلزم استفاده از انتگرال مسیر در صفحه مختلط است و ما به این مطلب نمیپردازیم. ولی برای تبدیلهای گویا میتوان عکس تبدیل لاپلاس را بدون محاسبه انتگرال معادله (9.56) و تنها با استفاده از بسط به کسرهای جزئی، مشابه روشی که در فصل ۴ برای تعیین عکس تبدیل فوریه به کار برده شد، تعیین کرد. اساس این روش بسط عبارت جبری گویا به صورت ترکیب خطی جملات مرتبه پایین است.\n",
    "<div dir=\"rtl\">\n",
    "به عنوان مثال اگر فرض کنیم قطب تکراری وجود ندارد، و مرتبه چند جمله ای مخرج بزرگتر از مرتبه چند جمله ای صورت است میتوانیم $X(s)$ را به صورت زیر بسط دهیم:\n",
    "    $$X(s) = \\sum_{i=1}^{m} \\frac{A_i}{s + a_i}\\qquad (9.57) $$\n",
    "    "
   ]
  },
  {
   "cell_type": "markdown",
   "metadata": {},
   "source": [
    "<div dir=\"rtl\">\n",
    "    ROC هر جمله را میتوان با توجه به ROC تبدیل $X(s)$ تعیین کرد و سپس با توجه به مثالهای9.1  و9.2 عکس تبدیل لاپلاس هر یک از جملات را یافت. برای هر جمله $A_i/(s+a_i)$ معادله میتوان دو عکس تبدیل لاپلاس برگزید. اگر ROC سمت راست قطب $s = -a_i$ باشد، عکس تبدیل لاپلاس $A_i e^{-a_i t} u(t)$ یعنی دست راستی است. اگر ROC سمت چپ قطب $s = -a_i$ باشد، عکس تبدیل لاپلاس دست چپی یعنی $-A_i e^{-a_i t} u(-t)$ است. با جمع کردن عکس تبدیل لاپلاس جملات معادله (9.57)، عکس تبدیل لاپلاس $X(s)$ به دست می‌آید. بهترست جزییات این روش را طی چند مثال بیان کنیم."
   ]
  },
  {
   "cell_type": "markdown",
   "metadata": {},
   "source": [
    "<div dir=\"rtl\">\n",
    "    <h2> مثال9.9 </h2>\n",
    "    <div dir=\"rtl\">\n",
    "        فرض کنید:\n",
    " $X(s) = \\frac{1}{(s+1)(s+2)}, \\text{Re}\\{s\\} > -1\\qquad (9.58) $\n",
    "       \n",
    " <div dir=\"rtl\">\n",
    "گام اول به دست آوردن عکس تبدیل لاپلاس بسط به کسرهای جزئی است.\n",
    "\n",
    "$$X(s) = \\frac{1}{(s+1)(s+2)} = \\frac{A}{s+1} + \\frac{B}{s+2} \\qquad(9.59)$$"
   ]
  },
  {
   "cell_type": "markdown",
   "metadata": {},
   "source": [
    "<div dir=\"rtl\">\n",
    " چنان که در پیوست گفته شده است،برای یافتن ضرایب A و B می توان دو طرف معادله (9.59) را در (S+2)و(S+1) ضرب کرده و ضرایب جمله های دارای توان مساوی S  را برابر قرار داد.روش دیگر استفاده از روابط زیر است:\n",
    "    "
   ]
  },
  {
   "cell_type": "markdown",
   "metadata": {},
   "source": [
    "<div dir=\"rtl\">\n",
    "$$A = [(s+1)X(s)]|_{s=-1} = 1 \\qquad(9.60) $$  \n",
    "<div dir=\"rtl\">\n",
    "$$B = [(s+2)X(s)]|_{s=-2} = -1 \\qquad(9.61)$$  \n",
    "<div dir=\"rtl\">\n",
    "بنابراین بسط $X(s)$ به کسرهای جزئی چنین است:\n",
    "<div dir=\"rtl\">\n",
    "$$X(s) = \\frac{1}{s+1} - \\frac{1}{s+2} \\qquad(9.62)$$"
   ]
  },
  {
   "cell_type": "markdown",
   "metadata": {},
   "source": [
    "<div dir=\"rtl\">\n",
    "    با توجه به مثالهای 9.1 و 9.2 میدانیم که هر جمله‌ای به شکل a+1/1، بسته به این که ROC سمت راست قطب باشد یا سمت چپ، دو عکس تبدیل لاپلاس دارد. پس باید ROC مربوط به هر یک از جملات مرتبه اول معادله (9.62) را تعیین کنیم. این کار با توجه به خواص ROC بیان شده در بخش 9.2 انجام شود.\n",
    "<div dir=\"rtl\">\n",
    "چون ROC به صورت $\\text{Re}\\{s\\} > -1$ داده شده است، ROC هر یک از جملات بسط به کسرهای جزیی معادله (9.62) در $\\text{Re}\\{s\\} > -1$ قرار دارد. ROC را می‌توان تا سمت چپ یا راست قطب گسترش داد. این امر در شکل 9.14 نشان داده شده است. شکل9.14  (الف) ROC و نمودار صفر-قطب $X(s)$ را نشان می‌دهد. شکل 9.14 (ب) و 9.14 (ج) ROC مربوط به جملات بسط معادله (9.62) را نشان می‌دهند. ROC مجموع کمرنگترست. برای جمله مشخص شده در شکل 9.14 (ج) ROC به سمت چپ، تا قطب s = -۲ بسط داده شده است."
   ]
  },
  {
   "cell_type": "markdown",
   "metadata": {},
   "source": [
    "<div dir=\"rtl\">\n",
    "چون ROC سمت راست هر دو قطب است، ROC هر دو جمله نیز مطابق شکلهای 9.14 (ب) و (ج) سمت راست قطب آن جمله است. پس با توجه به خاصیت ۸ بخش پیش، هر جمله با یک سیگنال دست راستی متناظرست. عکس تبدیل لاپلاس هر یک از جملات معادله (9.62) را میتوان با توجه به مثال ۹-۱ به دست آورد:\n",
    "\n",
    "$$e^{-t}u(t) \\stackrel{\\mathcal{L}}{\\longleftrightarrow} \\frac{1}{s+1}, \\text{Re}\\{s\\} > -1   \\qquad  (9.63)$$\n",
    "\n",
    "$$e^{-2t}u(t) \\stackrel{\\mathcal{L}}{\\longleftrightarrow} \\frac{1}{s+2}, \\text{Re}\\{s\\} > -2\\qquad (9.64)$$  \n",
    "<div dir=\"rtl\">\n",
    "بنابراین\n",
    "\n",
    "$$[e^{-t} - e^{-2t}]u(t) \\stackrel{\\mathcal{L}}{\\longleftrightarrow} \\frac{1}{(s+1)(s+2)}, \\text{Re}\\{s\\} > -1 \\qquad(9.65)$$ "
   ]
  },
  {
   "cell_type": "markdown",
   "metadata": {},
   "source": [
    "<div dir=\"rtl\">\n",
    "    <h2> مثال 9.10 </h2>\n",
    "    <div dir=\"rtl\">\n",
    "    باز (s)X دارای عبارت جبری معادله (9.58) را فرض کنید، ولی با ROC چپ - نیمصفحه $\\text{Re}\\{s\\} < -۲$. بسط به کسرهای جزیی تنها به عبارت جبری (s)X بستگی دارد، بنابراین بسط معادله (9.62) همچنان معتبرست. ولی به ازای این ROC داده شده، ROC هر دو جمله معادله سمت چپ قطب متناظر با آن جمله است؛ یعنی ROC متناظر با قطب s = -۱، $\\text{Re}\\{s\\} < -۱$ و ROC جمله دارای قطب s = -۲، $\\text{Re}\\{s\\} < -۲$ است. پس با توجه به مثال 9.2 داریم:\n",
    "\n",
    "$$-e^{-t}u(-t) \\stackrel{\\mathcal{L}}{\\longleftrightarrow} \\frac{1}{s+1}, \\text{Re}\\{s\\} < -1 \\qquad(9.66)$$\n",
    "\n",
    "$$-e^{-2t}u(-t) \\stackrel{\\mathcal{L}}{\\longleftrightarrow} \\frac{1}{s+2}, \\text{Re}\\{s\\} < -2 \\qquad(9.67)$$\n",
    "\n",
    "<div dir=\"rtl\">\n",
    "بنابراین\n",
    "\n",
    "$$x(t) = [-e^{-t} + e^{-2t}]u(-t) \\stackrel{\\mathcal{L}}{\\longleftrightarrow} \\frac{1}{(s+1)(s+2)}, \\text{Re}\\{s\\} < -2  \\qquad(9.68)$$"
   ]
  },
  {
   "cell_type": "markdown",
   "metadata": {},
   "source": [
    "<div dir=\"rtl\">\n",
    "    <h2> مثال 9.11</h2>\n",
    " <div dir=\"rtl\">\n",
    "  سرانجام ROC معادله (9.58) را به صورت $-۲ < \\text{Re}\\{s\\} < -۱$ در نظر می‌گیریم. در این حالت ROC باز هم سمت چپ قطب s = -۱ قرار دارد و این قطب با سیگنال دست چپی معادله (9.66) متناظرست، ولی سمت راست قطب s = -۲ قرار دارد و سیگنال دست راستی معادله (9.64) را به دست می‌دهد. با ترکیب این نتایج به دست می‌آوریم:\n",
    "\n",
    "$$x(t) = -e^{-t}u(-t) - e^{-2t}u(t) \\stackrel{\\mathcal{L}}{\\longleftrightarrow} \\frac{1}{(s+1)(s+2)}, -2 < \\text{Re}\\{s\\} < -1\\qquad(9.69)$$\n",
    "<div dir=\"rtl\">\n",
    "همانطور که در پیوست گفته شده وقتی $X(s)$ قطب مرتبه بالا دارد، یا وقتی مرتبه مخرج از مرتبه صورت بزرگتر نیست، بسط کسرهای جزیی $X(s)$ جملاتی غیر از جملات مرتبه اول در نظر گرفته شده در مثالهای 9.9 تا 9.11 نیز دارد. در بخش 9.5، پس از بحث راجع به خواص تبدیل لاپلاس چند زوج تبدیل لاپلاس دیگر، متناظر با این خواص، معرفی خواهیم کرد. با این کار میتوانیم روش عکس تبدیل لاپلاس بیان شده در مثال 9.9 را به هر تبدیل گویایی تعمیم دهیم.   "
   ]
  },
  {
   "cell_type": "markdown",
   "metadata": {},
   "source": [
    "<div dir=\"rtl\">\n",
    "    <h2> محاسبه تبدیل فوریه از نمودار قطب-صفر به روش هندسی </h2>\n",
    "  <div dir=\"rtl\">\n",
    "    همانطور که در بخش9.1  دیدیم تبدیل فوریه هر سیگنال همان تبدیل لاپلاس محاسبه شده بر روی محور jω است. در این بخش روشی برای محاسبه تبدیل فوریه X(jω) و در حالت کلی تبدیل لاپلاس X(s) از روی نمودار قطب-صفر متناظر با تبدیل لاپلاس به روشی هندسی، مطرح می‌کنیم. برای پی‌ریزی این روش تبدیل لاپلاسی با یک صفر در نظر می‌گیریم [یعنی X(s) = s + a] و آن را در مقدار معینی، مثلاً s₁ = s حساب می‌کنیم. عبارت جبری s₁ - a حاصل جمع دو عدد مختلط s₁ و -a است که هر کدام را می‌توان مطابق شکل 9.15 به صورت برداری در صفحه مختلط نشان داد. در این صورت بردار نمایش دهنده عدد مختلط s₁ -a حاصل جمع برداری دو بردار s₁ و -a است و مطابق شکل 9.15 برداری است که از صفر واقع در a = s به نقطه s₁ رسم شده است. پس مقدار X(s₁) اندازه‌ای برابر طول این بردار دارد و زاویه آن برابر زاویه بردار نسبت به محور حقیقی است. ولی برعکس اگر X(s) تنها یک قطب در s = a داشته باشد، یعنی X(s) = ۱/(s + a)، مخرج آن همان جمع برداری s₁ و a است و اندازه X(s₁) عکس طول بردار رسم شده از قطب به s₁ = s است و زاویه آن منفی زاویه آن بردار با محور حقیقی است. یک تبدیل لاپلاس گویا در حالت کلی از حاصلضرب جملات صفر و قطب بیان شده در بالا تشکیل شده است؛ یعنی می‌توان آن را به صورت زیر به عوامل اول تجزیه کرد:  "
   ]
  },
  {
   "cell_type": "markdown",
   "metadata": {},
   "source": [
    "<div dir=\"rtl\">\n",
    "  $$X(s) = M \\frac{\\prod_{i=1}^{r} (s - \\beta_i)}{\\prod_{i=1}^{p} (s - \\alpha_i)}\\qquad(9.70)$$\n",
    "<div dir=\"rtl\">\n",
    "برای محاسبه $X(s)$ در $s = s_1$ هر جمله حاصل ضرب را با برداری از صفر یا قطب به نقطه $s_1$ نشان می‌دهیم. اندازه $X(s_1)$ با حاصل ضرب ضریب $M$ در طول بردارهای صفر (یعنی بردارهای رسم شده از صفرها به $s_1$) تقسیم بر حاصل ضرب طول بردارهای قطب (یعنی بردارهای رسم شده از قطبها به $s_1$) برابرست. زاویه عدد مختلط $X(s_1)$ حاصل جمع زاویه‌های بردارهای صفر منهای حاصل جمع زاویه‌های بردارهای قطب است. اگر ضریب مقیاس $M$ معادله (9.70) منفی باشد، یک زاویه $\\pi$ باید در نظر گرفت. روشن است که اگر $X(s)$ قطب و یا صفر مکرر داشته باشد، یعنی بعضی از $\\alpha_i$ ها و یا $\\beta_i$ ها برابر باشند، طول و زاویه بردارهای صفر و قطب باید به تعداد تکرارهای قطب یا صفر منظور شود.  "
   ]
  },
  {
   "cell_type": "markdown",
   "metadata": {},
   "source": [
    "<div dir=\"rtl\">\n",
    "<h2> مثال 9.12</h2>\n",
    "<div dir=\"rtl\">\n",
    "   فرض کنید\n",
    "\n",
    "$$X(s) = \\frac{1}{s + \\frac{1}{2}}, \\text{Re}\\{s\\} > -\\frac{1}{2}\\qquad(9.71)$$\n",
    "<div dir=\"rtl\">\n",
    "تبدیل فوریه عبارت است از $X(j\\omega) = X(s)|_{s=j\\omega}$. پس در این مثال تبدیل فوریه به صورت زیرست:\n",
    "\n",
    "$$X(j\\omega) = \\frac{2}{j\\omega + \\frac{1}{2}} \\qquad(9.72)$$\n",
    "<div dir=\"rtl\">\n",
    "نمودار قطب - صفر $X(s)$ در شکل 9.16 نشان داده شده است. برای مشخص کردن تبدیل فوریه به طریق ترسیمی، بردار قطب را رسم می‌کنیم. اندازه تبدیل فوریه در فرکانس $\\omega$ عکس طول بردار قطب تا نقطه $j\\omega$ بر روی محور موهومی است. فاز تبدیل فوریه، منفی زاویه بردار است. با توجه به شکل 9.16 می‌توان نوشت:\n",
    "\n",
    "$$|X(j\\omega)| = \\frac{1}{\\sqrt{\\omega^2 + (\\frac{1}{2})^2}}\\qquad(9.73)$$\n",
    "<div dir=\"rtl\">\n",
    "و\n",
    "\n",
    "$$\\angle X(j\\omega) = \\tan^{-1} 2\\omega\\qquad(9.74)$$ \n",
    "<div dir=\"rtl\">\n",
    "    غالباً بخشی از ارزش محاسبه هندسی تبدیل فوریه کسب تصویری تقریبی از مشخصه کلی تبدیل است. مثلاً در شکل9.16 کاملاً آشکارست که با افزایش ω، طول بردار قطب به طور یکنوا افزایش می یابد، بنابراین اندازه تبدیل فوریه به طور یکنوا کاهش می یابد. با طرح سیستمهای مرتبه اول و دوم امکان نتیجه گیری در مورد رفتار تبدیل فوریه از نمودار آشکارتر می‌شود."
   ]
  },
  {
   "cell_type": "markdown",
   "metadata": {},
   "source": [
    "<div dir=\"rtl\">\n",
    "    <h2>9.4.1 سیستم های مرتبه اول </h2>\n",
    "    <div dir=\"rtl\">\n",
    "        سیستمهای مرتبه اولی را که در بخش 6.5.1 به تفصیل بررسی کردیم، به عنوان تعمیمی از مثال 9.2.1 در نظر می‌گیریم. پاسخ ضربه چنین سیستمی عبارت است از:\n",
    "\n",
    "$$h(t) = \\frac{1}{\\tau} e^{-t/\\tau} u(t) \\qquad(9.75)$$\n",
    "<div dir=\"rtl\">\n",
    "و تبدیل لاپلاس آن برابرست با:\n",
    "\n",
    "$$H(s) = \\frac{1}{s\\tau + 1}, \\text{Re}\\{s\\} > -\\frac{1}{\\tau} \\qquad(9.76)$$"
   ]
  },
  {
   "cell_type": "markdown",
   "metadata": {},
   "source": [
    "<div dir=\"rtl\">\n",
    "    نمودار قطب - صفر در شکل 9.17 نشان داده شده است. این شکل نشان میدهد که طول بردار قطب به ازای $j\\omega = 0$ مینیمم است، و با افزایش $\\omega$ به طور یکنواخت زیاد می‌شود. همچنین با افزایش $\\omega$ از 0 تا $\\infty$ زاویه قطب به طور یکنوا از 0 به $\\pi/2$ میل می‌کند.\n",
    "<div dir=\"rtl\">\n",
    "با توجه به رفتار بردار قطب با تغییر $\\omega$، واضح است که اندازه پاسخ فرکانسی $|H(j\\omega)|$ به طور یکنوا کم می‌شود، و $\\angle H(j\\omega)$ به طور یکنوا از 0 به $-\\pi/2$ می‌رسد، نمودار گودی شکل 9.18 نیز همین را نشان می‌دهد. توجه کنید که در $\\omega = ۱/\\tau$ بخشهای حقیقی و موهومی بردار قطب برابر می‌شوند، در نتیجه اندازه پاسخ فرکانسی با ضریب $\\sqrt{2}$ یا 3dB نسبت به مقدار ماکزیمم $\\omega = 0$ کوچک می‌شود و زاویه پاسخ فرکانسی به $-\\pi/4$ می‌رسد. این نتایج با آنچه در بخش 6.5.1 راجع به سیستمهای مرتبه اول به دست آوردیم سازگار است."
   ]
  },
  {
   "cell_type": "markdown",
   "metadata": {},
   "source": [
    "<div dir=\"rtl\">\n",
    "    در انجا دیدیم که $\\omega = ۱/\\tau$ غالبا نقطه 3db یا فرکانس شکست نامیده می شود، یعنی فرکانسی که در ان تقریب خط راست نمودار بودی $|X(j\\omega)|$ میشکند و تغییر شیب می دهد."
   ]
  },
  {
   "cell_type": "markdown",
   "metadata": {},
   "source": [
    "<div dir=\"rtl\">\n",
    "    همانطور که در بخش\n",
    "6.5.1 دیدیم ثابت زمانی 𝜏 سرعت پاسخ سیستمهای مرتبه اول را کنترل میکند و اکنون میبینیم که قطب\n",
    "چنین سیستمی در$s = -\\frac{1}{\\tau}$ روی بخش منفی محور حقیقی قرار دارد و فاصله آن تا مبدا عکس ثابت\n",
    "زمانی است ."
   ]
  },
  {
   "cell_type": "markdown",
   "metadata": {},
   "source": [
    "<div dir=\"rtl\">\n",
    "با توجه به تعبیر ترسیمی می توانیم ببینیم که چگونه تغییر ثابت زمانی ، یا به عبارت دیگر محل قطب H(S) مشخصات سیستم مرتبه اول را تغییر می دهد.\n",
    "    در واقع هر چه قطب بیشتر به سمت چپ صفحه s می رود،فرکانس شکست و در نتیجه فرکانس قطع موثر سیستم افزایش می یابد. همچنین با توجه به معادله 9.75 و شکل 9.16 می بینیم که این حرکت قطب به سمت چپ با کاهش ثابت زمانی متناظرست،که به سریعتر شدن پاسخ ضربه و کوچک شدن زمان صعود پاسخ پله منجر می شود. این رابطه بین بخش حقیقی محل قطب ها و سرعت پاسخ سیستم در حالت کلی نیر صادق است،یعنی هرچه قطب ها از محور $j\\omega$ دورتر باشند،در پاسخ ضربه جملاتی سریعتر ایجاد می کنند."
   ]
  },
  {
   "cell_type": "code",
   "execution_count": 8,
   "metadata": {},
   "outputs": [
    {
     "data": {
      "image/png": "[encoded data removed]",
      "text/plain": [
       "<Figure size 720x576 with 2 Axes>"
      ]
     },
     "metadata": {
      "needs_background": "light"
     },
     "output_type": "display_data"
    }
   ],
   "source": [
    "import matplotlib.pyplot as plt\n",
    "import numpy as np\n",
    "\n",
    "# Define the frequency range\n",
    "omega = np.logspace(-1, 2, 500)\n",
    "\n",
    "# Define the magnitude response\n",
    "magnitude = 20 * np.log10(1 / np.sqrt(1 + omega**2))\n",
    "\n",
    "# Define the phase response\n",
    "phase = -np.arctan(omega)\n",
    "\n",
    "# Create a new figure\n",
    "fig, axs = plt.subplots(2, 1, figsize=(10, 8))\n",
    "\n",
    "# Plot the magnitude response\n",
    "axs[0].semilogx(omega, magnitude)\n",
    "axs[0].set_title('Bode Magnitude Plot')\n",
    "axs[0].set_xlabel('Normalized Frequency (ω)')\n",
    "axs[0].set_ylabel('Magnitude (dB)')\n",
    "axs[0].grid(True)\n",
    "\n",
    "# Plot the phase response\n",
    "axs[1].semilogx(omega, phase)\n",
    "axs[1].set_title('Bode Phase Plot')\n",
    "axs[1].set_xlabel('Normalized Frequency (ω)')\n",
    "axs[1].set_ylabel('Phase (radians)')\n",
    "axs[1].grid(True)\n",
    "\n",
    "# Adjust layout\n",
    "plt.tight_layout()\n",
    "plt.show()\n"
   ]
  },
  {
   "cell_type": "markdown",
   "metadata": {},
   "source": [
    "<div dir=\"rtl\">\n",
    "<h3> شکل 9.18 پاسخ فرکانسی یک سیستم مرتبه اول"
   ]
  },
  {
   "cell_type": "markdown",
   "metadata": {},
   "source": [
    "<div dir=\"rtl\">\n",
    "<h2> 9.4.2 سیستم های مرتبه دوم "
   ]
  },
  {
   "cell_type": "markdown",
   "metadata": {},
   "source": [
    "<div dir=\"rtl\">\n",
    "حال سیستم های مرتبه دوم را که به تفصیل در بخش 6.5.2 بررسی شدند در نظر می گیریم.پاسخ ضربه و پاسخ فرکانسی این سیستم ها،که به ترتیب در معادله های 6.37 و 6.39 بیان شده اند،عبارت اند از :"
   ]
  },
  {
   "cell_type": "markdown",
   "metadata": {},
   "source": [
    "<div dir=\"rtl\">\n",
    "    $$h(t) = [e^{c_۱ t} - e^{c_۲ t}]u(t)\\qquad(9.77)$$\n",
    "<div dir=\"rtl\">\n",
    "که در آن\n",
    "\n",
    "$$c_۱ = -\\zeta \\omega_n + \\omega_n \\sqrt{\\zeta^2 - 1}$$\n",
    "\n",
    "$$c_۲ = -\\zeta \\omega_n - \\omega_n \\sqrt{\\zeta^2 - 1}$$\n",
    "\n",
    "$$M = \\frac{\\omega_n}{2 \\sqrt{\\zeta^2 - 1}}$$\n",
    "<div dir=\"rtl\">\n",
    "و\n",
    "<div dir=\"rtl\">\n",
    "$$H(j\\omega) = \\frac{\\omega_n}{(j\\omega)^2 + 2\\zeta \\omega_n (j\\omega) + \\omega_n^2}$$\n",
    "<div dir=\"rtl\">\n",
    "تبدیل لاپلاس پاسخ ضربه عبارت است از:\n",
    "\n",
    "$$H(s) = \\frac{\\omega_n^2}{s^2 + 2\\zeta \\omega_n s + \\omega_n^2} = \\frac{\\omega_n^2}{(s - c_1)(s - c_2)}\\qquad(9.79)$$"
   ]
  },
  {
   "cell_type": "markdown",
   "metadata": {},
   "source": [
    "<div dir=\"rtl\">\n",
    "به ازای c1 ، ζ > 1 و c2 حقیقی اند و هر دو مطابق شکل 9.19 ( الف ) روی محور حقیقی قرار دارند.\n",
    "حالت ζ > 1 ، در واقع حاصلضرب دو جمله مرتبه اول ، از نوع بررسی شده در بخش ۹-۴-۱ است . پس در\n",
    "این حالت | H(jω) | با افزایش | ω | به طور یکنواخت کاهش می یابد و $∠H(jω)$ از 0 در ω = 0 به $-π$ در\n",
    "$ω → ∞$ می گراید . درستی این مطلب را میتوان با توجه به شکل 9.19 ( الف ) نشان داد ، زیرا با افزایش ω\n",
    "طول بردارهای دو قطب به نقطه $s= jω$ زیاد میشود و زاویه هر بردار از 0 به π/2 میل میکند . با افزایش ζ\n",
    "یک قطب به محور jω نزدیکتر میشود ، که نشان میدهد در پاسخ ضربه یک جمله کند وجود دارد ، و قطب\n",
    "دیگر از محور jω دور میشود که نشان میدهد جمله دیگر پاسخ ضربه سریع میرا میشود . پس به ازای ζ\n",
    "    خیلی بزرگ،یک قطب نزدیک محورjω وجود دارد که در ان t بزرگ رفتار غالب پاسخ سیستم را تعیین می کند. "
   ]
  },
  {
   "cell_type": "markdown",
   "metadata": {},
   "source": [
    "<div dir=\"rtl\">\n",
    "    به طور مشابه با در نظر گرفتن بردار های قطب به ازای ζ >> 1 ، مطابق شکل 9.19 (ب) ،در فرکانس های پایین طول و زاویه بردار قطب نزدیک به محور jω خیلی بیشتر از طول و زاویه بردار قطب دورتر از محور jω نسبت به تغییر ω حساس است. بنابراین در فرکانس های پایین، مشخصه پاسخ فرکانسی عمدتا تحت تاثیر قطب نزدیک به محور jω است."
   ]
  },
  {
   "cell_type": "markdown",
   "metadata": {},
   "source": [
    "<div dir=\"rtl\">\n",
    "  <p>\n",
    "  <div dir=\"rtl\">    \n",
    "برای \\( 0 < \\zeta < 1 \\)، \\( C_1 \\) و \\( C_2 \\) پیچیده هستند، بنابراین نمودار قطب-صفر همانطور که در شکل 9.19(c) نشان داده شده است، به‌طور پیچیده‌ای خواهد بود. در این حالت، پاسخ ضربه‌ای و پاسخ گام دارای بخش‌های نوسانی هستند. همانطور که در بخش 9.5.5 توضیح داده می‌شود، قطب‌ها و صفرهای پیچیده همیشه به صورت جفت‌های مزدوج پیچیده برای یک سیگنال با مقادیر حقیقی ظاهر می‌شوند.\n",
    "</p>\n",
    "<div dir=\"rtl\">\n",
    "    زوج‌های مزدوج مختلط هستند . با توجه به شکل ، مخصوصاً در حالتی که ζ کوچک است و بنابراین قطبها\n",
    "نزدیک محور jω قرار دارند ، با میل ω به ω<sub>n</sub>√1 - ζ<sup>2</sup> بردار قطب واقع در ربع دوم بر رفتار پاسخ فرکانسی\n",
    "غلبه دارد و در ω<sub>n</sub>√1 - ζ<sup>2</sup>= ω طول بردار قطب مینیمم میشود . بنابراین میتوان انتظار داشت که اندازه\n",
    "پاسخ فرکانسی در مجاورت این فرکانس ، قله داشته باشد . البته به خاطر وجود قطب دیگر این قله دقیقاً در\n",
    "ω<sub>n</sub>√1 - ζ<sup>2</sup> = ω قرار ندارد ، بلکه در فرکانسی کمی پایینتر رخ میدهد . شکل 9.20 ( الف ) منحنی دقیق\n",
    "اندازه پاسخ فرکانسی را به ازای  $1= \\omega_n$\n",
    "    و چند مقدار ζ نشان میدهد . رفتار مورد انتظار در حوالی قطبها\n",
    "کاملاً از آن مشهود است . این رفتار با تحلیل سیستم‌های مرتبه دوم در بخش ۶-۵-۲ سازگارست .    "
   ]
  },
  {
   "cell_type": "markdown",
   "metadata": {},
   "source": [
    "<div dir=\"rtl\">\n",
    "    زوجهای مزدوج مختلط هستند. با توجه به شکل، مخصوصاً در حالتی که $\\zeta$ کوچک است و بنابراین قطبها\n",
    "نزدیک محور $j\\omega$ قرار دارند، با میل $\\omega$ به $\\omega_n\\sqrt{1-\\zeta^2}$، بردار قطب واقع در ربع دوم بر رفتار پاسخ فرکانسی\n",
    "غلبه دارد و در $\\omega = \\omega_n\\sqrt{1-\\zeta^2}$ طول بردار قطب مینیمم می‌شود. بنابراین می‌توان انتظار داشت که اندازه\n",
    "پاسخ فرکانسی در مجاورت این فرکانس، قله داشته باشد. البته به خاطر وجود قطب دیگر این قله دقیقاً در\n",
    "$\\omega = \\omega_n\\sqrt{1-\\zeta^2}$ قرار ندارد، بلکه در فرکانسی کمی پایین‌تر رخ می‌دهد. شکل 9.20 (الف) منحنی دقیق\n",
    "اندازه پاسخ فرکانسی را به ازای $\\omega_n = ۱$ و چند مقدار $\\zeta$ نشان می‌دهد. رفتار مورد انتظار در حوالی قطبها\n",
    "کاملاً از آن مشهود است. این رفتار با تحلیل سیستم‌های مرتبه دوم در بخش ۶-۵-۲ سازگارست.\n",
    "پس سیستم مرتبه دوم به ازای $۱ > \\zeta > ۰$ یک فیلتر میانگذر غیر ایده‌آل است که پارامتر $\\zeta$ تیزی و عرض\n",
    "قله پاسخ فرکانسی آن را کنترل می‌کند. وضعیت هندسی شکل 9.19 (د) نشان می‌دهد که طول بردار قطب\n",
    "در $\\omega = \\omega_n\\sqrt{1-\\zeta^2}$ مینیمم است و با افزایش $\\omega$ به میزان $\\omega_n$ این طول به $\\sqrt{۲}$ برابر طول مینیمم می‌رسد."
   ]
  },
  {
   "cell_type": "markdown",
   "metadata": {},
   "source": [
    "<div dir=\"rtl\">\n",
    " پس به ازای $\\zeta$ کوچک، با چشم پوشی از قطب دور ربع سوم، در گستره فرکانسی زیر\n",
    "\n",
    "$$\n",
    "\\omega_n\\sqrt{1-\\zeta^2} - \\zeta\\omega_n < \\omega < \\omega_n\\sqrt{1-\\zeta^2} + \\zeta\\omega_n\n",
    "$$\n",
    "<div dir=\"rtl\">\n",
    "$|H(j\\omega)|$ بین مقدار ماکزیمم خود و $1/\\sqrt{2}$ برابر این مقدار قرار دارد. اگر پهنای باند نسبی $B$ را به صورت\n",
    "نسبت طول این فاصله بر فرکانس طبیعی نامیرای $\\omega_n$ تعریف کنیم خواهیم داشت\n",
    "\n",
    "$$\n",
    "B = 2\\zeta\n",
    "$$\n",
    "<div dir=\"rtl\">\n",
    "پس هر چه $\\zeta$ به صفر نزدیکتر باشد. قله پاسخ فرکانسی تیزتر و باریکتر می‌شود. همچنین توجه کنید که $B$\n",
    "عکس معیار کیفیت $Q$ سیستم مرتبه دوم، که در بخش ۶-۵-۲ تعریف شد، است. پس هر چه کیفیت زیادتر\n",
    "شود، پهنای باند نسبی کمتر، و فیلتر فرکانس گزین‌تر می‌شود.\n",
    "<div dir=\"rtl\">\n",
    "برای $\\angle X(j\\omega)$ نیز می‌توان تصویر مشابهی ترسیم کرد. $\\angle X(j\\omega)$ در شکل 9.20 (ب) به ازای\n",
    "$\\omega_n = ۱$ و چند مقدار $\\zeta$ رسم شده است. چنانچه شکل 9.19 (د) نشان می‌دهد، زاویه بردار قطب ربع دوم با\n",
    "تغییر $\\omega$ از $\\omega_n\\sqrt{1-\\zeta^2} - \\zeta\\omega_n$ عبور از $\\omega_n\\sqrt{1-\\zeta^2}$ و رسیدن به $\\omega_n\\sqrt{1-\\zeta^2} + \\zeta\\omega_n$، از $-\\pi/4$ به ۰، و از\n",
    "۰ به $\\pi/4$ می‌رسد. اگر $\\zeta$ کوچک باشد، زاویه بردار قطب ربع سوم در این فاصله فرکانسی تغییر زیادی\n",
    "نمی‌کند، بنابراین $\\angle X(j\\omega)$ در این فاصله تغییری سریع به میزان تقریبی $\\pi/2$ دارد و شکل نیز همین را \n",
    "    نشان میدهد."
   ]
  },
  {
   "cell_type": "markdown",
   "metadata": {},
   "source": [
    "<div dir=\"rtl\">\n",
    "تغییر $\\omega_n$ به ازای $\\zeta$ ثابت، تنها مقیاس فرکانسی را تغییر می‌دهد، به بیان دیگر $|H(j\\omega)|$ و $\\angle X(j\\omega)$ به\n",
    "$\\omega / \\omega_n$ بستگی ندارد. شکل 9.19 (ج) چگونگی تغییر قطب‌ها و مشخصات سیستم، به ازای $\\omega_n$ ثابت و $\\zeta$\n",
    "متغیر را نیز نشان می‌دهد. چون $\\zeta = \\cos \\theta$، قطب‌ها روی نیم‌دایره‌ای با شعاع $\\omega_n$ ثابت حرکت می‌کنند. به\n",
    "ازای $\\zeta = ۰$ دو قطب روی محور موهومی قرار دارند. در حوزه زمان پاسخ ضربه سینوسی نامیراست. با\n",
    "افزایش $\\zeta$ از ۰ به سمت ۱، دو قطب مختلط می‌مانند و وارد نیم‌صفحه چپ می‌شوند، ولی فاصله قطب‌ها تا\n",
    "مبدا مقدار ثابت $\\omega_n$ را دارد. با منفی‌تر شدن بخش حقیقی قطب‌ها، پاسخ زمانی در $t \\rightarrow \\infty$ سریع‌تر میرا می‌شود.\n",
    "همچنین با افزایش $\\zeta$ از ۰ به ۱، پهنای باند نسبی پاسخ فرکانسی بزرگتر شده، پاسخ فرکانسی تیزی و\n",
    "فرکانس گزینی خود را از دست می‌دهد."
   ]
  },
  {
   "cell_type": "markdown",
   "metadata": {},
   "source": [
    "<div dir=\"rtl\">\n",
    "<h2> 9.4.3 سیستم های تمام گذر"
   ]
  },
  {
   "cell_type": "markdown",
   "metadata": {},
   "source": [
    "<div dir=\"rtl\">\n",
    "به عنوان اخرین مثال محاسبه هندسی پاسخ فرکانسی سیستمی را در نظر می گیریم که تبدیل لاپلاس پاسخ ضربه ان آرایش صفر-قطب شکل 9.21(الف) را دارد. این شکل به وضوح نشان می دهد که در هر نقطه ای از محور jw بردار های قطب و صفر هم طول اند، بنابراین اندازه پاسخ فرکانسی مقداری ثابت و مستقل از فرکانس دارد.چنین سیستمی را سیستم تمام گذر گویند،زیرا تمام فرکانسها را با بهره (یا تضعیف) یکسان می گذراند. فاز پاسخ فرکانسی\n",
    "θ₁ - θ₂\n",
    " است و چون θ₁ = π - θ₂ :\n",
    "  $$\n",
    "\\angle X(j\\omega) = \\pi - 2\\theta_2 \\qquad(9.80)\n",
    "$$  \n",
    "<div dir=\"rtl\">\n",
    "    با توجه به شکل 9.21(الف) داریم $$\n",
    "\\theta_2 = \\tan^{-1}(\\omega/a)\n",
    "  $$ و در نتیجه:\n",
    "    $$\n",
    "\\angle X(j\\omega) = \\pi - 2 \\tan^{-1}(\\omega/a) \\qquad(9.81)\n",
    "$$\n",
    "<div dir=\"rtl\">\n",
    "اندازه و فاز𝐻(𝑗𝜔) در شکل9.21(ب) رسم شده است."
   ]
  },
  {
   "cell_type": "markdown",
   "metadata": {},
   "source": [
    "<div dir=\"rtl\">\n",
    "    <h2> 9.5 خواص تبدیل لاپلاس</h2>\n",
    "<div dir=\"rtl\">    \n",
    "در کاربرد تبدیل فوریه از خواصی که در بخش 3.4 به دست آوریم بسیار استفاده کردیم. در این بخش\n",
    "مجموعه متناظری برای تبدیل لاپلاس را در نظر میگیریم. اثبات بسیاری از این نتایج مشابه اثبات خواص\n",
    "متناظر تبدیل فوریه است. بنابراین در اینجا به جزئیات اثبات نمی پردازیم و بعضی از آنها را به تمرینهای\n",
    "آخر فصل وامی گذاریم (مسائل 9.52 تا 9.54 را ببینید.)"
   ]
  },
  {
   "cell_type": "markdown",
   "metadata": {},
   "source": [
    "<div dir=\"rtl\">\n",
    "اگر\n",
    "\n",
    "$$\n",
    "x_1(t) \\stackrel{\\mathcal{L}}{\\longrightarrow} X_1(s) \n",
    "  $$\n",
    " <div dir=\"rtl\"> \n",
    "  با ناحیه همگرایی R1\n",
    "<div dir=\"rtl\">\n",
    "<div dir=\"rtl\">\n",
    "و\n",
    "\n",
    "$$\n",
    "x_2(t) \\stackrel{\\mathcal{L}}{\\longrightarrow} X_2(s) \n",
    "$$\n",
    "<div dir=\"rtl\">\n",
    "با ناحیه همگرایی R2\n",
    "    \n",
    "<div dir=\"rtl\">\n",
    "آنگاه\n",
    "\n",
    "$$\n",
    "ax_1(t) + bx_2(t) \\stackrel{\\mathcal{L}}{\\longrightarrow} aX_1(s) + bX_2(s) \\qquad(9.82)\n",
    "$$\n",
    "<div dir=\"rtl\">\n",
    "    با ROC شاملR₁ ∩ R₂\n",
    "    \n",
    " <div dir=\"rtl\">   \n",
    "    همانطور که ذکر شده، ناحیه همگرایی X(s) حداقل اشتراک R₁ و R₂ است، که می تواند تهی باشد؛ در این\n",
    "صورت X(s) ناحیه همگرایی ندارد، یعنی x(t) تبدیل لاپلاس ندارد. مثلاً برای x(t) معادله (9.47) مثال\n",
    "9.7، به ازای ROC، b > ۰ROC تبدیل X(s) اشتراک ROC دو جمله است. به ازای R₁ R₂  ، b > ۰  \n",
    "در هیچ نقطه ای مشترک نیستند،یعنی اشنراک انها تهی است و بنابراین x(t) تبدیل لاپلاس ندارد.ROC می تواند بزرگتر از ناحیه اشتراک باشد.به عنوان مثالی ساده فرض کنید در معادله (9.82) x₁(t) = x₂(t) و a=-b ،که در نتیجه x(t) و X(S) هر دو صفر می شوند و ROC مربوط به X(S) تمام صفحه S است."
   ]
  },
  {
   "cell_type": "markdown",
   "metadata": {},
   "source": [
    "<div dir=\"rtl\">\n",
    "به کمک خواص\n",
    "ROC بیان شده در بخش ۹-۴ همیشه می‌توان ROC ترکیب خطی جملات را پیدا\n",
    "کرد. یعنی از اشتراک ROC های هر یک از جملات (اگر تهی نباشند) می‌توانیم خط یا نواری متعلق به\n",
    "ROC ترکیب خطی بیابیم. سپس این خط یا نوار را به سمت راست (در جهت افزایش $\\Re\\{s\\}$) یا سمت\n",
    "چپ (در جهت کاهش $\\Re\\{s\\}$) تا نزدیکترین قطب گسترش می‌دهیم.\n",
    "<div dir=\"rtl\">\n",
    "    <H2> مثال 9.13</H2>\n",
    "<div dir=\"rtl\">\n",
    "    در این مثال نشان می دهیم که ROC تبدیل لاپلاس یک ترکیب خطی گاهی از اشتراک ROC های جملات\n",
    "تشکیل دهنده ترکیب خطی فراتر می رود. فرض کنید"
   ]
  },
  {
   "cell_type": "markdown",
   "metadata": {},
   "source": [
    "<div dir=\"rtl\">\n",
    "    در این مثال نشان می دهیم که ROC تبدیل لاپلاس یک ترکیب خطی گاهی از اشتراک ROC های جملات\n",
    "تشکیل دهنده ترکیب خطی فراتر می رود. فرض کنید\n",
    "\n",
    "$$\n",
    "x_1(t) = x_2(t) - x_1(t) \\quad (9.83)\n",
    "$$\n",
    "<div dir=\"rtl\">\n",
    "و تبدیل لاپلاس $x_1(t)$ و $x_2(t)$ را به صورت زیر بگیرید\n",
    "\n",
    "$$\n",
    "X_1(s) = \\frac{1}{s+1}, \\quad \\Re\\{s\\} > -1 \\quad (9.84)\n",
    "$$\n",
    "\n",
    "$$\n",
    "X_2(s) = \\frac{1}{(s+1)(s+2)}, \\quad \\Re\\{s\\} > -1 \\quad (9.85)\n",
    "$$\n",
    "<div dir=\"rtl\">\n",
    "نمودار قطب - صفر $X_1(s)$ و $X_2(s)$ به همراه ROC آنها در شکلهای 9.22 (الف) و (ب) رسم شده است. با\n",
    "توجه به معادله (9.82) داریم\n",
    "\n",
    "$$\n",
    "X(s) = \\frac{1}{s+1} - \\frac{1}{(s+1)(s+2)} \\quad (9.86)\n",
    "$$\n",
    "<div dir=\"rtl\">\n",
    "    بنابراین در ترکیب خطی $x_1(t)$ و $x_2(t)$، قطب واقع در $s = -1$ با صفری واقع در $s = -1$ حذف می‌شود.\n",
    "نمودار قطب - صفر $X(s) = X_1(s) - X_2(s)$ در شکل 9.22 (ج) رسم شده است. اشتراک ROC های\n",
    "$X_1(s)$ و $X_2(s)$ برابر $\\Re\\{s\\} > -1$ است. اما چون ROC همیشه به قطب یا بینهایت محدود می‌شود،\n",
    "برای این مثال می‌توان ROC را به طرف چپ تا به قطب $s = -2$ گسترش داد، زیرا قطب و صفر واقع در\n",
    "$s = -1$ حذف شده‌اند."
   ]
  },
  {
   "cell_type": "markdown",
   "metadata": {},
   "source": [
    "<div dir=\"rtl\">\n",
    "    <H2> 9.5.2 جا به جایی زمانی </H2>\n",
    " <div dir=\"rtl\">\n",
    "     اگر\n",
    "\n",
    "$$\n",
    "x(t) \\stackrel{\\mathcal{L}}{\\longrightarrow} X(s) \\quad , \\text{ROC} = R\n",
    "$$\n",
    "<div dir=\"rtl\">\n",
    "آنگاه\n",
    "\n",
    "$$\n",
    "x(t-t_0) \\stackrel{\\mathcal{L}}{\\longrightarrow} e^{-st_0} X(s) \\quad , \\text{ROC} = R \\quad (9.87)\n",
    "$$\n",
    "<div dir=\"rtl\">\n",
    "    <H2>9.5.3 جابه‌جایی در حوزه s</H2>\n",
    "<div dir=\"rtl\">\n",
    "اگر\n",
    "\n",
    "$$\n",
    "x(t) \\stackrel{\\mathcal{L}}{\\longrightarrow} X(s) \\quad , \\text{ROC} = R\n",
    "$$\n",
    "<div dir=\"rtl\">\n",
    "آنگاه\n",
    "\n",
    "$$\n",
    "e^{s_0t} x(t) \\stackrel{\\mathcal{L}}{\\longrightarrow} X(s-s_0) \\quad , \\text{ROC} = R + \\Re\\{s_0\\} \\quad (9.88)\n",
    "$$\n",
    "<div dir=\"rtl\">\n",
    "یعنی ROC مربوط به $X(s-s_0)$ همان ROC مربوط به $X(s)$ است که به اندازه $\\Re\\{s_0\\}$ جابه‌جا شده باشد.\n",
    "بنابراین به ازای هر مقدار $s$ واقع در $R$، مقدار $ S + \\Re\\{s_0\\} $ در $R_1$ قرار دارد. این مطلب در شکل\n",
    "9.23 تصویر شده است. توجه کنید که اگر $X(s)$ در $s = a$ قطب یا صفر داشته باشد، $X(s-s_0)$ در\n",
    "$s-s_0 = a$ یا $s = a + s_0$ قطب یا صفر دارد.\n",
    "<div dir=\"rtl\">\n",
    "یک حالت خاص مهم معادله (9.88) به ازای $s_0 = j\\omega_0$ است - یعنی وقتی $x(t)$ برای مدوله کردن نمایی\n",
    "مختلط $e^{j\\omega_0t}$ به کار می‌رود. در این حالت معادله (9.88) به شکل زیر در می‌آید"
   ]
  },
  {
   "cell_type": "markdown",
   "metadata": {},
   "source": [
    "<div dir=\"rtl\">\n",
    "    $$\n",
    "e^{j\\omega_0t} x(t) \\stackrel{\\mathcal{L}}{\\longrightarrow} X(s-j\\omega_0) \\quad , \\text{ROC} = R \\quad (9.89)\n",
    "$$\n",
    "<div dir=\"rtl\">\n",
    "طرف راست معادله (9.89) را می‌توان جابه‌جایی به موازات محور $j\\omega$ در نظر گرفت. یعنی اگر تبدیل\n",
    "لاپلاس $x(t)$ در $s = a$ قطب یا صفر داشته باشد، تبدیل لاپلاس $e^{j\\omega_0t} x(t)$ در $s = a + j\\omega_0$ قطب یا صفر دارد."
   ]
  },
  {
   "cell_type": "markdown",
   "metadata": {},
   "source": [
    "<div dir=\"rtl\">\n",
    "    <H2> 9.5.4 تغییر مقیاس زمانی </H2>\n",
    "    "
   ]
  },
  {
   "cell_type": "markdown",
   "metadata": {},
   "source": [
    "<div dir=\"rtl\">\n",
    "    اگر\n",
    "\n",
    "$$\n",
    "x(t) \\stackrel{\\mathcal{L}}{\\longrightarrow} X(s) \\quad , \\text{ROC} = R\n",
    "$$\n",
    "<div dir=\"rtl\">\n",
    "آنگاه\n",
    "\n",
    "$$\n",
    "x(at) \\stackrel{\\mathcal{L}}{\\longrightarrow} \\frac{1}{|a|} X\\left(\\frac{s}{a}\\right) \\quad , \\text{ROC} = R_1 = \\frac{R}{a} \\quad (9.90)\n",
    "$$\n",
    "<div dir=\"rtl\">\n",
    "یعنی به ازای هر مقدار $s$ واقع در $R$ [شکل 9.24 (الف)]، $s/a$ در $R_1$ قرار دارد، و به ازای $a > ۱$ در شکل\n",
    "9.24 (ب) نشان داده شده است. توجه کنید که به ازای $a > ۱$، ROC مربوط به $X(s)$ با ضریب $1/a$ فشرده\n",
    "می‌شود، ولی به ازای $۱ < a$ این ROC با ضریب $1/a$ منبسط می‌شود. همچنین معادله (9.90)\n",
    "می‌گوید که به ازای $a$ منفی ROC علاوه بر تغییر اندازه با تغییر علامت نیز همراه است. مطابق شکل 9.24\n",
    "(ج)، ROC به ازای $۱- < a < ۰$ حول محور $j\\omega$ وارونه می‌شود و با ضریب $1/|a|$ تغییر اندازه می‌دهد.\n",
    "پس وارونگی زمانی $x(t)$ به وارونه شدن ROC منجر می‌شود. یعنی\n",
    "<div dir=\"rtl\">\n",
    "$$\n",
    "x(-t) \\stackrel{\\mathcal{L}}{\\longrightarrow} X(-s) \\quad , \\text{ROC} = -R \\quad (9.91)\n",
    "$$"
   ]
  },
  {
   "cell_type": "markdown",
   "metadata": {},
   "source": [
    "<div dir=\"rtl\">\n",
    "<H2> 9.5.5 مزدوج گیری "
   ]
  },
  {
   "cell_type": "markdown",
   "metadata": {},
   "source": [
    "<div dir=\"rtl\">\n",
    "اگر\n",
    "  $$\n",
    "x(t) \\stackrel{\\mathcal{L}}{\\longrightarrow} X(s) \\quad , \\text{ROC} = R \\quad (9.92)\n",
    "$$  \n",
    "\n",
    "\n"
   ]
  },
  {
   "cell_type": "markdown",
   "metadata": {},
   "source": [
    "<div dir=\"rtl\">\n",
    "    آنگاه\n",
    "\n",
    "$$\n",
    "x^*(t) \\stackrel{\\mathcal{L}}{\\longrightarrow} X^*(s^*) \\quad , \\text{ROC} = R \\quad (9.93)\n",
    "$$\n",
    "<div dir=\"rtl\">\n",
    "پس به ازای x(t) حقیقی\n",
    "\n",
    " $$X(s) = X^*(s^*) \\quad (9.94)$$\n",
    "<div dir=\"rtl\">\n",
    "یعنی اگر $x(t)$ حقیقی بوده، $X(s)$ در $s_0$ قطب یا صفر داشته باشد (یعنی $X(s)$ در $s_0 = s$ بی‌نهایت یا\n",
    "صفر باشد)، $X(s)$ در $s_0 = s$ نیز قطب یا صفر دارد. برای مثال تبدیل $X(s)$ مثال 9.4 به سیگنال حقیقی\n",
    "$x(t)$ مربوط می‌شود و قطب‌هایی در $s = \\pm j3$ و صفرهایی در $(5 \\pm j\\sqrt{71}) / 2 = s$ دارد."
   ]
  },
  {
   "cell_type": "markdown",
   "metadata": {},
   "source": [
    "<div dir=\"rtl\">\n",
    "    <h2> 9.5.6 خاصیت کانوولوشن"
   ]
  },
  {
   "cell_type": "markdown",
   "metadata": {},
   "source": [
    "<div dir=\"rtl\">\n",
    "    اگر\n",
    "\n",
    "$$\n",
    "x_1(t) \\stackrel{\\mathcal{L}}{\\longrightarrow} X_1(s) \\quad , \\text{ROC} = R_1\n",
    "$$\n",
    "<div dir=\"rtl\">\n",
    "و\n",
    "\n",
    "$$\n",
    "x_2(t) \\stackrel{\\mathcal{L}}{\\longrightarrow} X_2(s) \\quad , \\text{ROC} = R_2\n",
    "$$\n",
    "<div dir=\"rtl\">\n",
    "آنگاه\n",
    "\n",
    "$$\n",
    "x_1(t) * x_2(t) \\stackrel{\\mathcal{L}}{\\longrightarrow} X_1(s) X_2(s)  \\quad R_1 \\cap R_2\n",
    "$$\n",
    "<div dir=\"rtl\">\n",
    "به همان صورت خاصیت خطی بودن بخش ۹-۵-۱، ROC مربوط به $X_1(s) X_2(s)$ اشتراک ROC های\n",
    "$X_1(s)$ و $X_2(s)$ را شامل می‌شود و اگر در اثر ضرب، قطب و صفر با هم حذف شوند این ROC می‌تواند از\n",
    "این اشتراک بزرگتر باشد. مثلاً اگر\n",
    "\n",
    "$$\n",
    "X_1(s) = \\frac{s+1}{s+2} \\quad , \\Re\\{s\\} > -2 \\quad (9.96)\n",
    "$$\n",
    "\n",
    "$$\n",
    "X_2(s) = \\frac{1}{s+1} \\quad , \\Re\\{s\\} > -1 \\quad (9.97)\n",
    "$$\n",
    "<div dir=\"rtl\">\n",
    "آنگاه $X_1(s) X_2(s) = ۱$ و ROC تمام صفحه است.\n",
    "<div dir=\"rtl\">\n",
    "همان طور که در فصل ۴ دیدیم، خاصیت کانولوشن تبدیل فوریه نقش مهمی در تحلیل سیستم‌های\n",
    "خطی تغییر ناپذیر با زمان داشت. در بخش‌های ۷۹ و ۹-۸ خاصیت کانولوشن تبدیل لاپلاس را به تفصیل\n",
    "برای تحلیل سیستم‌های LTI به طور کلی، و برای سیستم‌های توصیف شده با معادلات دیفرانسیل خطی\n",
    "دارای ضرایب ثابت به طور خاص به کار می‌گیریم."
   ]
  },
  {
   "cell_type": "markdown",
   "metadata": {},
   "source": [
    "<div dir=\"rtl\">\n",
    "    <h2>9.5.7 مشتقگیری در حوزه زمان </h2>"
   ]
  },
  {
   "cell_type": "markdown",
   "metadata": {},
   "source": [
    "<div dir=\"rtl\">\n",
    "  $$\n",
    "x(t) \\stackrel{\\mathcal{L}}{\\longrightarrow} X(s) \\quad , \\text{ROC} = R \\quad \n",
    "$$  \n",
    "<div dir=\"rtl\">\n",
    "    انگاه\n",
    "    $$\n",
    "\\frac{dx(t)}{dt} \\stackrel{\\mathcal{L}}{\\longrightarrow} sX(s) \\quad , \\text{ROC }=\\quad R \\quad (9.98)\n",
    "$$\n",
    "<div dir=\"rtl\">\n",
    "    این خاصیت با مشتق گیری از دو طرف معادله عکس تبدیل لاپلاس، یعنی معادله (9.56)، به دست می‌آید.\n",
    "<div dir=\"rtl\">\n",
    "داریم\n",
    "\n",
    "$$\n",
    "x(t) = \\frac{1}{2\\pi j} \\int_{\\sigma-j\\infty}^{\\sigma+j\\infty} X(s) e^{st} ds\n",
    "$$\n",
    "<div dir=\"rtl\">\n",
    "پس\n",
    "\n",
    "$$\n",
    "\\frac{dx(t)}{dt} = \\frac{1}{2\\pi j} \\int_{\\sigma-j\\infty}^{\\sigma+j\\infty} s X(s) e^{st} ds \\quad (9.99)\n",
    "$$\n",
    "<div dir=\"rtl\">\n",
    "در نتیجه $\\frac{dx(t)}{dt}$ عکس تبدیل لاپلاس $s X(s)$ است. ROC تبدیل $s X(s)$ مربوط به $X(s)$ را\n",
    "شامل می‌شود، ولی اگر $X(s)$ در $s = ۰$ قطب مرتبه اول داشته باشد، با ضرب شدن در $s$ حذف می‌شود و\n",
    "ROC می‌تواند از ROC مربوط به $X(s)$ بزرگتر باشد. مثلاً به ازای $x(t) = u(t)$، $X(s) = 1/s$ که ROC\n",
    "آن $\\Re\\{s\\} > ۰$ است. مشتق $x(t)$ ضربه است که تبدیل لاپلاس آن برابر یک و ROC آن تمام صفحه s است."
   ]
  },
  {
   "cell_type": "markdown",
   "metadata": {},
   "source": [
    "<div dir=\"rtl\">\n",
    "<h2>  9.5.8 مشتق گیری در حوزه s"
   ]
  },
  {
   "cell_type": "markdown",
   "metadata": {},
   "source": [
    "<div dir=\"rtl\">\n",
    "    از دو طرف معادله تبدیل لاپلاس (9.13)، یعنی\n",
    "\n",
    "$$\n",
    "X(s) = \\int_{-\\infty}^{+\\infty} x(t) e^{-st} dt\n",
    "$$\n",
    "<div dir=\"rtl\">\n",
    "مشتق می‌گیریم و به دست می‌آوریم\n",
    "\n",
    "$$\n",
    "\\frac{dX(s)}{ds} = \\int_{-\\infty}^{+\\infty} (-t) x(t) e^{-st} dt\n",
    "$$\n",
    "<div dir=\"rtl\">\n",
    "بنابراین اگر\n",
    "\n",
    "$$\n",
    "x(t) \\stackrel{\\mathcal{L}}{\\longrightarrow} X(s) \\quad , \\text{ROC} = R\n",
    "$$\n",
    "<div dir=\"rtl\">\n",
    "آنگاه\n",
    "\n",
    "$$\n",
    "-tx(t) \\stackrel{\\mathcal{L}}{\\longrightarrow} \\frac{dX(s)}{ds} \\quad , \\text{ROC} = R \\quad (9.100)\n",
    "$$\n",
    "<div dir=\"rtl\">\n",
    "دو مثال زیر کاربرد این خاصیت را نشان می‌دهند."
   ]
  },
  {
   "cell_type": "markdown",
   "metadata": {},
   "source": [
    "<div dir=\"rtl\">\n",
    "    <h2> مثال 9.14"
   ]
  },
  {
   "cell_type": "markdown",
   "metadata": {},
   "source": [
    "<div dir=\"rtl\">\n",
    "    بیایید تبدیل لاپلاس سیگنال زیر را به دست آوریم\n",
    "\n",
    "$$\n",
    "x(t) = te^{-at} u(t) \\quad (9.101)\n",
    "$$\n",
    "<div dir=\"rtl\">\n",
    "چون\n",
    "\n",
    "$$\n",
    "e^{-at} u(t) \\stackrel{\\mathcal{L}}{\\longrightarrow} \\frac{1}{s+a} \\quad , \\Re\\{s\\} > -a\n",
    "$$\n",
    "\n",
    "\n",
    " <div dir=\"rtl\">   \n",
    "با توجه به معادله (9.100) به دست می‌آوریم\n",
    "\n",
    "$$\n",
    "te^{-t} u(t) \\stackrel{\\mathcal{L}}{\\longrightarrow} -\\frac{d}{ds} \\left[ \\frac{1}{s+a} \\right] = \\frac{1}{(s+a)^2} \\quad , \\Re\\{s\\} > -a \\quad (9.102)\n",
    "$$\n",
    "<div dir=\"rtl\">\n",
    "با استفاده دوباره از معادله (9.100) به دست می‌آوریم\n",
    "\n",
    "$$\n",
    "t^2/2 e^{-t} u(t) \\stackrel{\\mathcal{L}}{\\longrightarrow} \\frac{2}{(s+a)^3} \\quad , \\Re\\{s\\} > -a \\quad (9.103)\n",
    "$$\n",
    "<div dir=\"rtl\">\n",
    "و در حالت کلی\n",
    "\n",
    "$$\n",
    "\\frac{t^{n-۱}}{(n-۱)!} e^{-at} u(t) \\stackrel{\\mathcal{L}}{\\longrightarrow} \\frac{۱}{(s+a)^n} \\quad , \\Re\\{s\\} > -a \\quad (9.104)\n",
    "$$\n",
    "<div dir=\"rtl\">\n",
    "همانطور که مثال بعد نشان می‌دهد، این زوج تبدیل لاپلاس مخصوصاً برای یافتن عکس تبدیل لاپلاس\n",
    "توابع گویای دارای قطب‌های مرتبه بالا به روش بسط به کسرهای جزیی، بسیار مفیدست."
   ]
  },
  {
   "cell_type": "markdown",
   "metadata": {},
   "source": [
    "<div dir=\"rtl\">\n",
    "    <h2> مثال 9.15"
   ]
  },
  {
   "cell_type": "markdown",
   "metadata": {},
   "source": [
    "<div dir=\"rtl\">\n",
    "  تبدیل لاپلاس زیر را در نظر بگیرید\n",
    "\n",
    "$$\n",
    "X(s) = \\frac{2s²+5s+5}{(s+1)²(s+2)} \\quad , \\Re\\{s\\} > -1\n",
    "$$\n",
    "<div dir=\"rtl\">\n",
    "با روش بسط به کسرهای جزیی بیان شده در پیوست می‌توانیم بنویسیم\n",
    "\n",
    "$$\n",
    "X(s) = \\frac{2}{(s+1)²} - \\frac{1}{s+1} + \\frac{3}{s+2} \\quad , \\Re\\{s\\} > -1 \\quad (9.105)\n",
    "$$\n",
    "<div dir=\"rtl\">\n",
    "چون ROC سمت راست قطب‌های ۱- = s و ۲- = s قرار دارد، عکس تبدیل لاپلاس سیگنال‌های دست\n",
    "راستی نتیجه می‌دهد، با اعمال معادلات (۹-۱۴) و (۹-۱۰۴) به دست می‌آوریم\n",
    "\n",
    "$$\n",
    "x(t) = [2te^{-t} - e^{-t} + 3e^{-2t}] u(t)\n",
    "$$  "
   ]
  },
  {
   "cell_type": "markdown",
   "metadata": {},
   "source": [
    "<div dir=\"rtl\">\n",
    "<h2> 9.5.9 انتگرال گیری در حوزه زمان "
   ]
  },
  {
   "cell_type": "markdown",
   "metadata": {},
   "source": [
    "<div dir=\"rtl\">\n",
    "اگر\n",
    "\n",
    "$$\n",
    "x(t) \\stackrel{\\mathcal{L}}{\\longrightarrow} X(s) \\quad , \\text{ROC} = R\n",
    "$$\n",
    "<div dir=\"rtl\">\n",
    "آنگاه\n",
    "\n",
    "$$\n",
    "\\int_{-\\infty}^{t} x(\\tau) d\\tau \\stackrel{\\mathcal{L}}{\\longrightarrow} \\frac{1}{s} X(s) \\quad , \\quad R \\cap \\{\\Re\\{s\\} > ۰\\} \\quad (9.106)\n",
    "$$\n",
    "<div dir=\"rtl\">\n",
    "این خاصیت عکس خاصیت مشتقگیری بخش 9.5.7 است. برای دستیابی به این خاصیت می‌توان\n",
    "خاصیت کانولوشن بخش 9.5.6 را به کار گرفت. به طور مشخص\n",
    "\n",
    "$$\n",
    "\\int_{-\\infty}^{t} x(\\tau) d\\tau = u(t) * x(t) \\quad (9.107)\n",
    "$$\n",
    "<div dir=\"rtl\">\n",
    "با توجه به مثال 9.1 ، به ازای $a = ۰$ داریم\n",
    "\n",
    "$$\n",
    "u(t) \\stackrel{\\mathcal{L}}{\\longrightarrow} \\frac{1}{s} \\quad , \\Re\\{s\\} > ۰ \\quad (9.108)\n",
    "$$\n",
    "<div dir=\"rtl\">\n",
    "و بنابر خاصیت کانولوشن\n",
    "\n",
    "$$\n",
    "u(t) * x(t) \\stackrel{\\mathcal{L}}{\\longrightarrow} \\frac{1}{s} X(s) \\quad (9.109)\n",
    "$$\n",
    "<div dir=\"rtl\">\n",
    "ROC اشتراک ROC مربوط به $X(s)$ و ROC تبدیل لاپلاس $u(t)$ را شامل می‌شود که همان ROC بیان\n",
    "شده در معادله (9.106) است."
   ]
  },
  {
   "cell_type": "markdown",
   "metadata": {},
   "source": [
    "<div dir=\"rtl\">\n",
    "<h2>9.5.10 قضایای مقدار اولیه و مقدار نهایی"
   ]
  },
  {
   "cell_type": "markdown",
   "metadata": {},
   "source": [
    "<div dir=\"rtl\">\n",
    "در شرایط معینی که در t>0 داشته باشیم x(t)=0 و x(t) در مبدا تابع ضربه یا توابع ویژه مرتبه بالاتر نداشته باشد،می توان با استفاده از تبدیل لاپلاس مقدار اولیه و مقدار نهایی را بیابیم. بنا به قضیه مقدار اولیه داریم:\n",
    "$$\n",
    "x(۰^+) = \\lim_{s \\to \\infty} sX(s) \\quad (9.110)\n",
    "$$\n",
    "<div dir=\"rtl\">\n",
    "و قضیه مقدار نهایی می‌گوید\n",
    "\n",
    "$$\n",
    "\\lim_{t \\to \\infty} x(t) = \\lim_{s \\to ۰} sX(s) \\quad (9.111)\n",
    "$$\n",
    "<div dir=\"rtl\">\n",
    "به دست آوردن این نتایج به مسئله 9.53 واگذار شده است."
   ]
  },
  {
   "cell_type": "markdown",
   "metadata": {},
   "source": [
    "<div dir=\"rtl\"> \n",
    "<h2> مثال 9.16"
   ]
  },
  {
   "cell_type": "markdown",
   "metadata": {},
   "source": [
    "<div dir=\"rtl\">\n",
    "    قضایای مقدار اولیه و مقدار نهایی را می‌توان برای امتحان درستی محاسبه تبدیل لاپلاس سیگنال‌ها به کار برد.\n",
    "مثلاً سیگنال $x(t)$ مثال 9.4 را در نظر بگیرید. معادله (9.24) نشان می‌دهد که ۲ = $x(۰^+)$. همچنین با توجه\n",
    "به معادله (9.29) داریم\n",
    "\n",
    "$$\n",
    "\\lim_{s \\to \\infty} sX(s) = \\lim_{s \\to \\infty} \\frac{2s^3 + 5s^2 + 12s}{s^3 + 4s^2 + 14s + 20} = 2\n",
    "$$\n",
    "\n",
    "<div dir=\"rtl\">\n",
    "که با قضیه مقدار اولیه (9.110) سازگارست."
   ]
  },
  {
   "cell_type": "markdown",
   "metadata": {},
   "source": [
    "<div dir=\"rtl\">\n",
    "<h2> 9.5.11 جدول خواص"
   ]
  },
  {
   "cell_type": "markdown",
   "metadata": {},
   "source": [
    "<div dir=\"rtl\">\n",
    "در جدول 9.1 خواص پی ریزی شده در این بخش را خلاصه کرده ایم . در بخش 9.7 بسیاری از این خواص\n",
    "را در کاربرد تبدیل لاپلاس برای تحلیل و توصیف سیستمهای خطی تغییر ناپذیر با زمان به کار میبریم .\n",
    "همانطور که طی مثالها روشن شد ، خواص تبدیل لاپلاس و ROC های مربوط به آنها می توانند اطلاعات\n",
    "بسیاری در مورد سیگنالها و تبدیلهایشان به ما بدهند ، این اطلاعات هم برای مشخص کردن سیگنالها و هم\n",
    "برای امتحان درستی محاسبات مفیدند . در بخشهای 9.7 و 9.8 و چند مسئله آخر فصل نمونه های دیگری\n",
    "از کاربرد این خواص را مطرح میکنیم ."
   ]
  }
 ],
 "metadata": {
  "kernelspec": {
   "display_name": "Python 3",
   "language": "python",
   "name": "python3"
  },
  "language_info": {
   "codemirror_mode": {
    "name": "ipython",
    "version": 3
   },
   "file_extension": ".py",
   "mimetype": "text/x-python",
   "name": "python",
   "nbconvert_exporter": "python",
   "pygments_lexer": "ipython3",
   "version": "3.7.3"
  },
  "widgets": {
   "application/vnd.jupyter.widget-state+json": {
    "state": {},
    "version_major": 2,
    "version_minor": 0
   }
  }
 },
 "nbformat": 4,
 "nbformat_minor": 2
}
