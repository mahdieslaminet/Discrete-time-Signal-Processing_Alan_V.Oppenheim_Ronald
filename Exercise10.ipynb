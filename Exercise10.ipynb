{
  "nbformat": 4,
  "nbformat_minor": 0,
  "metadata": {
    "colab": {
      "provenance": []
    },
    "kernelspec": {
      "name": "python3",
      "display_name": "Python 3"
    },
    "language_info": {
      "name": "python"
    }
  },
  "cells": [
    {
      "cell_type": "code",
      "execution_count": null,
      "metadata": {
        "id": "JaMwa4yDZF5J"
      },
      "outputs": [],
      "source": []
    },
    {
      "cell_type": "markdown",
      "source": [
        "10.1\n",
        "a)با استفاده از رابطه\n",
        "\\begin{aligned}\n",
        "\\Omega_k=\\frac{2 \\pi k}{N T}\n",
        "\\end{aligned}\n",
        "دریافتیم که شاخص k = 150 در [k] مربوط به فرکانس زمانی پیوسته است\n",
        "\\begin{aligned}\n",
        "\\Omega_{150} & =\\frac{2 \\pi(150)}{(1000)\\left(10^{-4}\\right)} \\\\\n",
        "& =2 \\pi(1500) \\mathrm{rad} / \\mathrm{s}\n",
        "\\end{aligned}\n",
        "b)\n",
        "برای این بخش، مهم است که متوجه شویم که شاخص k = 800 مربوط به فرکانس منفی زمان پیوسته است. از آنجایی که DFT در k با دوره N تناوبی است\n",
        "\\begin{aligned}\n",
        "\\Omega_{800} & =\\frac{2 \\pi(800-1000)}{1000\\left(10^{-4}\\right)} \\\\\n",
        "& =-2 \\pi(2000) \\mathrm{rad} / \\mathrm{s}\n",
        "\\end{aligned}\n",
        "\n",
        "10.2\n",
        "با استفاده از رابطه\n",
        "\\begin{aligned}\n",
        "\\Omega_k=\\frac{2 \\pi k}{N T}\n",
        "\\end{aligned}\n",
        "یا\n",
        "\\begin{aligned}\n",
        "f_k=\\frac{k}{N T}\n",
        "\\end{aligned}\n",
        "دریافتیم که فاصله آنالوگ معادل بین فرکانس ها است\n"
      ],
      "metadata": {
        "id": "EiQCbyXMZGc7"
      }
    }
  ]
}