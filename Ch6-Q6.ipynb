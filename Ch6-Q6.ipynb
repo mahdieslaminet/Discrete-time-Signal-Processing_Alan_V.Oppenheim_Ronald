{
  "nbformat": 4,
  "nbformat_minor": 0,
  "metadata": {
    "colab": {
      "provenance": [],
      "authorship_tag": "ABX9TyPMjdR38OLWSstD9LdTqx40",
      "include_colab_link": true
    },
    "kernelspec": {
      "name": "python3",
      "display_name": "Python 3"
    },
    "language_info": {
      "name": "python"
    }
  },
  "cells": [
    {
      "cell_type": "markdown",
      "metadata": {
        "id": "view-in-github",
        "colab_type": "text"
      },
      "source": [
        "<a href=\"https://colab.research.google.com/github/mahdieslaminet/Discrete-time-Signal-Processing_Alan_V.Oppenheim_Ronald/blob/main/Ch6-Q6.ipynb\" target=\"_parent\"><img src=\"https://colab.research.google.com/assets/colab-badge.svg\" alt=\"Open In Colab\"/></a>"
      ]
    },
    {
      "cell_type": "markdown",
      "source": [
        "### سوال 1:\n",
        "\n",
        "فرض کنید که سیگنال زیر در دامنه زمان داده شده است:\n",
        "\n",
        "$$\n",
        "x(t) = e^{-2t}u(t) + \\cos(3t)u(t)\n",
        "$$\n",
        "\n",
        "تبدیل لاپلاس این سیگنال را محاسبه کنید.\n",
        "\n"
      ],
      "metadata": {
        "id": "hzZ76SNBfJdU"
      }
    },
    {
      "cell_type": "code",
      "execution_count": null,
      "metadata": {
        "colab": {
          "base_uri": "https://localhost:8080/",
          "height": 52
        },
        "id": "70hG4odBfHQ6",
        "outputId": "048f6a12-3b2b-4839-85c0-ab7d400ca2d2"
      },
      "outputs": [
        {
          "output_type": "execute_result",
          "data": {
            "text/plain": [
              "s/(s**2 + 9) + 1/(s + 2)"
            ],
            "text/latex": "$\\displaystyle \\frac{s}{s^{2} + 9} + \\frac{1}{s + 2}$"
          },
          "metadata": {},
          "execution_count": 2
        }
      ],
      "source": [
        "from sympy import symbols, exp, cos, Heaviside, laplace_transform\n",
        "from sympy.abc import t, s\n",
        "\n",
        "x = exp(-2*t)*Heaviside(t) + cos(3*t)*Heaviside(t)\n",
        "X_s = laplace_transform(x, t, s, noconds=True)\n",
        "X_s\n"
      ]
    },
    {
      "cell_type": "markdown",
      "source": [
        "### سوال 2:\n",
        "\n",
        "اگر سیگنال \\( x(t) = t^2 e^{4t}u(t) \\) داده شده باشد، تبدیل لاپلاس آن را محاسبه کنید و \\( X(s) \\) را بدست آورید.\n"
      ],
      "metadata": {
        "id": "JOq6Af5zhxmK"
      }
    },
    {
      "cell_type": "code",
      "source": [
        "from sympy import symbols, exp, laplace_transform\n",
        "from sympy.abc import s\n",
        "\n",
        "t = symbols('t')  # تعریف t به عنوان یک نماد\n",
        "x = t**2 * exp(4*t)\n",
        "X_s = laplace_transform(x, t, s, noconds=True)\n",
        "X_s\n",
        "\n"
      ],
      "metadata": {
        "colab": {
          "base_uri": "https://localhost:8080/",
          "height": 58
        },
        "id": "PxgBlU54hzYm",
        "outputId": "7f38217e-ed77-4fb0-945e-7855dc5038cb"
      },
      "execution_count": null,
      "outputs": [
        {
          "output_type": "execute_result",
          "data": {
            "text/plain": [
              "2/(s - 4)**3"
            ],
            "text/latex": "$\\displaystyle \\frac{2}{\\left(s - 4\\right)^{3}}$"
          },
          "metadata": {},
          "execution_count": 13
        }
      ]
    },
    {
      "cell_type": "markdown",
      "source": [
        "### سوال 3:\n",
        "\n",
        "سیگنال زیر را در نظر بگیرید:\n",
        "\n",
        "$$\n",
        "x(t) = \\sin(t) + \\delta(t-2)\n",
        "$$\n",
        "\n",
        "تبدیل لاپلاس معکوس این سیگنال را محاسبه کنید.\n"
      ],
      "metadata": {
        "id": "9oNJjo6Gh3R2"
      }
    },
    {
      "cell_type": "code",
      "source": [
        "from sympy import symbols, cos, DiracDelta, laplace_transform\n",
        "from sympy.abc import t, s\n",
        "\n",
        "x = cos(t) + DiracDelta(t - 2)\n",
        "X_s = laplace_transform(x, t, s, noconds=True)\n",
        "X_s\n"
      ],
      "metadata": {
        "colab": {
          "base_uri": "https://localhost:8080/",
          "height": 49
        },
        "id": "NRM-88VJh8Iq",
        "outputId": "c5d24c25-d750-47f8-8695-dfa01db41282"
      },
      "execution_count": null,
      "outputs": [
        {
          "output_type": "execute_result",
          "data": {
            "text/plain": [
              "s/(s**2 + 1) + exp(-2*s)"
            ],
            "text/latex": "$\\displaystyle \\frac{s}{s^{2} + 1} + e^{- 2 s}$"
          },
          "metadata": {},
          "execution_count": 5
        }
      ]
    },
    {
      "cell_type": "markdown",
      "source": [
        "### سوال 4:\n",
        "\n",
        "تبدیل لاپلاس سیگنال زیر را بدست آورید:\n",
        "\n",
        "$$\n",
        "x(t) = t \\cdot \\cos(2t)\n",
        "$$\n"
      ],
      "metadata": {
        "id": "IbdZa9ekh-n6"
      }
    },
    {
      "cell_type": "code",
      "source": [
        "from sympy import symbols, cos, laplace_transform\n",
        "from sympy.abc import s\n",
        "\n",
        "t = symbols('t')  # تعریف t به عنوان یک نماد\n",
        "x = t * cos(2*t)\n",
        "X_s = laplace_transform(x, t, s, noconds=True)\n",
        "X_s\n",
        "\n"
      ],
      "metadata": {
        "colab": {
          "base_uri": "https://localhost:8080/",
          "height": 58
        },
        "id": "VWkmaI0xiBbr",
        "outputId": "8537018c-4f96-479f-db57-61efe755aad6"
      },
      "execution_count": null,
      "outputs": [
        {
          "output_type": "execute_result",
          "data": {
            "text/plain": [
              "1/(2*(s + 2*I)**2) + 1/(2*(s - 2*I)**2)"
            ],
            "text/latex": "$\\displaystyle \\frac{1}{2 \\left(s + 2 i\\right)^{2}} + \\frac{1}{2 \\left(s - 2 i\\right)^{2}}$"
          },
          "metadata": {},
          "execution_count": 14
        }
      ]
    },
    {
      "cell_type": "markdown",
      "source": [
        "### سوال 5:\n",
        "\n",
        "برای سیگنال \\( x(t) = u(t-1) - u(t-3) \\)، تبدیل لاپلاس معکوس آن را بیابید.\n"
      ],
      "metadata": {
        "id": "PTlWP5WHiD_B"
      }
    },
    {
      "cell_type": "code",
      "source": [
        "from sympy import symbols, Heaviside, laplace_transform\n",
        "from sympy.abc import t, s\n",
        "\n",
        "x = Heaviside(t - 1) - Heaviside(t - 3)\n",
        "X_s = laplace_transform(x, t, s, noconds=True)\n",
        "X_s\n"
      ],
      "metadata": {
        "colab": {
          "base_uri": "https://localhost:8080/",
          "height": 54
        },
        "id": "flo-uN8QiGYm",
        "outputId": "e4a768bd-393f-4ef1-9340-3dbc15c63965"
      },
      "execution_count": null,
      "outputs": [
        {
          "output_type": "execute_result",
          "data": {
            "text/plain": [
              "exp(-s)/s - exp(-3*s)/s"
            ],
            "text/latex": "$\\displaystyle \\frac{e^{- s}}{s} - \\frac{e^{- 3 s}}{s}$"
          },
          "metadata": {},
          "execution_count": 7
        }
      ]
    },
    {
      "cell_type": "markdown",
      "source": [
        "### سوال 6:\n",
        "\n",
        "تابع تبدیل لاپلاس معکوس برای سیگنال \\( x(t) = e^{-3t} \\cdot u(t) \\) را پیدا کنید.\n"
      ],
      "metadata": {
        "id": "Hnj-Gc3KiI9t"
      }
    },
    {
      "cell_type": "code",
      "source": [
        "from sympy import exp, Heaviside, laplace_transform\n",
        "from sympy.abc import t, s\n",
        "\n",
        "x = exp(-3*t) * Heaviside(t)\n",
        "X_s = laplace_transform(x, t, s, noconds=True)\n",
        "X_s\n"
      ],
      "metadata": {
        "colab": {
          "base_uri": "https://localhost:8080/",
          "height": 52
        },
        "id": "iVkQsKJUiLq6",
        "outputId": "947ed21c-cecf-49b7-b880-62174bb45c82"
      },
      "execution_count": null,
      "outputs": [
        {
          "output_type": "execute_result",
          "data": {
            "text/plain": [
              "1/(s + 3)"
            ],
            "text/latex": "$\\displaystyle \\frac{1}{s + 3}$"
          },
          "metadata": {},
          "execution_count": 8
        }
      ]
    },
    {
      "cell_type": "markdown",
      "source": [
        "### سوال 7:\n",
        "\n",
        "تبدیل لاپلاس سیگنال \\( x(t) = \\frac{1}{t+1} \\) را بدست آورید.\n"
      ],
      "metadata": {
        "id": "Ix4V74fYiNzW"
      }
    },
    {
      "cell_type": "code",
      "source": [
        "from sympy import symbols, laplace_transform\n",
        "from sympy.abc import t, s\n",
        "\n",
        "x = 1/(t + 1)\n",
        "X_s = laplace_transform(x, t, s, noconds=True)\n",
        "X_s\n"
      ],
      "metadata": {
        "colab": {
          "base_uri": "https://localhost:8080/",
          "height": 39
        },
        "id": "KkdZ6wAmiP0T",
        "outputId": "6217d9d2-9398-4293-b09e-0f1a6f0bea7b"
      },
      "execution_count": null,
      "outputs": [
        {
          "output_type": "execute_result",
          "data": {
            "text/plain": [
              "-exp(-s)*Ei(-s)"
            ],
            "text/latex": "$\\displaystyle - e^{- s} \\operatorname{Ei}{\\left(- s \\right)}$"
          },
          "metadata": {},
          "execution_count": 9
        }
      ]
    },
    {
      "cell_type": "markdown",
      "source": [
        "### سوال 8:\n",
        "\n",
        "برای تابع \\( X(s) = \\frac{5}{s^2 + 4s + 5} \\)، تبدیل لاپلاس معکوس آن را محاسبه کنید.\n"
      ],
      "metadata": {
        "id": "cSZZIFWkiUNQ"
      }
    },
    {
      "cell_type": "code",
      "source": [
        "from sympy import symbols, laplace_transform\n",
        "from sympy.abc import t, s\n",
        "\n",
        "X = 5/(s**2 + 4*s + 5)\n",
        "x_t = laplace_transform(X, s, t, noconds=True)\n",
        "x_t\n"
      ],
      "metadata": {
        "colab": {
          "base_uri": "https://localhost:8080/",
          "height": 58
        },
        "id": "V4NvnmwniXCc",
        "outputId": "c7103b84-81fe-4e1d-c32a-bf0aba6704e6"
      },
      "execution_count": null,
      "outputs": [
        {
          "output_type": "execute_result",
          "data": {
            "text/plain": [
              "5*LaplaceTransform(1/(s**2 + 4*s + 5), s, t)"
            ],
            "text/latex": "$\\displaystyle 5 \\mathcal{L}_{s}\\left[\\frac{1}{s^{2} + 4 s + 5}\\right]\\left(t\\right)$"
          },
          "metadata": {},
          "execution_count": 10
        }
      ]
    },
    {
      "cell_type": "markdown",
      "source": [
        "### سوال 9:\n",
        "\n",
        "سیگنال زیر را در نظر بگیرید:\n",
        "\n",
        "$$\n",
        "x(t) = \\cosh(2t)u(t)\n",
        "$$\n",
        "\n",
        "تبدیل لاپلاس این سیگنال را بدست آورید.\n"
      ],
      "metadata": {
        "id": "5tj06E8KiZtC"
      }
    },
    {
      "cell_type": "code",
      "source": [
        "from sympy import symbols, cosh, Heaviside, laplace_transform\n",
        "from sympy.abc import t, s\n",
        "\n",
        "x = cosh(2*t) * Heaviside(t)\n",
        "X_s = laplace_transform(x, t, s, noconds=True)\n",
        "X_s\n"
      ],
      "metadata": {
        "colab": {
          "base_uri": "https://localhost:8080/",
          "height": 49
        },
        "id": "DM6Q-rMwicSq",
        "outputId": "0c76067c-b22d-4e62-c8e8-d7e078f5869a"
      },
      "execution_count": null,
      "outputs": [
        {
          "output_type": "execute_result",
          "data": {
            "text/plain": [
              "s/(s**2 - 4)"
            ],
            "text/latex": "$\\displaystyle \\frac{s}{s^{2} - 4}$"
          },
          "metadata": {},
          "execution_count": 11
        }
      ]
    },
    {
      "cell_type": "markdown",
      "source": [
        "### سوال 10:\n",
        "\n",
        "اگر سیگنال \\( x(t) = e^{-t}u(t) + \\sin(2t)u(t) \\)، تبدیل لاپلاس آن را محاسبه کنید.\n"
      ],
      "metadata": {
        "id": "nyhDNY3aifhf"
      }
    },
    {
      "cell_type": "code",
      "source": [
        "from sympy import symbols, exp, sin, Heaviside, laplace_transform\n",
        "from sympy.abc import t, s\n",
        "\n",
        "x = exp(-t) * Heaviside(t) + sin(2*t) * Heaviside(t)\n",
        "X_s = laplace_transform(x, t, s, noconds=True)\n",
        "X_s\n"
      ],
      "metadata": {
        "colab": {
          "base_uri": "https://localhost:8080/",
          "height": 52
        },
        "id": "Xi_igop4ijbu",
        "outputId": "4e3aa251-2328-48eb-973c-6655bdcfa7eb"
      },
      "execution_count": null,
      "outputs": [
        {
          "output_type": "execute_result",
          "data": {
            "text/plain": [
              "2/(s**2 + 4) + 1/(s + 1)"
            ],
            "text/latex": "$\\displaystyle \\frac{2}{s^{2} + 4} + \\frac{1}{s + 1}$"
          },
          "metadata": {},
          "execution_count": 12
        }
      ]
    }
  ]
}