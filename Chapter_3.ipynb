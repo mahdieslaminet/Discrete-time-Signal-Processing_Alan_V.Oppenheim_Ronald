{
 "cells": [
  {
   "cell_type": "markdown",
   "id": "7818947a",
   "metadata": {},
   "source": [
    "#  بسمه تعالی \n",
    "### دانشگاه آزاد اسلامی واحد علوم تحقیقات - دانشکده برق، مکانیک و کامپیوتر\n",
    "### نام مدرس : استاد مهدی اسلامی\n",
    "### عنوان درس : پردازش سیگنال های دیجیتال\n",
    "### نویسندگان  :  محمدحسین رادپور , مریم میرزایی فرد , بهنام خندان   "
   ]
  },
  {
   "cell_type": "markdown",
   "id": "f2d41d14",
   "metadata": {},
   "source": [
    "# فصل سوم سیگنال ها و سیستم ها\n",
    "   ### سری فوریه سیگنال های متناوب :"
   ]
  },
  {
   "cell_type": "markdown",
   "id": "2c4f2c40",
   "metadata": {},
   "source": [
    "## عناوین درس : \n",
    "1. مقدمه \n",
    "2. دورنمای تاریخی\n",
    "3. پاسخ سیستم های LTI پیوسته در زمان به نمایی مختلط\n",
    "4. نمایش سری های فوریه سیگنال های متناوب پیوسته در زمان\n",
    "5. همگرایی سری فوریه\n",
    "6. خواص سری فوریه پیوسته در زمان\n",
    "7. نمایش سری های فوریه سیگنال های متناوب گسسته در زمان\n",
    "8. خواص سری فوریه گسسته در زمان \n",
    "9. سری فوریه و سیستم های LTI  \n",
    "10. فیلتر کردن \n",
    "11. نمونه های از فیلتر های پیوسته در زمان توصیف شده با معادلات دیفرانسیل\n",
    "12. فیلتر های گسسته در زمان توصیف شده با معادلات تفاضلی\n",
    "13. سوالات پایان فصل"
   ]
  },
  {
   "cell_type": "markdown",
   "id": "b74feb0f",
   "metadata": {},
   "source": [
    "## مقدمه :"
   ]
  },
  {
   "cell_type": "markdown",
   "id": "404bde15",
   "metadata": {},
   "source": [
    " همانگونه که گفتیم هدف ما در این کتاب تجزیه و تحلیل سیستم های LTI است. روش حوزه زمان در تجزیه و تحلیل این سیستم ها با همه وضوح و روشنی در بعضی موارد به محاسبات پیچیده و خسته کننده منتهی میشود. این امر باعث شده است تا روش تجزیه و تحلیل فوریه در این موارد به کار گرفته شود.\n",
    " \n",
    " البته تنها بدلیل سادگی این روش مورد توجه قرار نگرفته است بلکه دلیل عمده توجه متخصصان به تحلیل فوریه در تجزیه و تحلیل سیستمهای LTI این است که در واقع یک نوع برداشت جدید از سیستم ها به خواننده میدهد و خواننده را به دنیای جدیدی به نام حوزه فرکانس برده و او را در این دنیای جدید با خواص سیستم ها آشنا میسازد. البته لازم است توجه شود که تحلیل فوریه فقط و فقط در مورد سیستمهای خطی کاربرد دارد تبدیل فوریه در واقع ابتدا به عنوان یک ابزار ریاضی کارآمد جهت تفسیر برخی از پدیده های فیزیکی و همچنین حل برخی مسایل پیچیده ریاضی ارائه گردید. تبدیل فوریه عملگری است که برخی معادلات پیچیده را به معادلات ساده جبری تبدیل می نماید.\n",
    " \n",
    " اساس کار این عملگر بسط یک تابع بر اساس مؤلفه های فرکانسی به صورت e <sup>j$\\omega$t</sup> است. اهمیت تحلیل فوریه در تجزیه و تحلیل سیستم ها و سیگنالها نیز از همین جا ناشی شده است. توابعی به صورت e <sup>j$\\omega$t</sup> نوع خاص و بسیار مهمی از توابع هستند که اگر پاسخ سیستم خطی به این توابع را داشته باشیم اطلاعات مهمی در مورد سیستم و خواص آن میتوان بدست آورد. این خواص به خواص سیستم در حوزه فرکانس موسوم هستند و از روی آنها میتوان سایر خواص سیستم را نیز بدست آورد. جالب است توجه کنیم که پاسخ سیستم خطی به این گونه توابع دقیقا مشابه ورودی به استثناء یک ضریب ثابت مختلط است. بعبارت دیگر توابعی بصورت e <sup>j$\\omega$t</sup> توابع ویژه سیستم های LTI هستند.\n",
    " \n",
    " بنابراین مشاهده میشود که تحلیل فوریه یک ابزار کارآمد و سریع در بدست آوردن خواص سیستم های خطی و تجزیه و تحلیل عملکرد آنهاست در این فصل توجه خود را به تجزیه و تحلیل سیگنالها و سیستم های پیوسته زمان معطوف میداریم و در فصل چهارم به بررسی سیستمها و دنباله های گسسته زمان می پردازیم در اینجا جهت یادآوری لازم است تعریف انرژی و توان را برای سیگنال های انرژی و توان که در فصل اول ارائه شد را مجددا تکرار کنیم. \n",
    " انرژی سیگنال v(t) طبق تعریف برابر است با :"
   ]
  },
  {
   "cell_type": "markdown",
   "id": "8d26ddba",
   "metadata": {},
   "source": [
    "$$\n",
    "\\int_{-T/2}^{T/2} |v(t)|^2 \\, dt\n",
    "$$"
   ]
  },
  {
   "cell_type": "markdown",
   "id": "659bef39",
   "metadata": {},
   "source": [
    "که از تعریف انرژی برای یک مقاومت واحد بدست آمده است. رابطه (3-1) را به صورت (3-2) نیز میتوان نوشت :"
   ]
  },
  {
   "cell_type": "markdown",
   "id": "66a3e030",
   "metadata": {},
   "source": [
    "$$\n",
    "\\int_{-\\infty}^{\\infty} |v(t)|^2 \\, dt\n",
    "$$"
   ]
  },
  {
   "cell_type": "markdown",
   "id": "5476b2df",
   "metadata": {},
   "source": [
    "علامت قدر مطلق برای داشتن انرژی مثبت و حقیقی برای سیگنالهای مختلط گذاشته شده است.همچنین طبق تعریف توان(قدرت) سیگنال  V(t) بصورت زیر است :"
   ]
  },
  {
   "cell_type": "markdown",
   "id": "a6278ddc",
   "metadata": {},
   "source": [
    "$$\n",
    "\\lim_{T \\to \\infty} \\frac{1}{T} \\int_{-\\infty}^{\\infty} |v(t)|^2 \\, dt\n",
    "$$"
   ]
  },
  {
   "cell_type": "markdown",
   "id": "7325d807",
   "metadata": {},
   "source": [
    "## تقسیم بندی سیگنال ها از نظر توان و انرژی "
   ]
  },
  {
   "cell_type": "markdown",
   "id": "f48ed4f3",
   "metadata": {},
   "source": [
    "البته تقسیم بندی سیگنالها نمیتواند یک تقسیم بندی منحصر بفرد باشد و با توجه به هر خاصیت از سیگنال میتوان یک نوع تقسیم بندی ارائه کرد در اینجا منظور ما از تقسیم بندی از لحاظ میزان انرژی موجود در سیگنال است. در این صورت سیگنالها به دو دسته تقسیم میشوند.\n",
    "\n",
    " الف - سیگنال انرژی\n",
    " \n",
    " سیگنال انرژی سیگنالی است که انرژی آن محدود باشد.\n",
    " \n",
    " ب سیگنال توان\n",
    " \n",
    " سیگنال توان سیگنالی است که توان آن محدود باشد.\n",
    " \n",
    "دیده میشود که در سیگنالهای انرژی E  محدود و مثبت و توان صفر است، چون توان از تقسیم انرژی به تمام طول زمان بدست می آید و اگر  E محدود باشد  P صفر میشود. همچنین چون توان در سیگنالهای توان محدود است E  بینهایت میشود چون انرژی از حاصلضرب توان در تمام طول زمان بدست می آید. البته بعضی از سیگنالها نه سیگنال توان هستند و نه سیگنال انرژی. "
   ]
  },
  {
   "cell_type": "markdown",
   "id": "c52a115a",
   "metadata": {},
   "source": [
    "در جدول زیر خواص سیگنال های توان و انرژی خلاصه شده است :"
   ]
  },
  {
   "cell_type": "markdown",
   "id": "caff1f8e",
   "metadata": {},
   "source": [
    "| سیگنال انرژی | $E_{v < \\infty}$ | $p_{v = 0}$ |\n",
    "|---|---|---|\n",
    "| سیگنال توان | $p_{v < \\infty}$ | $E_{v = \\infty}$ |\n"
   ]
  },
  {
   "cell_type": "markdown",
   "id": "d0b6b880",
   "metadata": {},
   "source": [
    "چند نمونه از سیگنال های توان و انرژی در جدول زیر آورده شده است :"
   ]
  },
  {
   "cell_type": "markdown",
   "id": "a1ae51a4",
   "metadata": {},
   "source": [
    "<table style=\"font-size: 20px;\">\n",
    "    <tr>\n",
    "        <th>| رابطه سیگنال</th>\n",
    "        <th> نوع سیگنال</th>\n",
    "        <th>توان </th>\n",
    "        <th>انرژی </th>\n",
    "    </tr>\n",
    "    <tr>\n",
    "        <td>$e^{-\\frac{t}{\\tau}}$</td>\n",
    "        <td>انرژی</td>\n",
    "        <td>0</td>\n",
    "        <td>$\\frac{A^2}{\\tau}$</td>\n",
    "    </tr>\n",
    "    <tr>\n",
    "        <td>Au(t)</td>\n",
    "        <td>انرژی</td>\n",
    "        <td>0</td>\n",
    "        <td>$A^2 \\cdot \\tau$</td>\n",
    "    </tr>\n",
    "    <tr>\n",
    "        <td>Acos(t)</td>\n",
    "        <td>توان</td>\n",
    "        <td>$\\frac{A^2}{2}$</td>\n",
    "        <td>$$ \\infty $$</td>\n",
    "    </tr>\n",
    "    <tr>\n",
    "        <td>A</td>\n",
    "        <td>توان</td>\n",
    "        <td> $\\ A^2 $ </td>\n",
    "        <td>$$ \\infty $$</td>\n",
    "    </tr>\n",
    "    <tr>\n",
    "        <td>َAtu(t)</td>\n",
    "        <td>نه انرژی نه توان</td>\n",
    "        <td>$$ \\infty $$</td>\n",
    "        <td>$$ \\infty $$</td>\n",
    "    </tr>\n",
    "</table>\n"
   ]
  },
  {
   "cell_type": "markdown",
   "id": "46e3b386",
   "metadata": {},
   "source": [
    "#### به بررسی چند نمونه از سیگنال ها به همراه کدهای آنها در پایتون میپردازیم :"
   ]
  },
  {
   "cell_type": "markdown",
   "id": "ee69f7f5",
   "metadata": {},
   "source": [
    "$$x(t) = A \\sum_{n=-\\infty}^{\\infty} [u(t - nT) - u(t - nT - \\tau)]\n",
    ")\n",
    "$$"
   ]
  },
  {
   "cell_type": "markdown",
   "id": "743148dd",
   "metadata": {},
   "source": [
    "برای رسم سیگنال قطار پله (Stair Signal) در پایتون، می‌توانید از کتابخانه‌های matplotlib و numpy استفاده کنید. در این مثال، ما یک سیگنال ساده پله‌ای را ایجاد خواهیم کرد:"
   ]
  },
  {
   "cell_type": "code",
   "execution_count": 1,
   "id": "416ece25",
   "metadata": {},
   "outputs": [
    {
     "data": {
      "image/png": "[encoded data removed]",
      "text/plain": [
       "<Figure size 640x480 with 1 Axes>"
      ]
     },
     "metadata": {},
     "output_type": "display_data"
    }
   ],
   "source": [
    "# \n",
    "import numpy as np\n",
    "import matplotlib.pyplot as plt\n",
    "\n",
    "# تنظیمات سیگنال\n",
    "x = np.arange(0, 10, 0.1)\n",
    "y = np.floor(x)  # ایجاد سیگنال پله‌ای\n",
    "\n",
    "# رسم سیگنال\n",
    "plt.step(x, y, where='post', label='Stair Signal', color='blue')\n",
    "plt.title('Stair Signal')\n",
    "plt.xlabel('Time')\n",
    "plt.ylabel('Signal Level')\n",
    "plt.grid(True)\n",
    "plt.legend()\n",
    "plt.ylim(-1, 10)\n",
    "plt.xlim(0, 10)\n",
    "plt.show()\n"
   ]
  },
  {
   "cell_type": "markdown",
   "id": "1efe298e",
   "metadata": {},
   "source": [
    "$$\\delta[n] =\n",
    "\\begin{cases}\n",
    "  1, & n = 0 \\\\\n",
    "  0, & n \\neq 0\n",
    "\\end{cases}\n",
    "$$"
   ]
  },
  {
   "cell_type": "markdown",
   "id": "92153ded",
   "metadata": {},
   "source": [
    "برای رسم سیگنال ضربه‌ای (Impulse Signal) در پایتون، می‌توانید از کتابخانه‌های matplotlib و numpy استفاده کنید. در اینجا یک نمونه کد برای ایجاد و رسم سیگنال ضربه‌ای آورده شده است"
   ]
  },
  {
   "cell_type": "code",
   "execution_count": 2,
   "id": "55962e23",
   "metadata": {},
   "outputs": [
    {
     "name": "stderr",
     "output_type": "stream",
     "text": [
      "C:\\Users\\NoteBook\\AppData\\Local\\Temp\\ipykernel_17048\\3890766497.py:10: MatplotlibDeprecationWarning: The 'use_line_collection' parameter of stem() was deprecated in Matplotlib 3.6 and will be removed two minor releases later. If any parameter follows 'use_line_collection', they should be passed as keyword, not positionally.\n",
      "  plt.stem(n, impulse_signal, basefmt=\" \", use_line_collection=True)\n"
     ]
    },
    {
     "data": {
      "image/png": "[encoded data removed]",
      "text/plain": [
       "<Figure size 640x480 with 1 Axes>"
      ]
     },
     "metadata": {},
     "output_type": "display_data"
    }
   ],
   "source": [
    "import numpy as np\n",
    "import matplotlib.pyplot as plt\n",
    "\n",
    "# تنظیمات سیگنال\n",
    "n = np.arange(0, 20)  # محور زمان\n",
    "impulse_signal = np.zeros_like(n)  # ایجاد آرایه با صفر\n",
    "impulse_signal[10] = 1  # ایجاد سیگنال ضربه‌ای در نقطه n=10\n",
    "\n",
    "# رسم سیگنال ضربه‌ای\n",
    "plt.stem(n, impulse_signal, basefmt=\" \", use_line_collection=True)\n",
    "plt.title('Impulse Signal')\n",
    "plt.xlabel('n (Time index)')\n",
    "plt.ylabel('Amplitude')\n",
    "plt.ylim(-0.5, 1.5)\n",
    "plt.grid(True)\n",
    "plt.show()\n"
   ]
  }
 ],
 "metadata": {
  "direction": "rtl",
  "kernelspec": {
   "display_name": "Python 3 (ipykernel)",
   "language": "python",
   "name": "python3"
  },
  "language_info": {
   "codemirror_mode": {
    "name": "ipython",
    "version": 3
   },
   "file_extension": ".py",
   "mimetype": "text/x-python",
   "name": "python",
   "nbconvert_exporter": "python",
   "pygments_lexer": "ipython3",
   "version": "3.11.4"
  }
 },
 "nbformat": 4,
 "nbformat_minor": 5
}
