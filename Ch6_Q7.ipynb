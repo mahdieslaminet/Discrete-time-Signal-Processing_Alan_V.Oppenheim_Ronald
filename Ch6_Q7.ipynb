{
  "nbformat": 4,
  "nbformat_minor": 0,
  "metadata": {
    "colab": {
      "provenance": []
    },
    "kernelspec": {
      "name": "python3",
      "display_name": "Python 3"
    },
    "language_info": {
      "name": "python"
    }
  },
  "cells": [
    {
      "cell_type": "markdown",
      "source": [
        "### سوال 1:\n",
        "\n",
        "اگر سیگنال \\( x(t) = e^{-3t} u(t) \\) داده شده باشد، تبدیل لاپلاس آن را محاسبه کنید.\n"
      ],
      "metadata": {
        "id": "rkG3RD9BndJL"
      }
    },
    {
      "cell_type": "code",
      "execution_count": 2,
      "metadata": {
        "colab": {
          "base_uri": "https://localhost:8080/",
          "height": 52
        },
        "id": "hN6jHtu1mTzq",
        "outputId": "c768888b-8a9b-492b-cf95-a0999f319a47"
      },
      "outputs": [
        {
          "output_type": "execute_result",
          "data": {
            "text/plain": [
              "1/(s + 3)"
            ],
            "text/latex": "$\\displaystyle \\frac{1}{s + 3}$"
          },
          "metadata": {},
          "execution_count": 2
        }
      ],
      "source": [
        "from sympy import symbols, exp, laplace_transform\n",
        "from sympy.abc import s\n",
        "\n",
        "t = symbols('t')\n",
        "x = exp(-3*t)\n",
        "X_s = laplace_transform(x, t, s, noconds=True)\n",
        "X_s\n"
      ]
    },
    {
      "cell_type": "markdown",
      "source": [
        "### سوال 2:\n",
        "\n",
        "اگر سیگنال \\( x(t) = t^2 e^{4t} u(t) \\) داده شده باشد، تبدیل لاپلاس آن را محاسبه کرده و \\( X(s) \\) را بیابید.\n"
      ],
      "metadata": {
        "id": "9u3eRuBJniLC"
      }
    },
    {
      "cell_type": "code",
      "source": [
        "from sympy import symbols, exp, laplace_transform\n",
        "from sympy.abc import s\n",
        "\n",
        "t = symbols('t')\n",
        "x = t**2 * exp(4*t)\n",
        "X_s = laplace_transform(x, t, s, noconds=True)\n",
        "X_s\n"
      ],
      "metadata": {
        "colab": {
          "base_uri": "https://localhost:8080/",
          "height": 58
        },
        "id": "zFZVWIognkt0",
        "outputId": "4f5527e0-d507-4f10-8d73-8fddda0d8028"
      },
      "execution_count": 3,
      "outputs": [
        {
          "output_type": "execute_result",
          "data": {
            "text/plain": [
              "2/(s - 4)**3"
            ],
            "text/latex": "$\\displaystyle \\frac{2}{\\left(s - 4\\right)^{3}}$"
          },
          "metadata": {},
          "execution_count": 3
        }
      ]
    },
    {
      "cell_type": "markdown",
      "source": [
        "### سوال 3:\n",
        "\n",
        "تبدیل لاپلاس سیگنال \\( x(t) = \\cos(2t) u(t) \\) را بیابید.\n"
      ],
      "metadata": {
        "id": "N0NDhyG_nm6Y"
      }
    },
    {
      "cell_type": "code",
      "source": [
        "from sympy import symbols, cos, laplace_transform\n",
        "from sympy.abc import s\n",
        "\n",
        "t = symbols('t')\n",
        "x = cos(2*t)\n",
        "X_s = laplace_transform(x, t, s, noconds=True)\n",
        "X_s\n"
      ],
      "metadata": {
        "colab": {
          "base_uri": "https://localhost:8080/",
          "height": 49
        },
        "id": "L-Ymc36BnpkS",
        "outputId": "65cc7dc5-d672-4ce9-fc59-5eef81f50239"
      },
      "execution_count": 4,
      "outputs": [
        {
          "output_type": "execute_result",
          "data": {
            "text/plain": [
              "s/(s**2 + 4)"
            ],
            "text/latex": "$\\displaystyle \\frac{s}{s^{2} + 4}$"
          },
          "metadata": {},
          "execution_count": 4
        }
      ]
    },
    {
      "cell_type": "markdown",
      "source": [
        "### سوال 4:\n",
        "\n",
        "اگر سیگنال \\( x(t) = t \\cos(2t) \\) باشد، تبدیل لاپلاس آن را محاسبه کنید.\n"
      ],
      "metadata": {
        "id": "mrWX5t-xnr6j"
      }
    },
    {
      "cell_type": "code",
      "source": [
        "from sympy import symbols, cos, laplace_transform\n",
        "from sympy.abc import s\n",
        "\n",
        "t = symbols('t')\n",
        "x = t * cos(2*t)\n",
        "X_s = laplace_transform(x, t, s, noconds=True)\n",
        "X_s\n"
      ],
      "metadata": {
        "colab": {
          "base_uri": "https://localhost:8080/",
          "height": 58
        },
        "id": "hAYNex_5nt33",
        "outputId": "e6b46c7a-c2ca-4a75-a5f2-ca0d8c31e411"
      },
      "execution_count": 5,
      "outputs": [
        {
          "output_type": "execute_result",
          "data": {
            "text/plain": [
              "1/(2*(s + 2*I)**2) + 1/(2*(s - 2*I)**2)"
            ],
            "text/latex": "$\\displaystyle \\frac{1}{2 \\left(s + 2 i\\right)^{2}} + \\frac{1}{2 \\left(s - 2 i\\right)^{2}}$"
          },
          "metadata": {},
          "execution_count": 5
        }
      ]
    },
    {
      "cell_type": "markdown",
      "source": [
        "### سوال 5:\n",
        "\n",
        "تبدیل لاپلاس سیگنال \\( x(t) = e^{-t} \\sin(3t) u(t) \\) را بدست آورید.\n"
      ],
      "metadata": {
        "id": "s8GuN2mqnw56"
      }
    },
    {
      "cell_type": "code",
      "source": [
        "from sympy import symbols, sin, exp, laplace_transform\n",
        "from sympy.abc import s\n",
        "\n",
        "t = symbols('t')\n",
        "x = exp(-t) * sin(3*t)\n",
        "X_s = laplace_transform(x, t, s, noconds=True)\n",
        "X_s\n"
      ],
      "metadata": {
        "colab": {
          "base_uri": "https://localhost:8080/",
          "height": 58
        },
        "id": "WMqspUVAn00q",
        "outputId": "10e38794-907b-4e15-856e-f461ef0d5f9a"
      },
      "execution_count": 6,
      "outputs": [
        {
          "output_type": "execute_result",
          "data": {
            "text/plain": [
              "3/((s + 1)**2 + 9)"
            ],
            "text/latex": "$\\displaystyle \\frac{3}{\\left(s + 1\\right)^{2} + 9}$"
          },
          "metadata": {},
          "execution_count": 6
        }
      ]
    }
  ]
}