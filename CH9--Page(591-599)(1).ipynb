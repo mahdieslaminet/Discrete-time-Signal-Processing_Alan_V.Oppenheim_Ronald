{
 "cells": [
  {
   "cell_type": "markdown",
   "metadata": {},
   "source": [
    "<div dir=\"rtl\">\n",
    "**مقدمه 9.0**\n",
    "\n",
    "در فصل‌های پیشین، دیدیم که ابزارهای تحلیل فوریه در مطالعه بسیاری از مسائل عملی که شامل سیگنال‌ها و سیستم‌های LTI (خطی و زمان‌Invariant) هستند، بسیار مفید می‌باشند. این امر به طور عمده به این دلیل است که کلاس‌های وسیعی از سیگنال‌ها می‌توانند به صورت ترکیب‌های خطی از نماهای پیچیده دوره‌ای نمایش داده شوند و نماهای پیچیده ویژگی‌های ویژه سیستم‌های LTI هستند. تبدیل فوریه زمان پیوسته به ما این امکان را می‌دهد که سیگنال‌ها را به صورت ترکیب‌های خطی از نماهای پیچیده‌ای به شکل $$( e^{st} )$$ با $$( s = jw )$$ نمایش دهیم. با این حال، ویژگی ویژه‌ای که در بخش 3.2 معرفی شد و بسیاری از پیامدهای آن، به طور کلی برای مقادیر دلخواه \\( s ) نیز اعمال می‌شود و نه فقط مقادیر موهومی خالص. این مشاهده منجر به تعمیم تبدیل فوریه زمان پیوسته می‌شود که به نام تبدیل لاپلاس شناخته می‌شود و در این فصل توسعه می‌دهیم. در فصل بعد، تعمیم متناظر زمانی گسسته آن که به نام تبدیل z شناخته می‌شود را توسعه خواهیم داد.\n",
    "\n",
    "همانطور که خواهیم دید، تبدیل‌های لاپلاس و z بسیاری از ویژگی‌هایی را دارند که تحلیل فوریه را به ابزاری بسیار مفید تبدیل کرده است. علاوه بر این، این تبدیل‌ها نه تنها ابزارهای اضافی و بینش‌هایی برای سیگنال‌ها و سیستم‌هایی که می‌توانند با استفاده از تبدیل فوریه تحلیل شوند، فراهم می‌آورند، بلکه می‌توانند در برخی زمینه‌های بسیار مهم که تبدیل فوریه نمی‌تواند به کار گرفته شود، نیز کاربرد داشته باشند. به عنوان مثال، تبدیل‌های لاپلاس و z می‌توانند برای تحلیل بسیاری از سیستم‌های ناپایدار به کار روند و بنابراین نقش مهمی در بررسی پایداری یا ناپایداری سیستم‌ها ایفا می‌کنند. این واقعیت، به همراه ویژگی‌های جبری که تبدیل‌های لاپلاس و z با تبدیل فوریه مشترک دارند، مجموعه‌ای از ابزارهای بسیار مهم برای تحلیل سیستم‌ها و به ویژه برای تحلیل سیستم‌های بازخورد که در فصل 11 توسعه خواهیم داد، به وجود می‌آورد.\n",
    "\n",
    "---\n",
    "\n",
    "**بخش 9.1: تبدیل لاپلاس**\n",
    "\n",
    "در فصل 3، دیدیم که پاسخ یک سیستم LTI با پاسخ ضربه \\( h(t) \\) به ورودی نمایی پیچیده به شکل $$( e^{st} )$$ به صورت زیر است:\n",
    "\n",
    "$$\n",
    "y(t) = H(s) e^{st}, \\quad \\text{معادله} \\, (9.1)\n",
    "$$\n",
    "\n",
    "که در آن:\n",
    "\n",
    "$$\n",
    "H(s) = \\int_0^\\infty h(t) e^{-st} dt, \\quad \\text{معادله} \\, (9.2)\n",
    "$$\n",
    "\n",
    "برای \\( s \\) موهومی (یعنی \\( s = jw \\))، انتگرال در معادله (9.2) به تبدیل فوریه \\( h(t) \\) مربوط می‌شود. برای مقادیر عمومی متغیرهای پیچیده، این تبدیل به نام تبدیل لاپلاس پاسخ ضربه \\( h(t) \\) شناخته می‌شود.\n",
    "\n",
    "تبدیل لاپلاس یک سیگنال عمومی \\( x(t) \\) به صورت زیر تعریف می‌شود:\n",
    "\n",
    "$$\n",
    "X(s) = \\int_{-\\infty}^{\\infty} x(t) e^{-st} dt, \\quad \\text{معادله} \\, (9.3)\n",
    "$$\n",
    "\n",
    "و توجه داشته باشید که به طور خاص این تبدیل تابعی از متغیر مستقل \\( s \\) است که مربوط به متغیر پیچیده در نمای $$( e^{-st} )$$ است. متغیرهای پیچیده را می‌توان به صورت $$( s = sigma + jw )$$ نوشت، به طوری که \\( sigma ) و \\( w \\) به ترتیب بخش‌های حقیقی و موهومی آن هستند. برای راحتی، گاهی اوقات تبدیل لاپلاس را به صورت عملگری $$( \\mathcal{C} \\{x(t)\\} )$$ نمایش می‌دهیم و رابطه تبدیل بین \\( x(t) \\) و \\( X(s) \\) را به صورت زیر می‌نویسیم:\n",
    "\n",
    "$$\n",
    "\\mathcal{C} \\{ x(t) \\} = X(s), \\quad \\text{معادله} \\, (9.4)\n",
    "$$\n",
    "\n",
    "وقتی \\( s = jw \\)، معادله (9.3) به صورت زیر در می‌آید:\n",
    "\n",
    "$$\n",
    "X(jw) = \\int_{-\\infty}^{\\infty} x(t) e^{-jwt} dt, \\quad \\text{معادله} \\, (9.5)\n",
    "$$\n",
    "\n",
    "که معادل تبدیل فوریه \\( x(t) \\) است؛ یعنی:\n",
    "\n",
    "$$\n",
    "X(s)|_{s=jw} = \\mathcal{F} \\{x(t)\\}, \\quad \\text{معادله} \\, (9.6)\n",
    "$$\n",
    "\n"
   ]
  },
  {
   "cell_type": "markdown",
   "metadata": {},
   "source": [
    "در حالتی که متغیر مختلط  s نه حقیقی است و نه موهومی خالص، باز هم تبدیل لاپلاس با تبدیل فوریه رابطه دارد.\n",
    "\n",
    "برای پی بردن به این رابطه،  X(s) را مطابق معادله (9.3) فرض کنید و با قرار دادن  s = jω به دست آورید."
   ]
  },
  {
   "cell_type": "markdown",
   "metadata": {},
   "source": [
    "$$\n",
    "X(\\sigma+j\\omega)=\\int_{-\\infty}^{+\\infty}x(t)e^{-(\\sigma+j\\omega)t}d~t \\qquad (9.7)\n",
    "$$"
   ]
  },
  {
   "cell_type": "markdown",
   "metadata": {},
   "source": [
    "یا"
   ]
  },
  {
   "cell_type": "markdown",
   "metadata": {},
   "source": [
    "$$\n",
    "X(\\sigma+j\\omega)=\\int_{-\\infty}^{+\\infty}[x(t)e^{-\\sigma t}]e^{-j\\omega t}d~t \\qquad (9.8)\n",
    "$$"
   ]
  },
  {
   "cell_type": "markdown",
   "metadata": {},
   "source": [
    "سمت راست معادله (9.8) تبدیل فوریه عبارت زیر است  \n",
    "$$\n",
    "x(t)e^{-\\sigma t}\n",
    "$$\n",
    "یعنی تبدیل لاپلاس سیگنال فوق را میتوان تبدیل فوریه حاصل ضرب سیگنال فوق در یک سیگنال نمایی حقیقی دانست.تابع نمایی زیر میتواند بسته به مثبت یا منفی بودن سیگما،کاهشی یا افزایشی باشد.\n",
    " $$\n",
    "e^{-\\sigma t}\n",
    "$$"
   ]
  },
  {
   "cell_type": "markdown",
   "metadata": {},
   "source": [
    "مثال9.1\n",
    "\n",
    "سیگنال زیر را در نظر بگیرید \n",
    "$$\n",
    "x(t) = e^{at}u(t)\n",
    "$$ \n",
    "\n",
    "   از مثال 1.4 می‌دانیم که تبدیل فوریه X(jω) به ازای a>۰ همگرا و به صورت زیرست:"
   ]
  },
  {
   "cell_type": "markdown",
   "metadata": {},
   "source": [
    "$$\n",
    "X(j\\omega)=\\int_{-\\infty}^{+\\infty}e^{-at}u(t)e^{-j\\omega t}d~t=\\int_{0}^{+\\infty}e^{-at}e^{-j\\omega t}d~t=\\frac{1}{j\\omega+a},a>0 \\qquad (9.9)\n",
    "$$"
   ]
  },
  {
   "cell_type": "markdown",
   "metadata": {},
   "source": [
    "و با توجه به 9.3 تبدیل لاپلاس عبارت است از"
   ]
  },
  {
   "cell_type": "markdown",
   "metadata": {},
   "source": [
    "$$\n",
    "X(j\\omega)=\\int_{-\\infty}^{+\\infty}e^{-at}e^{-st}u(t)dt=\\int_{0}^{+\\infty}e^{-(s+a)t}dt \\qquad (9.10)\n",
    "$$"
   ]
  },
  {
   "cell_type": "markdown",
   "metadata": {},
   "source": [
    "و به ازای $$\n",
    "s = \\sigma + j\\omega\n",
    "$$\n",
    "خواهیم داشت\n"
   ]
  },
  {
   "cell_type": "markdown",
   "metadata": {},
   "source": [
    "$$\n",
    "X(\\sigma+j\\omega)=\\int_{0}^{+\\infty}e^{-(\\sigma+a)t}e^{-j\\omega t}dt \\qquad (9.11)\n",
    "$$"
   ]
  },
  {
   "cell_type": "markdown",
   "metadata": {},
   "source": [
    "مقایسه با معادله 9.9 نشان میدهد که معدله 9.11 تبدیل فوریه عبارت فوق است پس"
   ]
  },
  {
   "cell_type": "markdown",
   "metadata": {},
   "source": [
    "$$\n",
    "X(\\sigma+j\\omega)=\\frac{1}{(\\sigma+a)+j\\omega},\\sigma+a>1 \\qquad (9.12)\n",
    "$$"
   ]
  },
  {
   "cell_type": "markdown",
   "metadata": {},
   "source": [
    "وچون\n",
    "$$\n",
    "\\sigma = \\Re\\{s\\} \\quad \\text{و} \\quad s = \\sigma + j\\omega\n",
    "$$\n",
    "پس"
   ]
  },
  {
   "cell_type": "markdown",
   "metadata": {},
   "source": [
    "$$\n",
    "X(s)=\\frac{1}{s+a}, \\Re\\{s\\}>-a   (9.13)\n",
    "$$"
   ]
  },
  {
   "cell_type": "markdown",
   "metadata": {},
   "source": [
    "یعنی"
   ]
  },
  {
   "cell_type": "markdown",
   "metadata": {},
   "source": [
    "$$\n",
    "e^{-at}u(t) \\stackrel{\\mathcal{L}}{\\longleftrightarrow} \\frac{1}{s+a}, \\Re\\{s\\} > -a   (9.14)\n",
    "$$"
   ]
  },
  {
   "cell_type": "markdown",
   "metadata": {},
   "source": [
    "مثلا به ازایx(t)،a=0تابع پله واحد،با تبدیل لاپلاس Real{s}>0،X(S)=1/S است"
   ]
  },
  {
   "cell_type": "markdown",
   "metadata": {},
   "source": [
    "تذکر می‌دهیم که همان گونه که تبدیل فوریه همه سیگنال‌ها همگرا نیست، تبدیل لاپلاس نیز می‌تواند به ازای بعضی مقادیر ℜ{s} همگرا باشد و به ازای بعضی مقادیر دیگر نه. تبدیل لاپلاس معادله (9.13) تنها به ازای ℜ{s}>−a همگراست. اگر a مثبت باشد، می‌توان X(s) را در s=0 محاسبه کرد و به دست آورد:"
   ]
  },
  {
   "cell_type": "markdown",
   "metadata": {},
   "source": [
    "$$\n",
    "X(\\sigma+j\\omega)=\\frac{1}{j\\omega+a}\n",
    "(9.15)\n",
    "$$"
   ]
  },
  {
   "cell_type": "markdown",
   "metadata": {},
   "source": [
    "چنان که معادله 9.6 نشان میدهد، به ازای سیگمای صفر،تبدیل لاپلاس با تبدیل فوریه برابر است و مقایسه معادله های 9.9 و 9.15 درستی این مطلب را در مورد این مثال به وضوح نشان میدهد. اگر منفی یا صفر باشد تبدیل لاپلاس وجود دارد ولی دیگر تبدیل فوریه وجود ندارد."
   ]
  },
  {
   "cell_type": "markdown",
   "metadata": {},
   "source": [
    "\n",
    "### مثال 9.2\n",
    "\n",
    "برای مقایسه با مثال 9.1، به عنوان مثال دوم سیگنال زیر را در نظر می‌گیریم:\n",
    "\n",
    "$$\n",
    "x(t) = -e^{-at} u(-t)\n",
    "$$\n",
    "\n",
    "بنابراین:\n",
    "\n",
    "$$\n",
    "X(s) = - \\int_{-\\infty}^{\\infty} e^{-at} e^{-st} u(-t) dt = - \\int_{-\\infty}^{\\infty} e^{-(s + a)t} dt, (9.17)\n",
    "$$\n",
    "\n",
    "یا\n",
    "\n",
    "$$\n",
    "X(s) = \\frac{-1}{s + a}, \\quad \\text{معادله} \\, (9.18)\n",
    "$$\n",
    "\n",
    "برای همگرایی در این مثال، نیاز داریم که\n",
    "$$\n",
    "\\Re\\{s\\}<-a \\quad \\text{یا} \\quad \\Re\\{s+a\\}<0\n",
    "$$\n",
    " یعنی:\n",
    "\n",
    "$$\n",
    "X(s) = \\frac{-1}{s + a}, \\quad \\text{Re}(s) < -a, \\quad \\text{معادله} \\, (9.19)\n",
    "$$\n",
    "\n",
    "\n"
   ]
  },
  {
   "cell_type": "markdown",
   "metadata": {},
   "source": [
    "با مقایسه معادلات 9.14و9.19 نشان میدهد که عبارت جبری به دست امده برای تبدیل لاپلاس در هر دو مثال قبلی یکسان است،ولی همین معادلات نشان میدهند که در این دو مثال مجموعه مقادیر اس که عبارت تبدیل به ازای انها معتبر است،بسیار متفاوت اند.این مطلب نشان میدهد که در مشخص کردن تبدیل لاپلاس یک سیگنال،هم عبارت جبری تبدیل و هم گستره مقادیر اس برای ان عبارت لازم است. در حالت کلی پستره مقادیری که به ازای ان انتگرال معادله9.3 همگرا است،ناحیه همگرایی تبدیل لاپلاس نامیده می شود"
   ]
  },
  {
   "cell_type": "markdown",
   "metadata": {},
   "source": [
    "نمایش منطقه همگرایی "
   ]
  },
  {
   "cell_type": "markdown",
   "metadata": {},
   "source": [
    "یک روش راحت برای نمایش منطقه همگرایی در شکل 9.1 نشان داده شده است. متغیر ( s ) یک عدد مختلط است و در این شکل، صفحه مختلط یا همان صفحه ( s )-plane\n",
    "نشان داده شده است. محور افقی $$( \\text{Re}(s) )$$ و محور عمودی $$( \\text{Im}(s) )$$ است. این محورها گاهی به عنوان محور \\( sigma \\) و محور \\( j\\omega \\) شناخته می‌شوند. ناحیه سایه‌دار در شکل 9.1 (الف) مجموعه نقاط در صفحه \\( s \\)-plane را نشان می‌دهد که به منطقه همگرایی برای مثال 9.1 مربوط می‌شود. ناحیه سایه‌دار در شکل 9.1 (ب) منطقه همگرایی برای مثال 9.2 را نشان می‌دهد."
   ]
  },
  {
   "cell_type": "code",
   "execution_count": 9,
   "metadata": {},
   "outputs": [
    {
     "data": {
      "image/png": "[encoded data removed]",
      "text/plain": [
       "<Figure size 720x360 with 2 Axes>"
      ]
     },
     "metadata": {
      "needs_background": "light"
     },
     "output_type": "display_data"
    }
   ],
   "source": [
    "import matplotlib.pyplot as plt\n",
    "import numpy as np\n",
    "\n",
    "# Create the figure and axes for the two subplots\n",
    "fig, axes = plt.subplots(1, 2, figsize=(10, 5))\n",
    "\n",
    "# Define the parameters for the plots\n",
    "a = -1\n",
    "x = np.linspace(-2, 2, 400)\n",
    "y = np.linspace(-2, 2, 400)\n",
    "\n",
    "# Plot (a)\n",
    "axes[0].axvline(x=a, color='black', linestyle='--')  # Dashed vertical line at -a\n",
    "axes[0].axhline(y=0, color='black', linestyle='-')   # Real axis\n",
    "axes[0].axvline(x=0, color='black', linestyle='-')   # Imaginary axis\n",
    "axes[0].set_xlim(-2, 2)\n",
    "axes[0].set_ylim(-2, 2)\n",
    "axes[0].set_title(\"(a)\")\n",
    "axes[0].set_xlabel(\"Re\")\n",
    "axes[0].set_ylabel(\"Im\")\n",
    "axes[0].grid(False)\n",
    "\n",
    "# Plot (b)\n",
    "axes[1].axvline(x=a, color='black', linestyle='--')  # Dashed vertical line at -a\n",
    "axes[1].axhline(y=0, color='black', linestyle='-')   # Real axis\n",
    "axes[1].axvline(x=0, color='black', linestyle='-')   # Imaginary axis\n",
    "axes[1].set_xlim(-2, 2)\n",
    "axes[1].set_ylim(-2, 2)\n",
    "axes[1].set_title(\"(b)\")\n",
    "axes[1].set_xlabel(\"Re\")\n",
    "axes[1].set_ylabel(\"Im\")\n",
    "axes[1].grid(False)\n",
    "\n",
    "# Set the overall layout and show the plots\n",
    "plt.tight_layout()\n",
    "plt.show()\n"
   ]
  },
  {
   "cell_type": "markdown",
   "metadata": {},
   "source": [
    "<div style=\"display: flex; justify-content: space-between;\">\n",
    "    <div style=\"width: 48%; text-align: center;\">\n",
    "        <img src=\"your_image_path_1.jpg\" alt=\"شکل 9-1 (الف)\" style=\"width: 100%;\">\n",
    "        <p>شکل ۹-۱ (الف) ROC مثال ۱-۹</p>\n",
    "    </div>\n",
    "    <div style=\"width: 48%; text-align: center;\">\n",
    "        <img src=\"your_image_path_2.jpg\" alt=\"شکل 9-1 (ب)\" style=\"width: 100%;\">\n",
    "        <p>شکل ۹-۱ (ب) ROC مثال ۲-۹</p>\n",
    "    </div>\n",
    "</div>\n",
    "\n",
    "<p style=\"text-align: center;\">صفحه S</p>"
   ]
  },
  {
   "cell_type": "markdown",
   "metadata": {},
   "source": [
    "مثال9.3\n",
    "در این مثال سیگنالی را در نظر میگیریم که حاصل جمع دو سیگنال نمایی حقیقی است.\n"
   ]
  },
  {
   "cell_type": "markdown",
   "metadata": {},
   "source": [
    "$$\n",
    "x(t)=3e^{-2t}u(t)-2e^{-t}u(t) \\qquad (9.20)\n",
    "$$"
   ]
  },
  {
   "cell_type": "markdown",
   "metadata": {},
   "source": [
    "عبارت جبری تبدیل لاپلاس به صورت زیر بدست می اید."
   ]
  },
  {
   "cell_type": "markdown",
   "metadata": {},
   "source": [
    "$$\n",
    "\\begin{aligned}\n",
    "X(s)&=\\int_{-\\infty}^{+\\infty}\\left[3e^{-2t}u(t)-2e^{-t}u(t)\\right]e^{-st}dt\\\\\n",
    "&=3\\int_{-\\infty}^{+\\infty}e^{-2t}e^{-st}u(t)dt-2\\int_{-\\infty}^{+\\infty}e^{-t}u(t)e^{-st}dt\n",
    "\\end{aligned}\n",
    "$$\n",
    "(9.21)"
   ]
  },
  {
   "cell_type": "markdown",
   "metadata": {},
   "source": [
    "انتگرالهای معادله بالا به شکل انتگرال معادله 9.10  است و در نتیجه میتوانیم نتیجه مثال 1 را به کار برده، بدست اوریم:"
   ]
  },
  {
   "cell_type": "markdown",
   "metadata": {},
   "source": [
    "$$\n",
    "X(s)=\\frac{3}{s+2}-\\frac{2}{s+1} (9.22)\n",
    "$$"
   ]
  },
  {
   "cell_type": "markdown",
   "metadata": {},
   "source": [
    "برای تایین ناحیه همگرایی توجه کنید که این مثال مجموع دو نمایی حقیقی است و مطابق معادله 9.21 تبدیل لاپلاس ،مجموع تبدیل لاپلاس دو جمله است."
   ]
  },
  {
   "cell_type": "markdown",
   "metadata": {},
   "source": [
    "جمله اول تبدیل لاپلاس :\n",
    "$$\n",
    "3e^{-2t}u(t)\n",
    "$$\n",
    "و جمله دوم تبدیل لاپلاس\n",
    "$$\n",
    "-2e^{-t}u(t)\n",
    "$$\n",
    "است و از مثال 9.1 میدانیم\n"
   ]
  },
  {
   "cell_type": "markdown",
   "metadata": {},
   "source": [
    "$$\n",
    "\\begin{aligned}\n",
    "e^{-t}u(t) &\\stackrel{\\mathcal{L}}{\\longleftrightarrow} \\frac{1}{s+1}, \\Re\\{s\\} > -1 \\\\\n",
    "e^{-2t}u(t) &\\stackrel{\\mathcal{L}}{\\longleftrightarrow} \\frac{1}{s+2}, \\Re\\{s\\} > -2\n",
    "\\end{aligned}\n",
    "$$"
   ]
  },
  {
   "cell_type": "markdown",
   "metadata": {},
   "source": [
    ":بنابراین مجموعه مقادیری که به ازای انها تبدیل لاپلاس هر دو جمله همگرا هستند به صورت زیر است\n"
   ]
  },
  {
   "cell_type": "markdown",
   "metadata": {},
   "source": [
    "$$\n",
    " \\Re\\{s\\} > -1 \n",
    "$$\n",
    " :و با ترکیب دو جمله سمت راست معدله 9.21 بدست می اوریم\n",
    "\n"
   ]
  },
  {
   "cell_type": "markdown",
   "metadata": {},
   "source": [
    "$$\n",
    "3e^{-2t}u(t) - 2e^{-t}u(t) \\stackrel{\\mathcal{L}}{\\longleftrightarrow} \\frac{s-1}{s^2+3s+2}, \\Re\\{s\\} > -1 \\qquad (9.23)\n",
    "$$"
   ]
  },
  {
   "cell_type": "markdown",
   "metadata": {},
   "source": [
    "9.4مثال "
   ]
  },
  {
   "cell_type": "markdown",
   "metadata": {},
   "source": [
    ".در این مثال سیگنالی را در نظر میگیریم که مجموع یک نمایی حقیقی و یک نمایی مختلط است\n"
   ]
  },
  {
   "cell_type": "markdown",
   "metadata": {},
   "source": [
    "$$\n",
    "x(t) = e^{-2t}u(t) + e^{-t}(\\cos 3t)u(t) \\qquad (9.24)\n",
    "$$"
   ]
  },
  {
   "cell_type": "markdown",
   "metadata": {},
   "source": [
    "با استفاده از رابطه اویلر میتوان نوشت "
   ]
  },
  {
   "cell_type": "markdown",
   "metadata": {},
   "source": [
    "$$\n",
    "x(t) = \\left[ e^{-2t} + \\frac{1}{2}e^{-(1-3j)t} + \\frac{1}{2}e^{-(1+3j)t} \\right] u(t)\n",
    "$$\n",
    "و تبدیل لاپلاس ان به صورت زیر یافت شد:\n",
    "\n",
    "\n"
   ]
  },
  {
   "cell_type": "markdown",
   "metadata": {},
   "source": [
    "$$\n",
    "\\begin{aligned}\n",
    "X(s) &= \\int_{-\\infty}^{+\\infty} e^{-2t} u(t) e^{-st} dt \\\\\n",
    "&+ \\frac{1}{2} \\int_{-\\infty}^{+\\infty} e^{-(1-3j)t} u(t) e^{-st} dt \\qquad (25-9)\n",
    "\\end{aligned}\n",
    "$$\n",
    "$$\n",
    "+ \\frac{1}{2} \\int_{-\\infty}^{+\\infty} e^{-(1+3j)t} u(t) e^{-st} dt\n",
    "$$"
   ]
  },
  {
   "cell_type": "markdown",
   "metadata": {},
   "source": [
    "هریک از انتگرال های 9.25 تبدیل لاپلاسی از نوع تبدیل لاپلاس از مثال یک هستند.بنابراین:\n",
    "\n",
    "\n",
    "$$\n",
    "\\begin{aligned}\n",
    "e^{-2t}u(t) &\\stackrel{\\mathcal{L}}{\\longleftrightarrow} \\frac{1}{s+2}, \\Re\\{s\\} > -2 \\qquad (9.26) \\\\\n",
    "e^{-(1-3j)t}u(t) &\\stackrel{\\mathcal{L}}{\\longleftrightarrow} \\frac{1}{s+(1-3j)}, \\Re\\{s\\} > -1 \\qquad (9.27) \\\\\n",
    "e^{-(1+3j)t}u(t) &\\stackrel{\\mathcal{L}}{\\longleftrightarrow} \\frac{1}{s+(1+3j)}, \\Re\\{s\\} > -1 \\qquad (9.28)\n",
    "\\end{aligned}\n",
    "$$\n",
    "برای این که هر سه تبدیل لاپلاس همگرا باشد،باید داشته باشیم که \n",
    "$$\n",
    "\\Re\\{s\\} > -1\n",
    "$$\n",
    "پس تبدیل لاپلاس این مثال عبارت است از:\n",
    "$$\n",
    "\\frac{1}{s+2} + \\frac{1}{4} \\left( \\frac{1}{s+(1-3j)} \\right) + \\frac{1}{4} \\left( \\frac{1}{s+(1+3j)} \\right), \\Re\\{s\\} > -1 (9.29)\n",
    "$$\n",
    "و با گرفتن مخرج مشترک :\n",
    "$$\n",
    "e^{-2t}u(t) + e^{-t}(\\cos 3t)u(t) \\stackrel{\\mathcal{L}}{\\longleftrightarrow} \\frac{2s^2+5s+12}{(s^2+2s+10)(s+2)}, \\Re\\{s\\} > -1 \\qquad (9.30)\n",
    "$$"
   ]
  },
  {
   "cell_type": "markdown",
   "metadata": {},
   "source": [
    "در تمام چهار مثال قبل تبدیل لاپلاس گویاست،یعنی نسبت دو چندجمله ای از متغیر مختلط\n",
    "است،به نحوی که\n",
    "$$\n",
    "X(s) = \\frac{N(s)}{D(s)}  (9.31)\n",
    "$$"
   ]
  },
  {
   "cell_type": "markdown",
   "metadata": {},
   "source": [
    "که در ان \n",
    "$$\n",
    "D(s), N(s)\n",
    "$$\n",
    "به ترتیب چندجمله ای های صورت و مخرج هستند.\n",
    "چنانچه از مثال های قبلی اگر سیگنال ترکیب خطی توابع نمایی حقیقی یا مختلط باشد،تبدیل لاپلاس گویاست.چنان که در بخش 9.7 خواهیم دید تبدیل های گویا هنگام در نظر گرفتن سیستم های خطی تغییر ناپذیر با زمان مشخص شده با معادلات دیفرانسیل خطی دارای ضرایب ثابت نیز پیش می ایند.\n",
    "چندجمله ایهای صورت و مخرج تبدیل گویا را می توان با ریشه های انها مشخص کرد،البته بجز ضرایب ان را،بنابراین مشخص کردن محل ریشه های \n",
    "$$\n",
    "D(s), N(s)\n",
    "$$\n",
    "و ناحیه همگرایی در صفحه لاپلاس روش تصویری مناسبی برای توصیف تبدیل لاپلاس است. مثلا شکل 2 تبدیل لاپلاس مثال 3 را نشان میدهد.\n",
    "در این شکل محل هر ریشه چند جمله ای مخرج با علامت ضربدر و محل هر ریشه چند جمله ای صورت با دایره مشخص شده است.شکل2ب نیز محل ریشه های چندجمله ای صورت و مخرج تبدیل لاپلاس مثال 4 را نشان می دهد.در هر دو ناحیه همگرایی نیز مشخص شده است.\n",
    "در تبدیل لاپلاس های گویا،ریشه های چند جمله ای صورت را معمولا صفر می نامند،زیرا به ازای انها تبدیل لاپلاس مساوی صفر است.ریشه های چند جمله ای مخرج قطب نامیده می شود ،و به ازای انها تبدیل لاپلاس بی نهایت است."
   ]
  },
  {
   "cell_type": "markdown",
   "metadata": {},
   "source": [
    "<div style=\"display: flex; justify-content: center;\">\n",
    "  <div style=\"position: relative; width: 500px; height: 300px; border: 1px solid black;\">\n",
    "    <div style=\"position: absolute; top: 10px; left: 50%; transform: translateX(-50%);\">Im</div>\n",
    "    <div style=\"position: absolute; top: 50%; left: 10px; transform: translateY(-50%);\">Re</div>\n",
    "    <div style=\"position: absolute; top: 50%; left: 50%; transform: translate(-50%, -50%); width: 100%; height: 1px; background-color: black;\"></div>\n",
    "    <div style=\"position: absolute; top: 10px; left: 10px; height: 100%; width: 1px; background-color: black;\"></div>\n",
    "    <div style=\"position: absolute; top: 50%; left: 100px; transform: translateY(-50%); font-size: 20px;\">-2</div>\n",
    "    <div style=\"position: absolute; top: 50%; left: 150px; transform: translateY(-50%); font-size: 20px;\">-1</div>\n",
    "    <div style=\"position: absolute; top: 50%; left: 300px; transform: translateY(-50%); font-size: 20px;\">1</div>\n",
    "    <div style=\"position: absolute; top: 50%; left: 100px; transform: translate(-50%, -50%); font-size: 20px;\">×</div>\n",
    "    <div style=\"position: absolute; top: 50%; left: 150px; transform: translate(-50%, -50%); font-size: 20px;\">×</div>\n",
    "    <div style=\"position: absolute; top: 50%; left: 300px; transform: translate(-50%, -50%); font-size: 20px;\">○</div>\n",
    "    <div style=\"position: absolute; top: 0; left: 150px; height: 100%; width: 2px; background-color: lightgray; opacity: 0.7; border-left: 1px dashed black; border-right: 1px dashed black;\"></div>\n",
    "    <div style=\"position: absolute; bottom: 10px; left: 50%; transform: translateX(-50%);\"> (الف) </div>\n",
    "    <div style=\"position: absolute; top: 10px; right: 10px; transform: rotate(10deg); font-size: 14px;\">صفحه -S</div>\n",
    "  </div>\n",
    "</div>"
   ]
  },
  {
   "cell_type": "markdown",
   "metadata": {},
   "source": [
    "<div style=\"display: flex; justify-content: center;\">\n",
    "  <div style=\"position: relative; width: 500px; height: 300px; border: 1px solid black;\">\n",
    "    <div style=\"position: absolute; top: 10px; left: 50%; transform: translateX(-50%);\">Im</div>\n",
    "    <div style=\"position: absolute; top: 50%; left: 10px; transform: translateY(-50%);\">Re</div>\n",
    "    <div style=\"position: absolute; top: 50%; left: 50%; transform: translate(-50%, -50%); width: 100%; height: 1px; background-color: black;\"></div>\n",
    "    <div style=\"position: absolute; top: 10px; left: 10px; height: 100%; width: 1px; background-color: black;\"></div>\n",
    "    <div style=\"position: absolute; top: 50%; left: 100px; transform: translateY(-50%); font-size: 20px;\">-2</div>\n",
    "    <div style=\"position: absolute; top: 50%; left: 150px; transform: translateY(-50%); font-size: 20px;\">-1</div>\n",
    "    <div style=\"position: absolute; top: 25%; left: 150px; transform: translate(-50%, -50%); font-size: 20px;\">○</div>\n",
    "    <div style=\"position: absolute; top: 75%; left: 150px; transform: translate(-50%, -50%); font-size: 20px;\">×</div>\n",
    "    <div style=\"position: absolute; top: 25%; left: 100px; transform: translate(-50%, -50%); font-size: 20px;\">×</div>\n",
    "    <div style=\"position: absolute; top: 75%; left: 100px; transform: translate(-50%, -50%); font-size: 20px;\">○</div>\n",
    "    <div style=\"position: absolute; top: 0; left: 150px; height: 100%; width: 2px; background-color: lightgray; opacity: 0.7; border-left: 1px dashed black; border-right: 1px dashed black;\"></div>\n",
    "    <div style=\"position: absolute; top: 0; left: 150px; height: 100%; width: 200px; background-color: lightgray; opacity: 0.7;\"></div>\n",
    "    <div style=\"position: absolute; bottom: 10px; left: 50%; transform: translateX(-50%);\"> (ب) </div>\n",
    "    <div style=\"position: absolute; top: 10px; right: 10px; transform: rotate(10deg); font-size: 14px;\">صفحه -S</div>\n",
    "  </div>\n",
    "</div>"
   ]
  },
  {
   "cell_type": "markdown",
   "metadata": {},
   "source": [
    "شکل9.2\n",
    "نمایش تبدیل لاپلاس مثال های9.3 و 9.4\n"
   ]
  },
  {
   "cell_type": "markdown",
   "metadata": {},
   "source": [
    "مثال  9.5\n",
    "فرض کنید:\n",
    "$$\n",
    "x(t) = \\delta(t) - \\frac{4}{3}e^{-t}u(t) + \\frac{1}{3}e^{2t}u(t) \\qquad (9.32)\n",
    "$$\n",
    "تبدیل لاپلاس جملات دوم و سوم سمت راست معادله 9.32 را با توجه به مثال 9.1 بدست می اوریم.تبدیل لاپلاس ضربه واحد را می توان مستقیم به صورت زیر یافت\n",
    "$$\n",
    "\\mathcal{L}\\{\\delta(t)\\} = \\int_{-\\infty}^{+\\infty} \\delta(t) e^{-st} dt = 1 \\qquad (9.33)\n",
    "$$\n",
    "که به ازای هر مقدار(s) معتبر است "
   ]
  },
  {
   "cell_type": "markdown",
   "metadata": {},
   "source": [
    ".با توجه به این نتیجه و تبدیل لاپلاس دو جمله دیگر معادله 9.32 بدست می اوریم"
   ]
  },
  {
   "cell_type": "markdown",
   "metadata": {},
   "source": [
    "$$\n",
    "X(s) = 1 - \\frac{4}{3} \\frac{1}{s+1} + \\frac{1}{3} \\frac{1}{s-2}, \\Re\\{s\\} > 2 \\qquad (9.34)\n",
    "$$"
   ]
  },
  {
   "cell_type": "markdown",
   "metadata": {},
   "source": [
    "یا"
   ]
  },
  {
   "cell_type": "markdown",
   "metadata": {},
   "source": [
    "$$\n",
    "X(s) = \\frac{(s-1)^2}{(s+1)(s-2)}, \\Re\\{s\\} > 2 \\qquad (9.35)\n",
    "$$"
   ]
  },
  {
   "cell_type": "markdown",
   "metadata": {},
   "source": [
    "ROC"
   ]
  },
  {
   "cell_type": "markdown",
   "metadata": {},
   "source": [
    "مجموعه مقادیری است که به ازای انها تبدیل لاپلاس هرسه جمله همگر است.شکل 9.3 نمودار همگرایی را نشان می دهد. چون صورت و مخرج هم مرتبه اند،تبدیل لاپلاس در بینهایت نه صفر دارد نه قطب."
   ]
  },
  {
   "cell_type": "code",
   "execution_count": 10,
   "metadata": {},
   "outputs": [
    {
     "data": {
      "image/png": "[encoded data removed]",
      "text/plain": [
       "<Figure size 432x288 with 1 Axes>"
      ]
     },
     "metadata": {
      "needs_background": "light"
     },
     "output_type": "display_data"
    }
   ],
   "source": [
    "import matplotlib.pyplot as plt\n",
    "import numpy as np\n",
    "\n",
    "# Create a new figure\n",
    "fig, ax = plt.subplots()\n",
    "\n",
    "# Plot the poles and zeros\n",
    "poles = [-1, 2]\n",
    "zeros = [1,1]\n",
    "\n",
    "# Plot poles\n",
    "for pole in poles:\n",
    "    ax.plot(np.real(pole), np.imag(pole), 'rx', markersize=10, label='Pole')\n",
    "\n",
    "# Plot zeros\n",
    "for zero in zeros:\n",
    "    ax.plot(np.real(zero), np.imag(zero), 'bo', markersize=10, label='Zero')\n",
    "\n",
    "# Set axis labels\n",
    "ax.set_xlabel('Re')\n",
    "ax.set_ylabel('Im')\n",
    "\n",
    "# Set axis limits\n",
    "ax.set_xlim([-3, 3])\n",
    "ax.set_ylim([-3, 3])\n",
    "\n",
    "# Add grid\n",
    "ax.grid(True)\n",
    "\n",
    "# Add legend\n",
    "ax.legend()\n",
    "\n",
    "# Highlight the right half-plane\n",
    "ax.axvspan(0, 3, color='gray', alpha=0.3)\n",
    "\n",
    "# Show the plot\n",
    "plt.show()\n"
   ]
  },
  {
   "cell_type": "code",
   "execution_count": null,
   "metadata": {},
   "outputs": [],
   "source": []
  }
 ],
 "metadata": {
  "kernelspec": {
   "display_name": "Python 3",
   "language": "python",
   "name": "python3"
  },
  "language_info": {
   "codemirror_mode": {
    "name": "ipython",
    "version": 3
   },
   "file_extension": ".py",
   "mimetype": "text/x-python",
   "name": "python",
   "nbconvert_exporter": "python",
   "pygments_lexer": "ipython3",
   "version": "3.7.3"
  },
  "widgets": {
   "application/vnd.jupyter.widget-state+json": {
    "state": {},
    "version_major": 2,
    "version_minor": 0
   }
  }
 },
 "nbformat": 4,
 "nbformat_minor": 2
}
