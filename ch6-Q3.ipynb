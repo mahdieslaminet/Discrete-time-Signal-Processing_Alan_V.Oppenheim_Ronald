{
  "nbformat": 4,
  "nbformat_minor": 0,
  "metadata": {
    "colab": {
      "provenance": []
    },
    "kernelspec": {
      "name": "python3",
      "display_name": "Python 3"
    },
    "language_info": {
      "name": "python"
    }
  },
  "cells": [
    {
      "cell_type": "markdown",
      "source": [
        "سوال ۱ (۴ نمره)\n",
        "تابع زیر داده شده است:\n",
        "\n",
        "𝑓\n",
        "(\n",
        "𝑡\n",
        ")\n",
        "=\n",
        "𝑒\n",
        "−\n",
        "2\n",
        "𝑡\n",
        "𝑢\n",
        "(\n",
        "𝑡\n",
        ")\n",
        "+\n",
        "3\n",
        "𝛿\n",
        "(\n",
        "𝑡\n",
        "−\n",
        "1\n",
        ")\n",
        "\n",
        "\n",
        "\n",
        "الف) تبدیل لاپلاس این تابع را محاسبه کنید.\n",
        "\n",
        "\n",
        "ب) ناحیه همگرایی (ROC) را تعیین کنید."
      ],
      "metadata": {
        "id": "PDcQkHr9FoDb"
      }
    },
    {
      "cell_type": "code",
      "source": [
        "import sympy as sp\n",
        "\n",
        "t, s = sp.symbols('t s')\n",
        "f_t = sp.exp(-2*t) * sp.Heaviside(t) + 3 * sp.DiracDelta(t - 1)\n",
        "F_s = sp.laplace_transform(f_t, t, s, noconds=True)\n",
        "roc = \"Re(s) > -2\"\n",
        "\n",
        "print(\"Laplace Transform of f(t):\", F_s)\n",
        "print(\"Region of Convergence (ROC):\", roc)\n"
      ],
      "metadata": {
        "colab": {
          "base_uri": "https://localhost:8080/"
        },
        "id": "dN-BwhfJFj7Z",
        "outputId": "79347062-1655-479e-c056-ca832f17b505"
      },
      "execution_count": 5,
      "outputs": [
        {
          "output_type": "stream",
          "name": "stdout",
          "text": [
            "Laplace Transform of f(t): 3*exp(-s) + 1/(s + 2)\n",
            "Region of Convergence (ROC): Re(s) > -2\n"
          ]
        }
      ]
    },
    {
      "cell_type": "markdown",
      "source": [
        "سوال ۲ (۳ نمره)\n",
        "برای سیستمی با تابع تبدیل زیر:\n",
        "\n",
        "H(s)=s+2/s**2+3s+2\n",
        "\n",
        "الف) قطب‌ها و صفرهای سیستم را پیدا کنید.\n",
        "\n",
        "ب) آیا سیستم پایدار است؟ چرا؟\n",
        "\n"
      ],
      "metadata": {
        "id": "CPogr6-0F7CG"
      }
    },
    {
      "cell_type": "code",
      "source": [
        "import sympy as sp\n",
        "\n",
        "s = sp.Symbol('s')\n",
        "H_s = (s + 2) / (s**2 + 3*s + 2)\n",
        "\n",
        "poles = sp.solve(s**2 + 3*s + 2, s)\n",
        "zeros = sp.solve(s + 2, s)\n",
        "stability = all(sp.re(p) < 0 for p in poles)\n",
        "\n",
        "print(\"Poles:\", poles)\n",
        "print(\"Zeros:\", zeros)\n",
        "print(\"Is the system stable?\", \"Yes\" if stability else \"No\")\n"
      ],
      "metadata": {
        "colab": {
          "base_uri": "https://localhost:8080/"
        },
        "id": "Y3PPG-CCF6Vi",
        "outputId": "1cd7ab33-836f-4ea2-d62c-fa4b6f7462f1"
      },
      "execution_count": 6,
      "outputs": [
        {
          "output_type": "stream",
          "name": "stdout",
          "text": [
            "Poles: [-2, -1]\n",
            "Zeros: [-2]\n",
            "Is the system stable? Yes\n"
          ]
        }
      ]
    },
    {
      "cell_type": "markdown",
      "source": [
        "سوال ۳ (۴ نمره)\n",
        "تابع زیر را در حوزه لاپلاس بیابید:\n",
        "\n",
        "𝑓\n",
        "(\n",
        "𝑡\n",
        ")\n",
        "=\n",
        "𝑡\n",
        "𝑒\n",
        "−\n",
        "3\n",
        "𝑡\n",
        "𝑢\n",
        "(\n",
        "𝑡\n",
        ")\n",
        "\n"
      ],
      "metadata": {
        "id": "daNeGz8zHICd"
      }
    },
    {
      "cell_type": "code",
      "source": [
        "import sympy as sp\n",
        "\n",
        "t, s = sp.symbols('t s')\n",
        "f_t = t * sp.exp(-3*t) * sp.Heaviside(t)\n",
        "\n",
        "F_s = sp.laplace_transform(f_t, t, s, noconds=True)\n",
        "\n",
        "print(\"Laplace Transform of f(t):\", F_s)\n"
      ],
      "metadata": {
        "colab": {
          "base_uri": "https://localhost:8080/"
        },
        "id": "ke8cdzibHDrZ",
        "outputId": "0a9ed505-bbb7-46d3-8ce2-f1b3d71a233b"
      },
      "execution_count": 8,
      "outputs": [
        {
          "output_type": "stream",
          "name": "stdout",
          "text": [
            "Laplace Transform of f(t): (s + 3)**(-2)\n"
          ]
        }
      ]
    },
    {
      "cell_type": "markdown",
      "source": [
        "سوال ۴ (۵ نمره)\n",
        "سیستم زیر داده شده است:\n",
        "\n",
        "𝐻\n",
        "(\n",
        "𝑠\n",
        ")\n",
        "=\n",
        "1\n",
        "/\n",
        "s\n",
        "+\n",
        "1\n",
        "\n",
        "اگر ورودی سیستم\n",
        "𝑥\n",
        "(\n",
        "𝑡\n",
        ")\n",
        "=\n",
        "𝑒\n",
        "−\n",
        "2\n",
        "𝑡\n",
        "𝑢\n",
        "(\n",
        "𝑡\n",
        ")\n",
        " باشد، خروجی\n",
        "𝑦\n",
        "(\n",
        "𝑡\n",
        ")\n",
        "y(t) را با استفاده از قضیه کانولوشن در حوزه لاپلاس محاسبه کنید.\n",
        "\n"
      ],
      "metadata": {
        "id": "g5_ARfDhHtUu"
      }
    },
    {
      "cell_type": "code",
      "source": [
        "import sympy as sp\n",
        "\n",
        "s = sp.Symbol('s')\n",
        "X_s = 1 / (s + 2)  # Laplace of e^(-2t)u(t)\n",
        "H_s = 1 / (s + 1)\n",
        "\n",
        "Y_s = H_s * X_s  # Convolution in Laplace domain is multiplication\n",
        "y_t = sp.inverse_laplace_transform(Y_s, s, sp.Symbol('t'))\n",
        "\n",
        "print(\"Output y(t):\", y_t)\n"
      ],
      "metadata": {
        "colab": {
          "base_uri": "https://localhost:8080/"
        },
        "id": "bOdHO6-3HZkD",
        "outputId": "f343ba98-78b5-4547-8951-7dec48f92e45"
      },
      "execution_count": 9,
      "outputs": [
        {
          "output_type": "stream",
          "name": "stdout",
          "text": [
            "Output y(t): exp(-t)*Heaviside(t) - exp(-2*t)*Heaviside(t)\n"
          ]
        }
      ]
    },
    {
      "cell_type": "markdown",
      "source": [
        "ک مدار RLC با مقادیر R=1Ω، L=1H و C=1F داده شده است.\n",
        "\n",
        "الف) معادله دیفرانسیل مدار را برای ولتاژ خازن بنویسید.\n",
        "\n",
        "ب) تابع تبدیل را به دست اورید.\n"
      ],
      "metadata": {
        "id": "ucmpOBYDIJFM"
      }
    },
    {
      "cell_type": "code",
      "source": [
        "import sympy as sp\n",
        "\n",
        "s = sp.Symbol('s')\n",
        "R, L, C = 1, 1, 1\n",
        "\n",
        "# Laplace transform of the differential equation of the RLC circuit\n",
        "V_s = 1 / (L*C*s**2 + R*s + 1)\n",
        "\n",
        "print(\"Transfer function H(s):\", V_s)\n"
      ],
      "metadata": {
        "colab": {
          "base_uri": "https://localhost:8080/"
        },
        "id": "54s-mJVqIkOs",
        "outputId": "9ca1cbe7-5346-4ce2-995e-fdb142e4e597"
      },
      "execution_count": 10,
      "outputs": [
        {
          "output_type": "stream",
          "name": "stdout",
          "text": [
            "Transfer function H(s): 1/(s**2 + s + 1)\n"
          ]
        }
      ]
    }
  ]
}